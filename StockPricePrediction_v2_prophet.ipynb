{
 "cells": [
  {
   "cell_type": "markdown",
   "metadata": {},
   "source": [
    "# Objective\n",
    "* 20190213:\n",
    "    * Given prices for the last N days, we do prediction for the next N+H days, where H is the forecast horizon\n",
    "    * Instead of using last value method, we use prophet package to predict"
   ]
  },
  {
   "cell_type": "code",
   "execution_count": 1,
   "metadata": {},
   "outputs": [
    {
     "name": "stdout",
     "output_type": "stream",
     "text": [
      "No. of days in train+validation set = 1008\n"
     ]
    }
   ],
   "source": [
    "%matplotlib inline\n",
    "\n",
    "import math\n",
    "import matplotlib\n",
    "import multiprocessing\n",
    "import numpy as np\n",
    "import pandas as pd\n",
    "import pickle\n",
    "import seaborn as sns\n",
    "import time\n",
    "\n",
    "import warnings\n",
    "warnings.simplefilter(action='ignore', category=FutureWarning)\n",
    "\n",
    "from datetime import date, datetime, timedelta\n",
    "from fbprophet import Prophet\n",
    "from joblib import Parallel, delayed\n",
    "from matplotlib import pyplot as plt\n",
    "from pylab import rcParams\n",
    "from sklearn.metrics import mean_squared_error\n",
    "from tqdm import tqdm_notebook\n",
    "\n",
    "#### Input params ##################\n",
    "stk_path = \"./data/VTI_20130102_20181231.csv\"\n",
    "H = 21                          # Forecast horizon\n",
    "train_size = 252*3              # Use 3 years of data as train set. Note there are about 252 trading days in a year\n",
    "val_size = 252                  # Use 1 year of data as validation set\n",
    "changepoint_prior_scale_list = [0.05, 0.5, 1, 1.5, 2.5]     # for hyperparameter tuning\n",
    "fourier_order_list = [None, 2, 4, 6, 8, 10]                 # for hyperparameter tuning\n",
    "holidays_path = \"./data/holidays.csv\"                       # csv file containing holidays in the US\n",
    "window_list = [None, 0, 1, 2]                               # for hyperparameter tuning\n",
    "\n",
    "fontsize = 14\n",
    "ticklabelsize = 14\n",
    "####################################\n",
    "\n",
    "train_val_size = train_size + val_size # Size of train+validation set\n",
    "print(\"No. of days in train+validation set = \" + str(train_val_size))"
   ]
  },
  {
   "cell_type": "code",
   "execution_count": 2,
   "metadata": {
    "scrolled": true
   },
   "outputs": [
    {
     "name": "stdout",
     "output_type": "stream",
     "text": [
      "We will start forecasting on day 1009\n"
     ]
    }
   ],
   "source": [
    "print(\"We will start forecasting on day %d\" % (train_val_size+1))"
   ]
  },
  {
   "cell_type": "markdown",
   "metadata": {},
   "source": [
    "# Common functions"
   ]
  },
  {
   "cell_type": "code",
   "execution_count": 3,
   "metadata": {},
   "outputs": [],
   "source": [
    "def get_mape(y_true, y_pred): \n",
    "    \"\"\"\n",
    "    Compute mean absolute percentage error (MAPE)\n",
    "    \"\"\"\n",
    "    y_true, y_pred = np.array(y_true), np.array(y_pred)\n",
    "    return np.mean(np.abs((y_true - y_pred) / y_true)) * 100\n",
    "\n",
    "def get_mae(a, b):\n",
    "    \"\"\"\n",
    "    Comp mean absolute error e_t = E[|a_t - b_t|]. a and b can be lists.\n",
    "    Returns a vector of len = len(a) = len(b)\n",
    "    \"\"\"\n",
    "    return np.mean(abs(np.array(a)-np.array(b)))\n",
    "\n",
    "def get_rmse(a, b):\n",
    "    \"\"\"\n",
    "    Comp RMSE. a and b can be lists.\n",
    "    Returns a scalar.\n",
    "    \"\"\"\n",
    "    return math.sqrt(np.mean((np.array(a)-np.array(b))**2))\n",
    "\n",
    "def get_preds_prophet(df, H, changepoint_prior_scale=0.05, fourier_order=None, holidays=None):\n",
    "    \"\"\"\n",
    "    Use Prophet to forecast for the next H timesteps, starting at df[len(df)]\n",
    "    Inputs\n",
    "        df: dataframe with headers 'ds' and 'y' (necessary for Prophet)\n",
    "        H : forecast horizon\n",
    "        changepoint_prior_scale : to detect changepoints in time series analysis trajectories\n",
    "        fourier_order           : determines how quickly seasonality can change\n",
    "        holidays                : dataframe containing holidays you will like to model. \n",
    "                                  Must have 'holiday' and 'ds' columns\n",
    "    Outputs\n",
    "        A list of predictions\n",
    "    \"\"\"\n",
    "    # Fit prophet model\n",
    "    if holidays is not None:\n",
    "        m = Prophet(changepoint_prior_scale=changepoint_prior_scale, holidays=holidays)\n",
    "    else:\n",
    "        m = Prophet(changepoint_prior_scale=changepoint_prior_scale)\n",
    "    if (fourier_order is not None) and (~np.isnan(fourier_order)): # add monthly seasonality\n",
    "        m.add_seasonality(name='monthly', period=21, fourier_order=int(fourier_order))\n",
    "\n",
    "    m.fit(df)\n",
    "    \n",
    "    # Make future dataframe\n",
    "    future = m.make_future_dataframe(periods=2*H)\n",
    "    \n",
    "    # Eliminate weekend from future dataframe\n",
    "    future['day'] = future['ds'].dt.weekday\n",
    "    future = future[future['day']<=4]\n",
    "    \n",
    "    # Predict\n",
    "    forecast = m.predict(future) # Note this prediction includes the original dates\n",
    "    forecast[['ds', 'yhat', 'yhat_lower', 'yhat_upper']]\n",
    "\n",
    "    return forecast['yhat'][len(df):len(df)+H]\n",
    "    \n",
    "def get_error_metrics(df, H, train_size, val_size, changepoint_prior_scale=0.05, fourier_order=None, holidays=None):\n",
    "    \"\"\"\n",
    "    Given a dataframe consisting of both train+validation, do predictions of forecast horizon H on the validation set, \n",
    "    at H/2 intervals.\n",
    "    Inputs\n",
    "        df                     : dataframe with headers 'ds' and 'y' (necessary for Prophet)\n",
    "        H                      : forecast horizon\n",
    "        train_size             : length of training set\n",
    "        val_size               : length of validation set. Note len(df) = train_size + val_size\n",
    "        changepoint_prior_scale: to detect changepoints in time series analysis trajectories\n",
    "        fourier_order          : determines how quickly seasonality can change\n",
    "        holidays               : dataframe containing holidays you will like to model. \n",
    "                                 Must have 'holiday' and 'ds' columns\n",
    "    Outputs\n",
    "        mean of rmse, mean of mape, mean of mae, dict of predictions\n",
    "    \"\"\"\n",
    "    assert len(df) == train_size + val_size\n",
    "    \n",
    "    # Predict using Prophet, and compute error metrics also\n",
    "    rmse = [] # root mean square error\n",
    "    mape = [] # mean absolute percentage error\n",
    "    mae = []  # mean absolute error\n",
    "    preds_dict = {}\n",
    "    \n",
    "    rmse_mean, mape_mean, mae_mean = get_preds_prophet_parallelized(df, H, changepoint_prior_scale, fourier_order, holidays)\n",
    "\n",
    "    return rmse_mean, mape_mean, mae_mean, _\n",
    "\n",
    "def hyperparam_tune_cp(df, H, train_size, val_size, changepoint_prior_scale_list):\n",
    "    \"\"\"\n",
    "    Hyperparameter tuning - changepoint\n",
    "    Inputs\n",
    "        df                     : dataframe with headers 'ds' and 'y' (necessary for Prophet)\n",
    "        H                      : forecast horizon\n",
    "        train_size             : length of training set\n",
    "        val_size               : length of validation set. Note len(df) = train_size + val_size\n",
    "        changepoint_prior_scale_list: list of changepoint_prior_scale values to try\n",
    "    Outputs\n",
    "        optimum hyperparameters\n",
    "    \"\"\"\n",
    "    rmse_mean_list = []\n",
    "    mape_mean_list = []\n",
    "    mae_mean_list = []\n",
    "    for changepoint_prior_scale in tqdm_notebook(changepoint_prior_scale_list):\n",
    "        print(\"changepoint_prior_scale = \" + str(changepoint_prior_scale))\n",
    "        rmse_mean, mape_mean, mae_mean, _ = get_error_metrics(df, H, train_size, val_size, changepoint_prior_scale)\n",
    "        rmse_mean_list.append(rmse_mean)\n",
    "        mape_mean_list.append(mape_mean)\n",
    "        mae_mean_list.append(mae_mean)\n",
    "    \n",
    "    # Create results dataframe\n",
    "    results = pd.DataFrame({'changepoint_prior_scale': changepoint_prior_scale_list,\n",
    "                            'rmse': rmse_mean_list,\n",
    "                            'mape(%)': mape_mean_list,\n",
    "                            'mae': mae_mean_list})\n",
    "    \n",
    "    # Return hyperparam corresponding to lowest error metric\n",
    "    return changepoint_prior_scale_list[np.argmin(rmse_mean_list)], results\n",
    "\n",
    "def hyperparam_tune_fo(df, H, train_size, val_size, fourier_order_list):\n",
    "    \"\"\"\n",
    "    Hyperparameter tuning - fourier order\n",
    "    Inputs\n",
    "        df                     : dataframe with headers 'ds' and 'y' (necessary for Prophet)\n",
    "        H                      : forecast horizon\n",
    "        train_size             : length of training set\n",
    "        val_size               : length of validation set. Note len(df) = train_size + val_size\n",
    "        fourier_order_list     : list of fourier_order values to try\n",
    "    Outputs\n",
    "        optimum hyperparameters\n",
    "    \"\"\"\n",
    "    rmse_mean_list = []\n",
    "    mape_mean_list = []\n",
    "    mae_mean_list = []\n",
    "    for fourier_order in tqdm_notebook(fourier_order_list):\n",
    "        print(\"fourier_order = \" + str(fourier_order))\n",
    "        rmse_mean, mape_mean, mae_mean, _ = get_error_metrics(df, H, train_size, val_size, 0.05, fourier_order)\n",
    "        rmse_mean_list.append(rmse_mean)\n",
    "        mape_mean_list.append(mape_mean)\n",
    "        mae_mean_list.append(mae_mean)\n",
    "        \n",
    "    # Create results dataframe\n",
    "    results = pd.DataFrame({'fourier_order': fourier_order_list,\n",
    "                            'rmse': rmse_mean_list,\n",
    "                            'mape(%)': mape_mean_list,\n",
    "                            'mae': mae_mean_list})\n",
    "        \n",
    "    # Return hyperparam corresponding to lowest error metric\n",
    "    return fourier_order_list[np.argmin(rmse_mean_list)], results\n",
    "\n",
    "def hyperparam_tune_wd(df, H, train_size, val_size, window_list, holidays):\n",
    "    \"\"\"\n",
    "    Hyperparameter tuning - upper and lower windows for holidays\n",
    "    Inputs\n",
    "        df                     : dataframe with headers 'ds' and 'y' (necessary for Prophet)\n",
    "        H                      : forecast horizon\n",
    "        train_size             : length of training set\n",
    "        val_size               : length of validation set. Note len(df) = train_size + val_size\n",
    "        window_list            : list of upper and lower window values to try\n",
    "        holidays               : dataframe containing holidays you will like to model. \n",
    "                                 Must have 'holiday' and 'ds' columns\n",
    "    Outputs\n",
    "        optimum hyperparameters\n",
    "    \"\"\"\n",
    "    rmse_mean_list = []\n",
    "    mape_mean_list = []\n",
    "    mae_mean_list = []\n",
    "    for window in tqdm_notebook(window_list):\n",
    "        print(\"window = \" + str(window))\n",
    "        \n",
    "        if window is None:\n",
    "            rmse_mean, mape_mean, mae_mean, _ = get_error_metrics(df=df, \n",
    "                                                                  H=H, \n",
    "                                                                  train_size=train_size, \n",
    "                                                                  val_size=val_size, \n",
    "                                                                  holidays=None)\n",
    "        else:\n",
    "            # Add lower_window and upper_window which extend the holiday out to \n",
    "            # [lower_window, upper_window] days around the date\n",
    "            holidays['lower_window'] = -window\n",
    "            holidays['upper_window'] = +window\n",
    "        \n",
    "            rmse_mean, mape_mean, mae_mean, _ = get_error_metrics(df=df, \n",
    "                                                                  H=H, \n",
    "                                                                  train_size=train_size, \n",
    "                                                                  val_size=val_size, \n",
    "                                                                  holidays=holidays)\n",
    "        rmse_mean_list.append(rmse_mean)\n",
    "        mape_mean_list.append(mape_mean)\n",
    "        mae_mean_list.append(mae_mean)\n",
    "        \n",
    "    # Create results dataframe\n",
    "    results = pd.DataFrame({'window': window_list,\n",
    "                            'rmse': rmse_mean_list,\n",
    "                            'mape(%)': mape_mean_list,\n",
    "                            'mae': mae_mean_list})\n",
    "        \n",
    "    # Return hyperparam corresponding to lowest error metric\n",
    "    return window_list[np.argmin(rmse_mean_list)], results\n",
    "\n",
    "def hyperparam_tune_cp_fo_wd(df, H, train_size, val_size, changepoint_prior_scale_list, \n",
    "                             fourier_order_list, window_list, holidays):\n",
    "    \"\"\"\n",
    "    Hyperparameter tuning - changepoint, fourier_order, holidays\n",
    "    Inputs\n",
    "        df                     : dataframe with headers 'ds' and 'y' (necessary for Prophet)\n",
    "        H                      : forecast horizon\n",
    "        train_size             : length of training set\n",
    "        val_size               : length of validation set. Note len(df) = train_size + val_size\n",
    "        changepoint_prior_scale_list: list of changepoint_prior_scale values to try\n",
    "        fourier_order_list          : list of fourier_order values to try\n",
    "        window_list                 : list of upper and lower window values to try\n",
    "        holidays                    : dataframe containing holidays you will like to model. \n",
    "                                      Must have 'holiday' and 'ds' columns\n",
    "    Outputs\n",
    "        optimum hyperparameters\n",
    "    \"\"\"\n",
    "    rmse_mean_list = []\n",
    "    mape_mean_list = []\n",
    "    mae_mean_list = []\n",
    "    cp_list = []\n",
    "    fo_list = []\n",
    "    wd_list = []\n",
    "    for changepoint_prior_scale in tqdm_notebook(changepoint_prior_scale_list):\n",
    "        for fourier_order in tqdm_notebook(fourier_order_list):\n",
    "            for window in tqdm_notebook(window_list):\n",
    "                \n",
    "                if window is None:\n",
    "                    rmse_mean, mape_mean, mae_mean, _ = get_error_metrics(df, \n",
    "                                                                          H, \n",
    "                                                                          train_size, \n",
    "                                                                          val_size, \n",
    "                                                                          changepoint_prior_scale, \n",
    "                                                                          fourier_order, \n",
    "                                                                          holidays=None)\n",
    "                else:\n",
    "                    # Add lower_window and upper_window which extend the holiday out to \n",
    "                    # [lower_window, upper_window] days around the date\n",
    "                    holidays['lower_window'] = -window\n",
    "                    holidays['upper_window'] = +window\n",
    "        \n",
    "                    rmse_mean, mape_mean, mae_mean, _ = get_error_metrics(df, \n",
    "                                                                          H, \n",
    "                                                                          train_size, \n",
    "                                                                          val_size, \n",
    "                                                                          changepoint_prior_scale, \n",
    "                                                                          fourier_order, \n",
    "                                                                          holidays)\n",
    "                rmse_mean_list.append(rmse_mean)\n",
    "                mape_mean_list.append(mape_mean)\n",
    "                mae_mean_list.append(mae_mean)\n",
    "                cp_list.append(changepoint_prior_scale)\n",
    "                fo_list.append(fourier_order)\n",
    "                wd_list.append(window)\n",
    "        \n",
    "    # Return hyperparam corresponding to lowest error metric\n",
    "    results = pd.DataFrame({'changepoint_prior_scale': cp_list, \n",
    "                            'fourier_order': fo_list,\n",
    "                            'window': wd_list,\n",
    "                            'rmse': rmse_mean_list,\n",
    "                            'mape(%)': mape_mean_list,\n",
    "                            'mae': mae_mean_list})\n",
    "    temp = results[results['rmse'] == results['rmse'].min()]\n",
    "    changepoint_prior_scale_opt = temp['changepoint_prior_scale'].values[0]\n",
    "    fourier_order_opt = temp['fourier_order'].values[0]\n",
    "    window_opt = temp['window'].values[0]\n",
    "    \n",
    "    return changepoint_prior_scale_opt, fourier_order_opt, window_opt, results\n",
    "\n"
   ]
  },
  {
   "cell_type": "code",
   "execution_count": 4,
   "metadata": {},
   "outputs": [],
   "source": [
    "def processInput(i, df, H, changepoint_prior_scale, fourier_order, holidays):\n",
    "    preds_list = get_preds_prophet(df[i-train_size:i], H, changepoint_prior_scale, fourier_order, holidays)\n",
    "    \n",
    "    # Compute error metrics\n",
    "    rmse = get_rmse(df[i:i+H]['y'], preds_list)\n",
    "    mape = get_mape(df[i:i+H]['y'], preds_list)\n",
    "    mae = get_mae(df[i:i+H]['y'], preds_list)\n",
    "    \n",
    "    return (rmse, mape, mae)\n",
    "\n",
    "def get_preds_prophet_parallelized(df, H, changepoint_prior_scale=0.05, fourier_order=None, holidays=None):\n",
    "    \"\"\"\n",
    "    This is a parallelized implementation of get_preds_prophet.\n",
    "    Given a dataframe consisting of both train+validation, do predictions of forecast horizon H on the validation set, \n",
    "    at H/2 intervals.\n",
    "    Inputs\n",
    "        df                     : dataframe with headers 'ds' and 'y' (necessary for Prophet)\n",
    "        H                      : forecast horizon\n",
    "        train_size             : length of training set\n",
    "        val_size               : length of validation set. Note len(df) = train_size + val_size\n",
    "        changepoint_prior_scale: to detect changepoints in time series analysis trajectories\n",
    "        fourier_order          : determines how quickly seasonality can change\n",
    "        holidays               : dataframe containing holidays you will like to model. \n",
    "                                 Must have 'holiday' and 'ds' columns\n",
    "    Outputs\n",
    "        mean of rmse, mean of mape, mean of mae, dict of predictions\n",
    "    \"\"\"\n",
    "    inputs = range(train_size, len(df)-H, int(H/2))\n",
    "\n",
    "    num_cores = multiprocessing.cpu_count()\n",
    "\n",
    "    results = Parallel(n_jobs=num_cores)(delayed(processInput)(i, df, H, changepoint_prior_scale, fourier_order, holidays) for i in inputs)\n",
    "    # results has format [(rmse1, mape1, mae1), (rmse2, mape2, mae2), ...]\n",
    "\n",
    "    rmse = [errors[0] for errors in results]\n",
    "    mape = [errors[1] for errors in results]\n",
    "    mae = [errors[2] for errors in results]\n",
    "    \n",
    "    return np.mean(rmse), np.mean(mape), np.mean(mae)"
   ]
  },
  {
   "cell_type": "markdown",
   "metadata": {},
   "source": [
    "# Load data"
   ]
  },
  {
   "cell_type": "code",
   "execution_count": 5,
   "metadata": {},
   "outputs": [
    {
     "name": "stdout",
     "output_type": "stream",
     "text": [
      "len(df) = 1509\n"
     ]
    },
    {
     "data": {
      "text/html": [
       "<div>\n",
       "<style scoped>\n",
       "    .dataframe tbody tr th:only-of-type {\n",
       "        vertical-align: middle;\n",
       "    }\n",
       "\n",
       "    .dataframe tbody tr th {\n",
       "        vertical-align: top;\n",
       "    }\n",
       "\n",
       "    .dataframe thead th {\n",
       "        text-align: right;\n",
       "    }\n",
       "</style>\n",
       "<table border=\"1\" class=\"dataframe\">\n",
       "  <thead>\n",
       "    <tr style=\"text-align: right;\">\n",
       "      <th></th>\n",
       "      <th>date</th>\n",
       "      <th>open</th>\n",
       "      <th>high</th>\n",
       "      <th>low</th>\n",
       "      <th>close</th>\n",
       "      <th>adj_close</th>\n",
       "      <th>volume</th>\n",
       "    </tr>\n",
       "  </thead>\n",
       "  <tbody>\n",
       "    <tr>\n",
       "      <th>0</th>\n",
       "      <td>2013-01-02</td>\n",
       "      <td>74.529999</td>\n",
       "      <td>75.150002</td>\n",
       "      <td>74.500000</td>\n",
       "      <td>75.139999</td>\n",
       "      <td>66.997757</td>\n",
       "      <td>5037200</td>\n",
       "    </tr>\n",
       "    <tr>\n",
       "      <th>1</th>\n",
       "      <td>2013-01-03</td>\n",
       "      <td>75.120003</td>\n",
       "      <td>75.370003</td>\n",
       "      <td>74.839996</td>\n",
       "      <td>75.029999</td>\n",
       "      <td>66.899689</td>\n",
       "      <td>2634600</td>\n",
       "    </tr>\n",
       "    <tr>\n",
       "      <th>2</th>\n",
       "      <td>2013-01-04</td>\n",
       "      <td>75.139999</td>\n",
       "      <td>75.519997</td>\n",
       "      <td>74.989998</td>\n",
       "      <td>75.410004</td>\n",
       "      <td>67.238510</td>\n",
       "      <td>2512900</td>\n",
       "    </tr>\n",
       "    <tr>\n",
       "      <th>3</th>\n",
       "      <td>2013-01-07</td>\n",
       "      <td>75.180000</td>\n",
       "      <td>75.279999</td>\n",
       "      <td>74.949997</td>\n",
       "      <td>75.209999</td>\n",
       "      <td>67.060173</td>\n",
       "      <td>2511200</td>\n",
       "    </tr>\n",
       "    <tr>\n",
       "      <th>4</th>\n",
       "      <td>2013-01-08</td>\n",
       "      <td>75.110001</td>\n",
       "      <td>75.180000</td>\n",
       "      <td>74.699997</td>\n",
       "      <td>75.010002</td>\n",
       "      <td>66.881859</td>\n",
       "      <td>1407900</td>\n",
       "    </tr>\n",
       "    <tr>\n",
       "      <th>5</th>\n",
       "      <td>2013-01-09</td>\n",
       "      <td>75.190002</td>\n",
       "      <td>75.410004</td>\n",
       "      <td>75.110001</td>\n",
       "      <td>75.239998</td>\n",
       "      <td>67.086937</td>\n",
       "      <td>1421900</td>\n",
       "    </tr>\n",
       "    <tr>\n",
       "      <th>6</th>\n",
       "      <td>2013-01-10</td>\n",
       "      <td>75.620003</td>\n",
       "      <td>75.769997</td>\n",
       "      <td>75.220001</td>\n",
       "      <td>75.760002</td>\n",
       "      <td>67.550591</td>\n",
       "      <td>1403700</td>\n",
       "    </tr>\n",
       "    <tr>\n",
       "      <th>7</th>\n",
       "      <td>2013-01-11</td>\n",
       "      <td>75.760002</td>\n",
       "      <td>75.800003</td>\n",
       "      <td>75.510002</td>\n",
       "      <td>75.769997</td>\n",
       "      <td>67.559486</td>\n",
       "      <td>1248500</td>\n",
       "    </tr>\n",
       "    <tr>\n",
       "      <th>8</th>\n",
       "      <td>2013-01-14</td>\n",
       "      <td>75.750000</td>\n",
       "      <td>75.800003</td>\n",
       "      <td>75.440002</td>\n",
       "      <td>75.690002</td>\n",
       "      <td>67.488159</td>\n",
       "      <td>2745100</td>\n",
       "    </tr>\n",
       "    <tr>\n",
       "      <th>9</th>\n",
       "      <td>2013-01-15</td>\n",
       "      <td>75.400002</td>\n",
       "      <td>75.889999</td>\n",
       "      <td>75.339996</td>\n",
       "      <td>75.830002</td>\n",
       "      <td>67.612984</td>\n",
       "      <td>1109100</td>\n",
       "    </tr>\n",
       "  </tbody>\n",
       "</table>\n",
       "</div>"
      ],
      "text/plain": [
       "        date       open       high        low      close  adj_close   volume\n",
       "0 2013-01-02  74.529999  75.150002  74.500000  75.139999  66.997757  5037200\n",
       "1 2013-01-03  75.120003  75.370003  74.839996  75.029999  66.899689  2634600\n",
       "2 2013-01-04  75.139999  75.519997  74.989998  75.410004  67.238510  2512900\n",
       "3 2013-01-07  75.180000  75.279999  74.949997  75.209999  67.060173  2511200\n",
       "4 2013-01-08  75.110001  75.180000  74.699997  75.010002  66.881859  1407900\n",
       "5 2013-01-09  75.190002  75.410004  75.110001  75.239998  67.086937  1421900\n",
       "6 2013-01-10  75.620003  75.769997  75.220001  75.760002  67.550591  1403700\n",
       "7 2013-01-11  75.760002  75.800003  75.510002  75.769997  67.559486  1248500\n",
       "8 2013-01-14  75.750000  75.800003  75.440002  75.690002  67.488159  2745100\n",
       "9 2013-01-15  75.400002  75.889999  75.339996  75.830002  67.612984  1109100"
      ]
     },
     "execution_count": 5,
     "metadata": {},
     "output_type": "execute_result"
    }
   ],
   "source": [
    "df = pd.read_csv(stk_path, sep = \",\")\n",
    "\n",
    "# Convert Date column to datetime\n",
    "df.loc[:, 'Date'] = pd.to_datetime(df['Date'],format='%Y-%m-%d')\n",
    "\n",
    "# Change all column headings to be lower case, and remove spacing\n",
    "df.columns = [str(x).lower().replace(' ', '_') for x in df.columns]\n",
    "\n",
    "# Sort by datetime\n",
    "df.sort_values(by='date', inplace=True, ascending=True)\n",
    "\n",
    "# Get size of dataframe\n",
    "print(\"len(df) = \" + str(len(df)))\n",
    "\n",
    "df.head(10)"
   ]
  },
  {
   "cell_type": "code",
   "execution_count": 6,
   "metadata": {},
   "outputs": [
    {
     "data": {
      "text/plain": [
       "(Timestamp('2013-01-02 00:00:00'), Timestamp('2018-12-28 00:00:00'))"
      ]
     },
     "execution_count": 6,
     "metadata": {},
     "output_type": "execute_result"
    }
   ],
   "source": [
    "df['date'].min(), df['date'].max() "
   ]
  },
  {
   "cell_type": "code",
   "execution_count": 7,
   "metadata": {},
   "outputs": [
    {
     "data": {
      "text/plain": [
       "Text(0, 0.5, 'USD')"
      ]
     },
     "execution_count": 7,
     "metadata": {},
     "output_type": "execute_result"
    },
    {
     "data": {
      "image/png": "[encoded data removed]",
      "text/plain": [
       "<Figure size 720x576 with 1 Axes>"
      ]
     },
     "metadata": {
      "needs_background": "light"
     },
     "output_type": "display_data"
    }
   ],
   "source": [
    "# Plot adjusted close over time\n",
    "rcParams['figure.figsize'] = 10, 8 # width 10, height 8\n",
    "\n",
    "ax = df.plot(x='date', y='adj_close', style='b-', grid=True)\n",
    "ax.set_xlabel(\"date\")\n",
    "ax.set_ylabel(\"USD\")"
   ]
  },
  {
   "cell_type": "code",
   "execution_count": 8,
   "metadata": {
    "scrolled": true
   },
   "outputs": [
    {
     "data": {
      "text/html": [
       "<div>\n",
       "<style scoped>\n",
       "    .dataframe tbody tr th:only-of-type {\n",
       "        vertical-align: middle;\n",
       "    }\n",
       "\n",
       "    .dataframe tbody tr th {\n",
       "        vertical-align: top;\n",
       "    }\n",
       "\n",
       "    .dataframe thead th {\n",
       "        text-align: right;\n",
       "    }\n",
       "</style>\n",
       "<table border=\"1\" class=\"dataframe\">\n",
       "  <thead>\n",
       "    <tr style=\"text-align: right;\">\n",
       "      <th></th>\n",
       "      <th>ds</th>\n",
       "      <th>y</th>\n",
       "    </tr>\n",
       "  </thead>\n",
       "  <tbody>\n",
       "    <tr>\n",
       "      <th>0</th>\n",
       "      <td>2013-01-02</td>\n",
       "      <td>66.997757</td>\n",
       "    </tr>\n",
       "    <tr>\n",
       "      <th>1</th>\n",
       "      <td>2013-01-03</td>\n",
       "      <td>66.899689</td>\n",
       "    </tr>\n",
       "    <tr>\n",
       "      <th>2</th>\n",
       "      <td>2013-01-04</td>\n",
       "      <td>67.238510</td>\n",
       "    </tr>\n",
       "    <tr>\n",
       "      <th>3</th>\n",
       "      <td>2013-01-07</td>\n",
       "      <td>67.060173</td>\n",
       "    </tr>\n",
       "    <tr>\n",
       "      <th>4</th>\n",
       "      <td>2013-01-08</td>\n",
       "      <td>66.881859</td>\n",
       "    </tr>\n",
       "  </tbody>\n",
       "</table>\n",
       "</div>"
      ],
      "text/plain": [
       "          ds          y\n",
       "0 2013-01-02  66.997757\n",
       "1 2013-01-03  66.899689\n",
       "2 2013-01-04  67.238510\n",
       "3 2013-01-07  67.060173\n",
       "4 2013-01-08  66.881859"
      ]
     },
     "execution_count": 8,
     "metadata": {},
     "output_type": "execute_result"
    }
   ],
   "source": [
    "# Prepare dataframe for Prophet\n",
    "df_prophet = df[['date', 'adj_close']].rename(columns={'date':'ds', 'adj_close':'y'})\n",
    "df_prophet.head()"
   ]
  },
  {
   "cell_type": "markdown",
   "metadata": {},
   "source": [
    "# Predict for a specific H (forecast horizon) and a specific date"
   ]
  },
  {
   "cell_type": "code",
   "execution_count": 9,
   "metadata": {},
   "outputs": [
    {
     "name": "stdout",
     "output_type": "stream",
     "text": [
      "Predicting on day 1008, date 2017-01-03 00:00:00, with forecast horizon H = 21\n"
     ]
    }
   ],
   "source": [
    "i = train_val_size # Predict for day i, for the next H-1 days. Note indexing of days start from 0.\n",
    "print(\"Predicting on day %d, date %s, with forecast horizon H = %d\" % (i, df_prophet.iloc[i]['ds'], H))"
   ]
  },
  {
   "cell_type": "code",
   "execution_count": 10,
   "metadata": {
    "scrolled": true
   },
   "outputs": [
    {
     "name": "stderr",
     "output_type": "stream",
     "text": [
      "INFO:fbprophet:Disabling daily seasonality. Run prophet with daily_seasonality=True to override this.\n"
     ]
    },
    {
     "data": {
      "text/plain": [
       "<fbprophet.forecaster.Prophet at 0x1095e86d8>"
      ]
     },
     "execution_count": 10,
     "metadata": {},
     "output_type": "execute_result"
    }
   ],
   "source": [
    "# Fit prophet model\n",
    "m = Prophet()\n",
    "m.fit(df_prophet[i-train_val_size:i])"
   ]
  },
  {
   "cell_type": "code",
   "execution_count": 11,
   "metadata": {},
   "outputs": [],
   "source": [
    "# Create dataframe with the dates we want to predict\n",
    "future = m.make_future_dataframe(periods=2*H)"
   ]
  },
  {
   "cell_type": "markdown",
   "metadata": {},
   "source": [
    "According to https://facebook.github.io/prophet/docs/non-daily_data.html, since we do not have weekend data, we should eliminate it from the future dataframe before doing predictions."
   ]
  },
  {
   "cell_type": "code",
   "execution_count": 12,
   "metadata": {},
   "outputs": [
    {
     "data": {
      "text/html": [
       "<div>\n",
       "<style scoped>\n",
       "    .dataframe tbody tr th:only-of-type {\n",
       "        vertical-align: middle;\n",
       "    }\n",
       "\n",
       "    .dataframe tbody tr th {\n",
       "        vertical-align: top;\n",
       "    }\n",
       "\n",
       "    .dataframe thead th {\n",
       "        text-align: right;\n",
       "    }\n",
       "</style>\n",
       "<table border=\"1\" class=\"dataframe\">\n",
       "  <thead>\n",
       "    <tr style=\"text-align: right;\">\n",
       "      <th></th>\n",
       "      <th>ds</th>\n",
       "      <th>yhat</th>\n",
       "      <th>yhat_lower</th>\n",
       "      <th>yhat_upper</th>\n",
       "    </tr>\n",
       "  </thead>\n",
       "  <tbody>\n",
       "    <tr>\n",
       "      <th>1033</th>\n",
       "      <td>2017-02-06</td>\n",
       "      <td>110.138309</td>\n",
       "      <td>108.171743</td>\n",
       "      <td>112.152328</td>\n",
       "    </tr>\n",
       "    <tr>\n",
       "      <th>1034</th>\n",
       "      <td>2017-02-07</td>\n",
       "      <td>110.305862</td>\n",
       "      <td>108.216969</td>\n",
       "      <td>112.317882</td>\n",
       "    </tr>\n",
       "    <tr>\n",
       "      <th>1035</th>\n",
       "      <td>2017-02-08</td>\n",
       "      <td>110.460679</td>\n",
       "      <td>108.392779</td>\n",
       "      <td>112.450332</td>\n",
       "    </tr>\n",
       "    <tr>\n",
       "      <th>1036</th>\n",
       "      <td>2017-02-09</td>\n",
       "      <td>110.615133</td>\n",
       "      <td>108.468715</td>\n",
       "      <td>112.680811</td>\n",
       "    </tr>\n",
       "    <tr>\n",
       "      <th>1037</th>\n",
       "      <td>2017-02-10</td>\n",
       "      <td>110.715946</td>\n",
       "      <td>108.548085</td>\n",
       "      <td>112.653964</td>\n",
       "    </tr>\n",
       "  </tbody>\n",
       "</table>\n",
       "</div>"
      ],
      "text/plain": [
       "             ds        yhat  yhat_lower  yhat_upper\n",
       "1033 2017-02-06  110.138309  108.171743  112.152328\n",
       "1034 2017-02-07  110.305862  108.216969  112.317882\n",
       "1035 2017-02-08  110.460679  108.392779  112.450332\n",
       "1036 2017-02-09  110.615133  108.468715  112.680811\n",
       "1037 2017-02-10  110.715946  108.548085  112.653964"
      ]
     },
     "execution_count": 12,
     "metadata": {},
     "output_type": "execute_result"
    }
   ],
   "source": [
    "# Eliminate weekend from future dataframe\n",
    "future['day'] = future['ds'].dt.weekday\n",
    "future = future[future['day']<=4]\n",
    "\n",
    "# Predict\n",
    "forecast = m.predict(future)\n",
    "forecast[['ds', 'yhat', 'yhat_lower', 'yhat_upper']].tail()"
   ]
  },
  {
   "cell_type": "code",
   "execution_count": 13,
   "metadata": {},
   "outputs": [
    {
     "data": {
      "image/png": "[encoded data removed]",
      "text/plain": [
       "<Figure size 720x432 with 1 Axes>"
      ]
     },
     "metadata": {},
     "output_type": "display_data"
    }
   ],
   "source": [
    "# Plot\n",
    "m.plot(forecast);"
   ]
  },
  {
   "cell_type": "code",
   "execution_count": 14,
   "metadata": {},
   "outputs": [
    {
     "data": {
      "image/png": "[encoded data removed]",
      "text/plain": [
       "<Figure size 648x648 with 3 Axes>"
      ]
     },
     "metadata": {},
     "output_type": "display_data"
    }
   ],
   "source": [
    "# Plot components\n",
    "m.plot_components(forecast);"
   ]
  },
  {
   "cell_type": "code",
   "execution_count": 15,
   "metadata": {
    "scrolled": true
   },
   "outputs": [
    {
     "name": "stdout",
     "output_type": "stream",
     "text": [
      "For forecast horizon 21, predicting on day 1008, date 2017-01-03 00:00:00, the RMSE is 3.396327\n",
      "For forecast horizon 21, predicting on day 1008, date 2017-01-03 00:00:00, the mean MAPE is 2.871058\n",
      "For forecast horizon 21, predicting on day 1008, date 2017-01-03 00:00:00, the mean MAE is 3.245787\n"
     ]
    }
   ],
   "source": [
    "# Compute error metrics\n",
    "preds_list = forecast['yhat'][train_val_size:train_val_size+H]\n",
    "print(\"For forecast horizon %d, predicting on day %d, date %s, the RMSE is %f\" % (H, i, df['date'][i], get_rmse(df_prophet[i:i+H]['y'], preds_list)))\n",
    "print(\"For forecast horizon %d, predicting on day %d, date %s, the mean MAPE is %f\" % (H, i, df['date'][i], get_mape(df_prophet[i:i+H]['y'], preds_list)))\n",
    "print(\"For forecast horizon %d, predicting on day %d, date %s, the mean MAE is %f\" % (H, i, df['date'][i], get_mae(df_prophet[i:i+H]['y'], preds_list)))"
   ]
  },
  {
   "cell_type": "code",
   "execution_count": 16,
   "metadata": {},
   "outputs": [
    {
     "data": {
      "text/plain": [
       "(736269.0, 736388.0)"
      ]
     },
     "execution_count": 16,
     "metadata": {},
     "output_type": "execute_result"
    },
    {
     "data": {
      "image/png": "[encoded data removed]",
      "text/plain": [
       "<Figure size 720x576 with 1 Axes>"
      ]
     },
     "metadata": {
      "needs_background": "light"
     },
     "output_type": "display_data"
    }
   ],
   "source": [
    "# Plot the predictions\n",
    "rcParams['figure.figsize'] = 10, 8 # width 10, height 8\n",
    "matplotlib.rcParams.update({'font.size': 14})\n",
    "\n",
    "ax = df.plot(x='date', y='adj_close', style='bx-', grid=True)\n",
    "\n",
    "# Plot the predictions\n",
    "ax.plot(df['date'][i:i+H], preds_list, marker='x')\n",
    "    \n",
    "ax.set_xlabel(\"date\")\n",
    "ax.set_ylabel(\"USD\")\n",
    "ax.legend(['adj_close', 'predictions'])\n",
    "ax.set_ylim([105, 120])\n",
    "ax.set_xlim([date(2016, 11, 1), date(2017, 2, 28)])"
   ]
  },
  {
   "cell_type": "markdown",
   "metadata": {},
   "source": [
    "# Predict for a specific H (forecast horizon) and a specific date, with hyperparameter tuning - changepoint"
   ]
  },
  {
   "cell_type": "code",
   "execution_count": 164,
   "metadata": {},
   "outputs": [
    {
     "name": "stdout",
     "output_type": "stream",
     "text": [
      "Predicting on day 1008, date 2017-01-03 00:00:00, with forecast horizon H = 21\n"
     ]
    }
   ],
   "source": [
    "i = train_val_size # Predict for day i, for the next H-1 days. Note indexing of days start from 0.\n",
    "print(\"Predicting on day %d, date %s, with forecast horizon H = %d\" % (i, df_prophet.iloc[i]['ds'], H))"
   ]
  },
  {
   "cell_type": "code",
   "execution_count": 165,
   "metadata": {},
   "outputs": [
    {
     "data": {
      "application/vnd.jupyter.widget-view+json": {
       "model_id": "12c29dc50ac14a2681b5eea418c90c40",
       "version_major": 2,
       "version_minor": 0
      },
      "text/plain": [
       "HBox(children=(IntProgress(value=0, max=5), HTML(value='')))"
      ]
     },
     "metadata": {},
     "output_type": "display_data"
    },
    {
     "name": "stderr",
     "output_type": "stream",
     "text": [
      "INFO:fbprophet:Disabling daily seasonality. Run prophet with daily_seasonality=True to override this.\n"
     ]
    },
    {
     "name": "stdout",
     "output_type": "stream",
     "text": [
      "changepoint_prior_scale = 0.05\n"
     ]
    },
    {
     "name": "stderr",
     "output_type": "stream",
     "text": [
      "INFO:fbprophet:Disabling daily seasonality. Run prophet with daily_seasonality=True to override this.\n",
      "INFO:fbprophet:Disabling daily seasonality. Run prophet with daily_seasonality=True to override this.\n",
      "INFO:fbprophet:Disabling daily seasonality. Run prophet with daily_seasonality=True to override this.\n",
      "INFO:fbprophet:Disabling daily seasonality. Run prophet with daily_seasonality=True to override this.\n",
      "INFO:fbprophet:Disabling daily seasonality. Run prophet with daily_seasonality=True to override this.\n",
      "INFO:fbprophet:Disabling daily seasonality. Run prophet with daily_seasonality=True to override this.\n",
      "INFO:fbprophet:Disabling daily seasonality. Run prophet with daily_seasonality=True to override this.\n",
      "INFO:fbprophet:Disabling daily seasonality. Run prophet with daily_seasonality=True to override this.\n",
      "INFO:fbprophet:Disabling daily seasonality. Run prophet with daily_seasonality=True to override this.\n",
      "INFO:fbprophet:Disabling daily seasonality. Run prophet with daily_seasonality=True to override this.\n",
      "INFO:fbprophet:Disabling daily seasonality. Run prophet with daily_seasonality=True to override this.\n",
      "INFO:fbprophet:Disabling daily seasonality. Run prophet with daily_seasonality=True to override this.\n",
      "INFO:fbprophet:Disabling daily seasonality. Run prophet with daily_seasonality=True to override this.\n",
      "INFO:fbprophet:Disabling daily seasonality. Run prophet with daily_seasonality=True to override this.\n",
      "INFO:fbprophet:Disabling daily seasonality. Run prophet with daily_seasonality=True to override this.\n",
      "INFO:fbprophet:Disabling daily seasonality. Run prophet with daily_seasonality=True to override this.\n",
      "INFO:fbprophet:Disabling daily seasonality. Run prophet with daily_seasonality=True to override this.\n",
      "INFO:fbprophet:Disabling daily seasonality. Run prophet with daily_seasonality=True to override this.\n",
      "INFO:fbprophet:Disabling daily seasonality. Run prophet with daily_seasonality=True to override this.\n",
      "INFO:fbprophet:Disabling daily seasonality. Run prophet with daily_seasonality=True to override this.\n",
      "INFO:fbprophet:Disabling daily seasonality. Run prophet with daily_seasonality=True to override this.\n",
      "INFO:fbprophet:Disabling daily seasonality. Run prophet with daily_seasonality=True to override this.\n",
      "INFO:fbprophet:Disabling daily seasonality. Run prophet with daily_seasonality=True to override this.\n",
      "INFO:fbprophet:Disabling daily seasonality. Run prophet with daily_seasonality=True to override this.\n"
     ]
    },
    {
     "name": "stdout",
     "output_type": "stream",
     "text": [
      "changepoint_prior_scale = 0.5\n"
     ]
    },
    {
     "name": "stderr",
     "output_type": "stream",
     "text": [
      "INFO:fbprophet:Disabling daily seasonality. Run prophet with daily_seasonality=True to override this.\n",
      "INFO:fbprophet:Disabling daily seasonality. Run prophet with daily_seasonality=True to override this.\n",
      "INFO:fbprophet:Disabling daily seasonality. Run prophet with daily_seasonality=True to override this.\n",
      "INFO:fbprophet:Disabling daily seasonality. Run prophet with daily_seasonality=True to override this.\n",
      "INFO:fbprophet:Disabling daily seasonality. Run prophet with daily_seasonality=True to override this.\n",
      "INFO:fbprophet:Disabling daily seasonality. Run prophet with daily_seasonality=True to override this.\n",
      "INFO:fbprophet:Disabling daily seasonality. Run prophet with daily_seasonality=True to override this.\n",
      "INFO:fbprophet:Disabling daily seasonality. Run prophet with daily_seasonality=True to override this.\n",
      "INFO:fbprophet:Disabling daily seasonality. Run prophet with daily_seasonality=True to override this.\n",
      "INFO:fbprophet:Disabling daily seasonality. Run prophet with daily_seasonality=True to override this.\n",
      "INFO:fbprophet:Disabling daily seasonality. Run prophet with daily_seasonality=True to override this.\n",
      "INFO:fbprophet:Disabling daily seasonality. Run prophet with daily_seasonality=True to override this.\n",
      "INFO:fbprophet:Disabling daily seasonality. Run prophet with daily_seasonality=True to override this.\n",
      "INFO:fbprophet:Disabling daily seasonality. Run prophet with daily_seasonality=True to override this.\n",
      "INFO:fbprophet:Disabling daily seasonality. Run prophet with daily_seasonality=True to override this.\n",
      "INFO:fbprophet:Disabling daily seasonality. Run prophet with daily_seasonality=True to override this.\n",
      "INFO:fbprophet:Disabling daily seasonality. Run prophet with daily_seasonality=True to override this.\n",
      "INFO:fbprophet:Disabling daily seasonality. Run prophet with daily_seasonality=True to override this.\n",
      "INFO:fbprophet:Disabling daily seasonality. Run prophet with daily_seasonality=True to override this.\n",
      "INFO:fbprophet:Disabling daily seasonality. Run prophet with daily_seasonality=True to override this.\n",
      "INFO:fbprophet:Disabling daily seasonality. Run prophet with daily_seasonality=True to override this.\n",
      "INFO:fbprophet:Disabling daily seasonality. Run prophet with daily_seasonality=True to override this.\n",
      "INFO:fbprophet:Disabling daily seasonality. Run prophet with daily_seasonality=True to override this.\n",
      "INFO:fbprophet:Disabling daily seasonality. Run prophet with daily_seasonality=True to override this.\n"
     ]
    },
    {
     "name": "stdout",
     "output_type": "stream",
     "text": [
      "changepoint_prior_scale = 1\n"
     ]
    },
    {
     "name": "stderr",
     "output_type": "stream",
     "text": [
      "INFO:fbprophet:Disabling daily seasonality. Run prophet with daily_seasonality=True to override this.\n",
      "INFO:fbprophet:Disabling daily seasonality. Run prophet with daily_seasonality=True to override this.\n",
      "INFO:fbprophet:Disabling daily seasonality. Run prophet with daily_seasonality=True to override this.\n",
      "INFO:fbprophet:Disabling daily seasonality. Run prophet with daily_seasonality=True to override this.\n",
      "INFO:fbprophet:Disabling daily seasonality. Run prophet with daily_seasonality=True to override this.\n",
      "INFO:fbprophet:Disabling daily seasonality. Run prophet with daily_seasonality=True to override this.\n",
      "INFO:fbprophet:Disabling daily seasonality. Run prophet with daily_seasonality=True to override this.\n",
      "INFO:fbprophet:Disabling daily seasonality. Run prophet with daily_seasonality=True to override this.\n",
      "INFO:fbprophet:Disabling daily seasonality. Run prophet with daily_seasonality=True to override this.\n",
      "INFO:fbprophet:Disabling daily seasonality. Run prophet with daily_seasonality=True to override this.\n",
      "INFO:fbprophet:Disabling daily seasonality. Run prophet with daily_seasonality=True to override this.\n",
      "INFO:fbprophet:Disabling daily seasonality. Run prophet with daily_seasonality=True to override this.\n",
      "INFO:fbprophet:Disabling daily seasonality. Run prophet with daily_seasonality=True to override this.\n",
      "INFO:fbprophet:Disabling daily seasonality. Run prophet with daily_seasonality=True to override this.\n",
      "INFO:fbprophet:Disabling daily seasonality. Run prophet with daily_seasonality=True to override this.\n",
      "INFO:fbprophet:Disabling daily seasonality. Run prophet with daily_seasonality=True to override this.\n",
      "INFO:fbprophet:Disabling daily seasonality. Run prophet with daily_seasonality=True to override this.\n",
      "INFO:fbprophet:Disabling daily seasonality. Run prophet with daily_seasonality=True to override this.\n",
      "INFO:fbprophet:Disabling daily seasonality. Run prophet with daily_seasonality=True to override this.\n",
      "INFO:fbprophet:Disabling daily seasonality. Run prophet with daily_seasonality=True to override this.\n",
      "INFO:fbprophet:Disabling daily seasonality. Run prophet with daily_seasonality=True to override this.\n",
      "INFO:fbprophet:Disabling daily seasonality. Run prophet with daily_seasonality=True to override this.\n",
      "INFO:fbprophet:Disabling daily seasonality. Run prophet with daily_seasonality=True to override this.\n",
      "INFO:fbprophet:Disabling daily seasonality. Run prophet with daily_seasonality=True to override this.\n"
     ]
    },
    {
     "name": "stdout",
     "output_type": "stream",
     "text": [
      "changepoint_prior_scale = 1.5\n"
     ]
    },
    {
     "name": "stderr",
     "output_type": "stream",
     "text": [
      "INFO:fbprophet:Disabling daily seasonality. Run prophet with daily_seasonality=True to override this.\n",
      "INFO:fbprophet:Disabling daily seasonality. Run prophet with daily_seasonality=True to override this.\n",
      "INFO:fbprophet:Disabling daily seasonality. Run prophet with daily_seasonality=True to override this.\n",
      "INFO:fbprophet:Disabling daily seasonality. Run prophet with daily_seasonality=True to override this.\n",
      "INFO:fbprophet:Disabling daily seasonality. Run prophet with daily_seasonality=True to override this.\n",
      "INFO:fbprophet:Disabling daily seasonality. Run prophet with daily_seasonality=True to override this.\n",
      "INFO:fbprophet:Disabling daily seasonality. Run prophet with daily_seasonality=True to override this.\n",
      "INFO:fbprophet:Disabling daily seasonality. Run prophet with daily_seasonality=True to override this.\n",
      "INFO:fbprophet:Disabling daily seasonality. Run prophet with daily_seasonality=True to override this.\n",
      "INFO:fbprophet:Disabling daily seasonality. Run prophet with daily_seasonality=True to override this.\n",
      "INFO:fbprophet:Disabling daily seasonality. Run prophet with daily_seasonality=True to override this.\n",
      "INFO:fbprophet:Disabling daily seasonality. Run prophet with daily_seasonality=True to override this.\n",
      "INFO:fbprophet:Disabling daily seasonality. Run prophet with daily_seasonality=True to override this.\n",
      "INFO:fbprophet:Disabling daily seasonality. Run prophet with daily_seasonality=True to override this.\n",
      "INFO:fbprophet:Disabling daily seasonality. Run prophet with daily_seasonality=True to override this.\n",
      "INFO:fbprophet:Disabling daily seasonality. Run prophet with daily_seasonality=True to override this.\n",
      "INFO:fbprophet:Disabling daily seasonality. Run prophet with daily_seasonality=True to override this.\n",
      "INFO:fbprophet:Disabling daily seasonality. Run prophet with daily_seasonality=True to override this.\n",
      "INFO:fbprophet:Disabling daily seasonality. Run prophet with daily_seasonality=True to override this.\n",
      "INFO:fbprophet:Disabling daily seasonality. Run prophet with daily_seasonality=True to override this.\n",
      "INFO:fbprophet:Disabling daily seasonality. Run prophet with daily_seasonality=True to override this.\n",
      "INFO:fbprophet:Disabling daily seasonality. Run prophet with daily_seasonality=True to override this.\n",
      "INFO:fbprophet:Disabling daily seasonality. Run prophet with daily_seasonality=True to override this.\n",
      "INFO:fbprophet:Disabling daily seasonality. Run prophet with daily_seasonality=True to override this.\n"
     ]
    },
    {
     "name": "stdout",
     "output_type": "stream",
     "text": [
      "changepoint_prior_scale = 2.5\n"
     ]
    },
    {
     "name": "stderr",
     "output_type": "stream",
     "text": [
      "INFO:fbprophet:Disabling daily seasonality. Run prophet with daily_seasonality=True to override this.\n",
      "INFO:fbprophet:Disabling daily seasonality. Run prophet with daily_seasonality=True to override this.\n",
      "INFO:fbprophet:Disabling daily seasonality. Run prophet with daily_seasonality=True to override this.\n",
      "INFO:fbprophet:Disabling daily seasonality. Run prophet with daily_seasonality=True to override this.\n",
      "INFO:fbprophet:Disabling daily seasonality. Run prophet with daily_seasonality=True to override this.\n",
      "INFO:fbprophet:Disabling daily seasonality. Run prophet with daily_seasonality=True to override this.\n",
      "INFO:fbprophet:Disabling daily seasonality. Run prophet with daily_seasonality=True to override this.\n",
      "INFO:fbprophet:Disabling daily seasonality. Run prophet with daily_seasonality=True to override this.\n",
      "INFO:fbprophet:Disabling daily seasonality. Run prophet with daily_seasonality=True to override this.\n",
      "INFO:fbprophet:Disabling daily seasonality. Run prophet with daily_seasonality=True to override this.\n",
      "INFO:fbprophet:Disabling daily seasonality. Run prophet with daily_seasonality=True to override this.\n",
      "INFO:fbprophet:Disabling daily seasonality. Run prophet with daily_seasonality=True to override this.\n",
      "INFO:fbprophet:Disabling daily seasonality. Run prophet with daily_seasonality=True to override this.\n",
      "INFO:fbprophet:Disabling daily seasonality. Run prophet with daily_seasonality=True to override this.\n",
      "INFO:fbprophet:Disabling daily seasonality. Run prophet with daily_seasonality=True to override this.\n",
      "INFO:fbprophet:Disabling daily seasonality. Run prophet with daily_seasonality=True to override this.\n",
      "INFO:fbprophet:Disabling daily seasonality. Run prophet with daily_seasonality=True to override this.\n",
      "INFO:fbprophet:Disabling daily seasonality. Run prophet with daily_seasonality=True to override this.\n",
      "INFO:fbprophet:Disabling daily seasonality. Run prophet with daily_seasonality=True to override this.\n",
      "INFO:fbprophet:Disabling daily seasonality. Run prophet with daily_seasonality=True to override this.\n",
      "INFO:fbprophet:Disabling daily seasonality. Run prophet with daily_seasonality=True to override this.\n",
      "INFO:fbprophet:Disabling daily seasonality. Run prophet with daily_seasonality=True to override this.\n",
      "INFO:fbprophet:Disabling daily seasonality. Run prophet with daily_seasonality=True to override this.\n"
     ]
    },
    {
     "name": "stdout",
     "output_type": "stream",
     "text": [
      "Time taken = 7.640918513139089 mins\n",
      "changepoint_opt = 1\n"
     ]
    },
    {
     "data": {
      "text/html": [
       "<div>\n",
       "<style scoped>\n",
       "    .dataframe tbody tr th:only-of-type {\n",
       "        vertical-align: middle;\n",
       "    }\n",
       "\n",
       "    .dataframe tbody tr th {\n",
       "        vertical-align: top;\n",
       "    }\n",
       "\n",
       "    .dataframe thead th {\n",
       "        text-align: right;\n",
       "    }\n",
       "</style>\n",
       "<table border=\"1\" class=\"dataframe\">\n",
       "  <thead>\n",
       "    <tr style=\"text-align: right;\">\n",
       "      <th></th>\n",
       "      <th>changepoint_prior_scale</th>\n",
       "      <th>rmse</th>\n",
       "      <th>mape(%)</th>\n",
       "      <th>mae</th>\n",
       "    </tr>\n",
       "  </thead>\n",
       "  <tbody>\n",
       "    <tr>\n",
       "      <th>0</th>\n",
       "      <td>0.05</td>\n",
       "      <td>3.467608</td>\n",
       "      <td>3.161614</td>\n",
       "      <td>3.173839</td>\n",
       "    </tr>\n",
       "    <tr>\n",
       "      <th>1</th>\n",
       "      <td>0.50</td>\n",
       "      <td>3.411750</td>\n",
       "      <td>2.988456</td>\n",
       "      <td>3.040983</td>\n",
       "    </tr>\n",
       "    <tr>\n",
       "      <th>2</th>\n",
       "      <td>1.00</td>\n",
       "      <td>3.407146</td>\n",
       "      <td>2.979764</td>\n",
       "      <td>3.034377</td>\n",
       "    </tr>\n",
       "    <tr>\n",
       "      <th>3</th>\n",
       "      <td>1.50</td>\n",
       "      <td>3.431255</td>\n",
       "      <td>2.996462</td>\n",
       "      <td>3.055710</td>\n",
       "    </tr>\n",
       "    <tr>\n",
       "      <th>4</th>\n",
       "      <td>2.50</td>\n",
       "      <td>3.638491</td>\n",
       "      <td>3.177134</td>\n",
       "      <td>3.243204</td>\n",
       "    </tr>\n",
       "  </tbody>\n",
       "</table>\n",
       "</div>"
      ],
      "text/plain": [
       "   changepoint_prior_scale      rmse   mape(%)       mae\n",
       "0                     0.05  3.467608  3.161614  3.173839\n",
       "1                     0.50  3.411750  2.988456  3.040983\n",
       "2                     1.00  3.407146  2.979764  3.034377\n",
       "3                     1.50  3.431255  2.996462  3.055710\n",
       "4                     2.50  3.638491  3.177134  3.243204"
      ]
     },
     "execution_count": 165,
     "metadata": {},
     "output_type": "execute_result"
    }
   ],
   "source": [
    "# Get optimum hyperparams\n",
    "tic = time.time()\n",
    "changepoint_opt, results = hyperparam_tune_cp(df_prophet[i-train_val_size:i], \n",
    "                                              H, \n",
    "                                              train_size, \n",
    "                                              val_size, \n",
    "                                              changepoint_prior_scale_list)\n",
    "toc = time.time()\n",
    "print(\"Time taken = \" + str((toc-tic)/60.0) + \" mins\")\n",
    "\n",
    "print(\"changepoint_opt = \" + str(changepoint_opt))\n",
    "\n",
    "results"
   ]
  },
  {
   "cell_type": "code",
   "execution_count": 166,
   "metadata": {},
   "outputs": [
    {
     "name": "stderr",
     "output_type": "stream",
     "text": [
      "INFO:fbprophet:Disabling daily seasonality. Run prophet with daily_seasonality=True to override this.\n"
     ]
    },
    {
     "name": "stdout",
     "output_type": "stream",
     "text": [
      "For forecast horizon 21, predicting on day 1008, date 2017-01-03 00:00:00, the RMSE is 0.644656\n",
      "For forecast horizon 21, predicting on day 1008, date 2017-01-03 00:00:00, the mean MAPE is 0.516127\n",
      "For forecast horizon 21, predicting on day 1008, date 2017-01-03 00:00:00, the mean MAE is 0.582155\n"
     ]
    }
   ],
   "source": [
    "# Get predictions using tuned hyperparams\n",
    "preds_list = get_preds_prophet(df_prophet[i-train_val_size:i], H, changepoint_prior_scale=changepoint_opt)\n",
    "print(\"For forecast horizon %d, predicting on day %d, date %s, the RMSE is %f\" % (H, i, df['date'][i], get_rmse(df_prophet[i:i+H]['y'], preds_list)))\n",
    "print(\"For forecast horizon %d, predicting on day %d, date %s, the mean MAPE is %f\" % (H, i, df['date'][i], get_mape(df_prophet[i:i+H]['y'], preds_list)))\n",
    "print(\"For forecast horizon %d, predicting on day %d, date %s, the mean MAE is %f\" % (H, i, df['date'][i], get_mae(df_prophet[i:i+H]['y'], preds_list)))"
   ]
  },
  {
   "cell_type": "code",
   "execution_count": 167,
   "metadata": {},
   "outputs": [
    {
     "data": {
      "text/plain": [
       "(736269.0, 736388.0)"
      ]
     },
     "execution_count": 167,
     "metadata": {},
     "output_type": "execute_result"
    },
    {
     "data": {
      "image/png": "[encoded data removed]",
      "text/plain": [
       "<Figure size 720x576 with 1 Axes>"
      ]
     },
     "metadata": {
      "needs_background": "light"
     },
     "output_type": "display_data"
    }
   ],
   "source": [
    "# Plot the predictions\n",
    "rcParams['figure.figsize'] = 10, 8 # width 10, height 8\n",
    "\n",
    "ax = df.plot(x='date', y='adj_close', style='bx-', grid=True)\n",
    "\n",
    "# Plot the predictions\n",
    "ax.plot(df['date'][i:i+H], preds_list, marker='x')\n",
    "    \n",
    "ax.set_xlabel(\"date\")\n",
    "ax.set_ylabel(\"USD\")\n",
    "ax.legend(['adj_close', 'predictions'])\n",
    "ax.set_ylim([105, 120])\n",
    "ax.set_xlim([date(2016, 11, 1), date(2017, 2, 28)])"
   ]
  },
  {
   "cell_type": "markdown",
   "metadata": {},
   "source": [
    "With hyperparameter (changepoint_prior_scale) tuning, the predictions are more accurate"
   ]
  },
  {
   "cell_type": "markdown",
   "metadata": {},
   "source": [
    "# Predict for a specific H (forecast horizon) and a specific date, with hyperparameter tuning - monthly seasonality"
   ]
  },
  {
   "cell_type": "code",
   "execution_count": 16,
   "metadata": {},
   "outputs": [
    {
     "name": "stdout",
     "output_type": "stream",
     "text": [
      "Predicting on day 1008, date 2017-01-03 00:00:00, with forecast horizon H = 21\n"
     ]
    }
   ],
   "source": [
    "i = train_val_size # Predict for day i, for the next H-1 days. Note indexing of days start from 0.\n",
    "print(\"Predicting on day %d, date %s, with forecast horizon H = %d\" % (i, df_prophet.iloc[i]['ds'], H))"
   ]
  },
  {
   "cell_type": "code",
   "execution_count": 17,
   "metadata": {},
   "outputs": [
    {
     "data": {
      "application/vnd.jupyter.widget-view+json": {
       "model_id": "b74b7fe993004ec7ab9e2441e250d672",
       "version_major": 2,
       "version_minor": 0
      },
      "text/plain": [
       "HBox(children=(IntProgress(value=0, max=11), HTML(value='')))"
      ]
     },
     "metadata": {},
     "output_type": "display_data"
    },
    {
     "name": "stderr",
     "output_type": "stream",
     "text": [
      "INFO:fbprophet:Disabling daily seasonality. Run prophet with daily_seasonality=True to override this.\n"
     ]
    },
    {
     "name": "stdout",
     "output_type": "stream",
     "text": [
      "fourier_order = None\n"
     ]
    },
    {
     "name": "stderr",
     "output_type": "stream",
     "text": [
      "INFO:fbprophet:Disabling daily seasonality. Run prophet with daily_seasonality=True to override this.\n",
      "INFO:fbprophet:Disabling daily seasonality. Run prophet with daily_seasonality=True to override this.\n",
      "INFO:fbprophet:Disabling daily seasonality. Run prophet with daily_seasonality=True to override this.\n",
      "INFO:fbprophet:Disabling daily seasonality. Run prophet with daily_seasonality=True to override this.\n",
      "INFO:fbprophet:Disabling daily seasonality. Run prophet with daily_seasonality=True to override this.\n",
      "INFO:fbprophet:Disabling daily seasonality. Run prophet with daily_seasonality=True to override this.\n",
      "INFO:fbprophet:Disabling daily seasonality. Run prophet with daily_seasonality=True to override this.\n",
      "INFO:fbprophet:Disabling daily seasonality. Run prophet with daily_seasonality=True to override this.\n",
      "INFO:fbprophet:Disabling daily seasonality. Run prophet with daily_seasonality=True to override this.\n",
      "INFO:fbprophet:Disabling daily seasonality. Run prophet with daily_seasonality=True to override this.\n",
      "INFO:fbprophet:Disabling daily seasonality. Run prophet with daily_seasonality=True to override this.\n",
      "INFO:fbprophet:Disabling daily seasonality. Run prophet with daily_seasonality=True to override this.\n",
      "INFO:fbprophet:Disabling daily seasonality. Run prophet with daily_seasonality=True to override this.\n",
      "INFO:fbprophet:Disabling daily seasonality. Run prophet with daily_seasonality=True to override this.\n",
      "INFO:fbprophet:Disabling daily seasonality. Run prophet with daily_seasonality=True to override this.\n",
      "INFO:fbprophet:Disabling daily seasonality. Run prophet with daily_seasonality=True to override this.\n",
      "INFO:fbprophet:Disabling daily seasonality. Run prophet with daily_seasonality=True to override this.\n",
      "INFO:fbprophet:Disabling daily seasonality. Run prophet with daily_seasonality=True to override this.\n",
      "INFO:fbprophet:Disabling daily seasonality. Run prophet with daily_seasonality=True to override this.\n",
      "INFO:fbprophet:Disabling daily seasonality. Run prophet with daily_seasonality=True to override this.\n",
      "INFO:fbprophet:Disabling daily seasonality. Run prophet with daily_seasonality=True to override this.\n",
      "INFO:fbprophet:Disabling daily seasonality. Run prophet with daily_seasonality=True to override this.\n",
      "INFO:fbprophet:Disabling daily seasonality. Run prophet with daily_seasonality=True to override this.\n",
      "INFO:fbprophet:Disabling daily seasonality. Run prophet with daily_seasonality=True to override this.\n"
     ]
    },
    {
     "name": "stdout",
     "output_type": "stream",
     "text": [
      "fourier_order = 1\n"
     ]
    },
    {
     "name": "stderr",
     "output_type": "stream",
     "text": [
      "INFO:fbprophet:Disabling daily seasonality. Run prophet with daily_seasonality=True to override this.\n",
      "INFO:fbprophet:Disabling daily seasonality. Run prophet with daily_seasonality=True to override this.\n",
      "INFO:fbprophet:Disabling daily seasonality. Run prophet with daily_seasonality=True to override this.\n",
      "INFO:fbprophet:Disabling daily seasonality. Run prophet with daily_seasonality=True to override this.\n",
      "INFO:fbprophet:Disabling daily seasonality. Run prophet with daily_seasonality=True to override this.\n",
      "INFO:fbprophet:Disabling daily seasonality. Run prophet with daily_seasonality=True to override this.\n",
      "INFO:fbprophet:Disabling daily seasonality. Run prophet with daily_seasonality=True to override this.\n",
      "INFO:fbprophet:Disabling daily seasonality. Run prophet with daily_seasonality=True to override this.\n",
      "INFO:fbprophet:Disabling daily seasonality. Run prophet with daily_seasonality=True to override this.\n",
      "INFO:fbprophet:Disabling daily seasonality. Run prophet with daily_seasonality=True to override this.\n",
      "INFO:fbprophet:Disabling daily seasonality. Run prophet with daily_seasonality=True to override this.\n",
      "INFO:fbprophet:Disabling daily seasonality. Run prophet with daily_seasonality=True to override this.\n",
      "INFO:fbprophet:Disabling daily seasonality. Run prophet with daily_seasonality=True to override this.\n",
      "INFO:fbprophet:Disabling daily seasonality. Run prophet with daily_seasonality=True to override this.\n",
      "INFO:fbprophet:Disabling daily seasonality. Run prophet with daily_seasonality=True to override this.\n",
      "INFO:fbprophet:Disabling daily seasonality. Run prophet with daily_seasonality=True to override this.\n",
      "INFO:fbprophet:Disabling daily seasonality. Run prophet with daily_seasonality=True to override this.\n",
      "INFO:fbprophet:Disabling daily seasonality. Run prophet with daily_seasonality=True to override this.\n",
      "INFO:fbprophet:Disabling daily seasonality. Run prophet with daily_seasonality=True to override this.\n",
      "INFO:fbprophet:Disabling daily seasonality. Run prophet with daily_seasonality=True to override this.\n",
      "INFO:fbprophet:Disabling daily seasonality. Run prophet with daily_seasonality=True to override this.\n",
      "INFO:fbprophet:Disabling daily seasonality. Run prophet with daily_seasonality=True to override this.\n",
      "INFO:fbprophet:Disabling daily seasonality. Run prophet with daily_seasonality=True to override this.\n",
      "INFO:fbprophet:Disabling daily seasonality. Run prophet with daily_seasonality=True to override this.\n"
     ]
    },
    {
     "name": "stdout",
     "output_type": "stream",
     "text": [
      "fourier_order = 2\n"
     ]
    },
    {
     "name": "stderr",
     "output_type": "stream",
     "text": [
      "INFO:fbprophet:Disabling daily seasonality. Run prophet with daily_seasonality=True to override this.\n",
      "INFO:fbprophet:Disabling daily seasonality. Run prophet with daily_seasonality=True to override this.\n",
      "INFO:fbprophet:Disabling daily seasonality. Run prophet with daily_seasonality=True to override this.\n",
      "INFO:fbprophet:Disabling daily seasonality. Run prophet with daily_seasonality=True to override this.\n",
      "INFO:fbprophet:Disabling daily seasonality. Run prophet with daily_seasonality=True to override this.\n",
      "INFO:fbprophet:Disabling daily seasonality. Run prophet with daily_seasonality=True to override this.\n",
      "INFO:fbprophet:Disabling daily seasonality. Run prophet with daily_seasonality=True to override this.\n",
      "INFO:fbprophet:Disabling daily seasonality. Run prophet with daily_seasonality=True to override this.\n",
      "INFO:fbprophet:Disabling daily seasonality. Run prophet with daily_seasonality=True to override this.\n",
      "INFO:fbprophet:Disabling daily seasonality. Run prophet with daily_seasonality=True to override this.\n",
      "INFO:fbprophet:Disabling daily seasonality. Run prophet with daily_seasonality=True to override this.\n",
      "INFO:fbprophet:Disabling daily seasonality. Run prophet with daily_seasonality=True to override this.\n",
      "INFO:fbprophet:Disabling daily seasonality. Run prophet with daily_seasonality=True to override this.\n",
      "INFO:fbprophet:Disabling daily seasonality. Run prophet with daily_seasonality=True to override this.\n",
      "INFO:fbprophet:Disabling daily seasonality. Run prophet with daily_seasonality=True to override this.\n",
      "INFO:fbprophet:Disabling daily seasonality. Run prophet with daily_seasonality=True to override this.\n",
      "INFO:fbprophet:Disabling daily seasonality. Run prophet with daily_seasonality=True to override this.\n",
      "INFO:fbprophet:Disabling daily seasonality. Run prophet with daily_seasonality=True to override this.\n",
      "INFO:fbprophet:Disabling daily seasonality. Run prophet with daily_seasonality=True to override this.\n",
      "INFO:fbprophet:Disabling daily seasonality. Run prophet with daily_seasonality=True to override this.\n",
      "INFO:fbprophet:Disabling daily seasonality. Run prophet with daily_seasonality=True to override this.\n",
      "INFO:fbprophet:Disabling daily seasonality. Run prophet with daily_seasonality=True to override this.\n",
      "INFO:fbprophet:Disabling daily seasonality. Run prophet with daily_seasonality=True to override this.\n",
      "INFO:fbprophet:Disabling daily seasonality. Run prophet with daily_seasonality=True to override this.\n"
     ]
    },
    {
     "name": "stdout",
     "output_type": "stream",
     "text": [
      "fourier_order = 3\n"
     ]
    },
    {
     "name": "stderr",
     "output_type": "stream",
     "text": [
      "INFO:fbprophet:Disabling daily seasonality. Run prophet with daily_seasonality=True to override this.\n",
      "INFO:fbprophet:Disabling daily seasonality. Run prophet with daily_seasonality=True to override this.\n",
      "INFO:fbprophet:Disabling daily seasonality. Run prophet with daily_seasonality=True to override this.\n",
      "INFO:fbprophet:Disabling daily seasonality. Run prophet with daily_seasonality=True to override this.\n",
      "INFO:fbprophet:Disabling daily seasonality. Run prophet with daily_seasonality=True to override this.\n",
      "INFO:fbprophet:Disabling daily seasonality. Run prophet with daily_seasonality=True to override this.\n",
      "INFO:fbprophet:Disabling daily seasonality. Run prophet with daily_seasonality=True to override this.\n",
      "INFO:fbprophet:Disabling daily seasonality. Run prophet with daily_seasonality=True to override this.\n",
      "INFO:fbprophet:Disabling daily seasonality. Run prophet with daily_seasonality=True to override this.\n",
      "INFO:fbprophet:Disabling daily seasonality. Run prophet with daily_seasonality=True to override this.\n",
      "INFO:fbprophet:Disabling daily seasonality. Run prophet with daily_seasonality=True to override this.\n",
      "INFO:fbprophet:Disabling daily seasonality. Run prophet with daily_seasonality=True to override this.\n",
      "INFO:fbprophet:Disabling daily seasonality. Run prophet with daily_seasonality=True to override this.\n",
      "INFO:fbprophet:Disabling daily seasonality. Run prophet with daily_seasonality=True to override this.\n",
      "INFO:fbprophet:Disabling daily seasonality. Run prophet with daily_seasonality=True to override this.\n",
      "INFO:fbprophet:Disabling daily seasonality. Run prophet with daily_seasonality=True to override this.\n",
      "INFO:fbprophet:Disabling daily seasonality. Run prophet with daily_seasonality=True to override this.\n",
      "INFO:fbprophet:Disabling daily seasonality. Run prophet with daily_seasonality=True to override this.\n",
      "INFO:fbprophet:Disabling daily seasonality. Run prophet with daily_seasonality=True to override this.\n",
      "INFO:fbprophet:Disabling daily seasonality. Run prophet with daily_seasonality=True to override this.\n",
      "INFO:fbprophet:Disabling daily seasonality. Run prophet with daily_seasonality=True to override this.\n",
      "INFO:fbprophet:Disabling daily seasonality. Run prophet with daily_seasonality=True to override this.\n",
      "INFO:fbprophet:Disabling daily seasonality. Run prophet with daily_seasonality=True to override this.\n",
      "INFO:fbprophet:Disabling daily seasonality. Run prophet with daily_seasonality=True to override this.\n"
     ]
    },
    {
     "name": "stdout",
     "output_type": "stream",
     "text": [
      "fourier_order = 4\n"
     ]
    },
    {
     "name": "stderr",
     "output_type": "stream",
     "text": [
      "INFO:fbprophet:Disabling daily seasonality. Run prophet with daily_seasonality=True to override this.\n",
      "INFO:fbprophet:Disabling daily seasonality. Run prophet with daily_seasonality=True to override this.\n",
      "INFO:fbprophet:Disabling daily seasonality. Run prophet with daily_seasonality=True to override this.\n",
      "INFO:fbprophet:Disabling daily seasonality. Run prophet with daily_seasonality=True to override this.\n",
      "INFO:fbprophet:Disabling daily seasonality. Run prophet with daily_seasonality=True to override this.\n",
      "INFO:fbprophet:Disabling daily seasonality. Run prophet with daily_seasonality=True to override this.\n",
      "INFO:fbprophet:Disabling daily seasonality. Run prophet with daily_seasonality=True to override this.\n",
      "INFO:fbprophet:Disabling daily seasonality. Run prophet with daily_seasonality=True to override this.\n",
      "INFO:fbprophet:Disabling daily seasonality. Run prophet with daily_seasonality=True to override this.\n",
      "INFO:fbprophet:Disabling daily seasonality. Run prophet with daily_seasonality=True to override this.\n",
      "INFO:fbprophet:Disabling daily seasonality. Run prophet with daily_seasonality=True to override this.\n",
      "INFO:fbprophet:Disabling daily seasonality. Run prophet with daily_seasonality=True to override this.\n",
      "INFO:fbprophet:Disabling daily seasonality. Run prophet with daily_seasonality=True to override this.\n",
      "INFO:fbprophet:Disabling daily seasonality. Run prophet with daily_seasonality=True to override this.\n",
      "INFO:fbprophet:Disabling daily seasonality. Run prophet with daily_seasonality=True to override this.\n",
      "INFO:fbprophet:Disabling daily seasonality. Run prophet with daily_seasonality=True to override this.\n",
      "INFO:fbprophet:Disabling daily seasonality. Run prophet with daily_seasonality=True to override this.\n",
      "INFO:fbprophet:Disabling daily seasonality. Run prophet with daily_seasonality=True to override this.\n",
      "INFO:fbprophet:Disabling daily seasonality. Run prophet with daily_seasonality=True to override this.\n",
      "INFO:fbprophet:Disabling daily seasonality. Run prophet with daily_seasonality=True to override this.\n",
      "INFO:fbprophet:Disabling daily seasonality. Run prophet with daily_seasonality=True to override this.\n",
      "INFO:fbprophet:Disabling daily seasonality. Run prophet with daily_seasonality=True to override this.\n",
      "INFO:fbprophet:Disabling daily seasonality. Run prophet with daily_seasonality=True to override this.\n",
      "INFO:fbprophet:Disabling daily seasonality. Run prophet with daily_seasonality=True to override this.\n"
     ]
    },
    {
     "name": "stdout",
     "output_type": "stream",
     "text": [
      "fourier_order = 5\n"
     ]
    },
    {
     "name": "stderr",
     "output_type": "stream",
     "text": [
      "INFO:fbprophet:Disabling daily seasonality. Run prophet with daily_seasonality=True to override this.\n",
      "INFO:fbprophet:Disabling daily seasonality. Run prophet with daily_seasonality=True to override this.\n",
      "INFO:fbprophet:Disabling daily seasonality. Run prophet with daily_seasonality=True to override this.\n",
      "INFO:fbprophet:Disabling daily seasonality. Run prophet with daily_seasonality=True to override this.\n",
      "INFO:fbprophet:Disabling daily seasonality. Run prophet with daily_seasonality=True to override this.\n",
      "INFO:fbprophet:Disabling daily seasonality. Run prophet with daily_seasonality=True to override this.\n",
      "INFO:fbprophet:Disabling daily seasonality. Run prophet with daily_seasonality=True to override this.\n",
      "INFO:fbprophet:Disabling daily seasonality. Run prophet with daily_seasonality=True to override this.\n",
      "INFO:fbprophet:Disabling daily seasonality. Run prophet with daily_seasonality=True to override this.\n",
      "INFO:fbprophet:Disabling daily seasonality. Run prophet with daily_seasonality=True to override this.\n",
      "INFO:fbprophet:Disabling daily seasonality. Run prophet with daily_seasonality=True to override this.\n",
      "INFO:fbprophet:Disabling daily seasonality. Run prophet with daily_seasonality=True to override this.\n",
      "INFO:fbprophet:Disabling daily seasonality. Run prophet with daily_seasonality=True to override this.\n",
      "INFO:fbprophet:Disabling daily seasonality. Run prophet with daily_seasonality=True to override this.\n",
      "INFO:fbprophet:Disabling daily seasonality. Run prophet with daily_seasonality=True to override this.\n",
      "INFO:fbprophet:Disabling daily seasonality. Run prophet with daily_seasonality=True to override this.\n",
      "INFO:fbprophet:Disabling daily seasonality. Run prophet with daily_seasonality=True to override this.\n",
      "INFO:fbprophet:Disabling daily seasonality. Run prophet with daily_seasonality=True to override this.\n",
      "INFO:fbprophet:Disabling daily seasonality. Run prophet with daily_seasonality=True to override this.\n",
      "INFO:fbprophet:Disabling daily seasonality. Run prophet with daily_seasonality=True to override this.\n",
      "INFO:fbprophet:Disabling daily seasonality. Run prophet with daily_seasonality=True to override this.\n",
      "INFO:fbprophet:Disabling daily seasonality. Run prophet with daily_seasonality=True to override this.\n",
      "INFO:fbprophet:Disabling daily seasonality. Run prophet with daily_seasonality=True to override this.\n",
      "INFO:fbprophet:Disabling daily seasonality. Run prophet with daily_seasonality=True to override this.\n"
     ]
    },
    {
     "name": "stdout",
     "output_type": "stream",
     "text": [
      "fourier_order = 6\n"
     ]
    },
    {
     "name": "stderr",
     "output_type": "stream",
     "text": [
      "INFO:fbprophet:Disabling daily seasonality. Run prophet with daily_seasonality=True to override this.\n",
      "INFO:fbprophet:Disabling daily seasonality. Run prophet with daily_seasonality=True to override this.\n",
      "INFO:fbprophet:Disabling daily seasonality. Run prophet with daily_seasonality=True to override this.\n",
      "INFO:fbprophet:Disabling daily seasonality. Run prophet with daily_seasonality=True to override this.\n",
      "INFO:fbprophet:Disabling daily seasonality. Run prophet with daily_seasonality=True to override this.\n",
      "INFO:fbprophet:Disabling daily seasonality. Run prophet with daily_seasonality=True to override this.\n",
      "INFO:fbprophet:Disabling daily seasonality. Run prophet with daily_seasonality=True to override this.\n",
      "INFO:fbprophet:Disabling daily seasonality. Run prophet with daily_seasonality=True to override this.\n",
      "INFO:fbprophet:Disabling daily seasonality. Run prophet with daily_seasonality=True to override this.\n",
      "INFO:fbprophet:Disabling daily seasonality. Run prophet with daily_seasonality=True to override this.\n",
      "INFO:fbprophet:Disabling daily seasonality. Run prophet with daily_seasonality=True to override this.\n",
      "INFO:fbprophet:Disabling daily seasonality. Run prophet with daily_seasonality=True to override this.\n",
      "INFO:fbprophet:Disabling daily seasonality. Run prophet with daily_seasonality=True to override this.\n",
      "INFO:fbprophet:Disabling daily seasonality. Run prophet with daily_seasonality=True to override this.\n",
      "INFO:fbprophet:Disabling daily seasonality. Run prophet with daily_seasonality=True to override this.\n",
      "INFO:fbprophet:Disabling daily seasonality. Run prophet with daily_seasonality=True to override this.\n",
      "INFO:fbprophet:Disabling daily seasonality. Run prophet with daily_seasonality=True to override this.\n",
      "INFO:fbprophet:Disabling daily seasonality. Run prophet with daily_seasonality=True to override this.\n",
      "INFO:fbprophet:Disabling daily seasonality. Run prophet with daily_seasonality=True to override this.\n",
      "INFO:fbprophet:Disabling daily seasonality. Run prophet with daily_seasonality=True to override this.\n",
      "INFO:fbprophet:Disabling daily seasonality. Run prophet with daily_seasonality=True to override this.\n",
      "INFO:fbprophet:Disabling daily seasonality. Run prophet with daily_seasonality=True to override this.\n",
      "INFO:fbprophet:Disabling daily seasonality. Run prophet with daily_seasonality=True to override this.\n",
      "INFO:fbprophet:Disabling daily seasonality. Run prophet with daily_seasonality=True to override this.\n"
     ]
    },
    {
     "name": "stdout",
     "output_type": "stream",
     "text": [
      "fourier_order = 7\n"
     ]
    },
    {
     "name": "stderr",
     "output_type": "stream",
     "text": [
      "INFO:fbprophet:Disabling daily seasonality. Run prophet with daily_seasonality=True to override this.\n",
      "INFO:fbprophet:Disabling daily seasonality. Run prophet with daily_seasonality=True to override this.\n",
      "INFO:fbprophet:Disabling daily seasonality. Run prophet with daily_seasonality=True to override this.\n",
      "INFO:fbprophet:Disabling daily seasonality. Run prophet with daily_seasonality=True to override this.\n",
      "INFO:fbprophet:Disabling daily seasonality. Run prophet with daily_seasonality=True to override this.\n",
      "INFO:fbprophet:Disabling daily seasonality. Run prophet with daily_seasonality=True to override this.\n",
      "INFO:fbprophet:Disabling daily seasonality. Run prophet with daily_seasonality=True to override this.\n",
      "INFO:fbprophet:Disabling daily seasonality. Run prophet with daily_seasonality=True to override this.\n",
      "INFO:fbprophet:Disabling daily seasonality. Run prophet with daily_seasonality=True to override this.\n",
      "INFO:fbprophet:Disabling daily seasonality. Run prophet with daily_seasonality=True to override this.\n",
      "INFO:fbprophet:Disabling daily seasonality. Run prophet with daily_seasonality=True to override this.\n",
      "INFO:fbprophet:Disabling daily seasonality. Run prophet with daily_seasonality=True to override this.\n",
      "INFO:fbprophet:Disabling daily seasonality. Run prophet with daily_seasonality=True to override this.\n",
      "INFO:fbprophet:Disabling daily seasonality. Run prophet with daily_seasonality=True to override this.\n",
      "INFO:fbprophet:Disabling daily seasonality. Run prophet with daily_seasonality=True to override this.\n",
      "INFO:fbprophet:Disabling daily seasonality. Run prophet with daily_seasonality=True to override this.\n",
      "INFO:fbprophet:Disabling daily seasonality. Run prophet with daily_seasonality=True to override this.\n",
      "INFO:fbprophet:Disabling daily seasonality. Run prophet with daily_seasonality=True to override this.\n",
      "INFO:fbprophet:Disabling daily seasonality. Run prophet with daily_seasonality=True to override this.\n",
      "INFO:fbprophet:Disabling daily seasonality. Run prophet with daily_seasonality=True to override this.\n",
      "INFO:fbprophet:Disabling daily seasonality. Run prophet with daily_seasonality=True to override this.\n",
      "INFO:fbprophet:Disabling daily seasonality. Run prophet with daily_seasonality=True to override this.\n",
      "INFO:fbprophet:Disabling daily seasonality. Run prophet with daily_seasonality=True to override this.\n",
      "INFO:fbprophet:Disabling daily seasonality. Run prophet with daily_seasonality=True to override this.\n"
     ]
    },
    {
     "name": "stdout",
     "output_type": "stream",
     "text": [
      "fourier_order = 8\n"
     ]
    },
    {
     "name": "stderr",
     "output_type": "stream",
     "text": [
      "INFO:fbprophet:Disabling daily seasonality. Run prophet with daily_seasonality=True to override this.\n",
      "INFO:fbprophet:Disabling daily seasonality. Run prophet with daily_seasonality=True to override this.\n",
      "INFO:fbprophet:Disabling daily seasonality. Run prophet with daily_seasonality=True to override this.\n",
      "INFO:fbprophet:Disabling daily seasonality. Run prophet with daily_seasonality=True to override this.\n",
      "INFO:fbprophet:Disabling daily seasonality. Run prophet with daily_seasonality=True to override this.\n",
      "INFO:fbprophet:Disabling daily seasonality. Run prophet with daily_seasonality=True to override this.\n",
      "INFO:fbprophet:Disabling daily seasonality. Run prophet with daily_seasonality=True to override this.\n",
      "INFO:fbprophet:Disabling daily seasonality. Run prophet with daily_seasonality=True to override this.\n",
      "INFO:fbprophet:Disabling daily seasonality. Run prophet with daily_seasonality=True to override this.\n",
      "INFO:fbprophet:Disabling daily seasonality. Run prophet with daily_seasonality=True to override this.\n",
      "INFO:fbprophet:Disabling daily seasonality. Run prophet with daily_seasonality=True to override this.\n",
      "INFO:fbprophet:Disabling daily seasonality. Run prophet with daily_seasonality=True to override this.\n",
      "INFO:fbprophet:Disabling daily seasonality. Run prophet with daily_seasonality=True to override this.\n",
      "INFO:fbprophet:Disabling daily seasonality. Run prophet with daily_seasonality=True to override this.\n",
      "INFO:fbprophet:Disabling daily seasonality. Run prophet with daily_seasonality=True to override this.\n",
      "INFO:fbprophet:Disabling daily seasonality. Run prophet with daily_seasonality=True to override this.\n",
      "INFO:fbprophet:Disabling daily seasonality. Run prophet with daily_seasonality=True to override this.\n",
      "INFO:fbprophet:Disabling daily seasonality. Run prophet with daily_seasonality=True to override this.\n",
      "INFO:fbprophet:Disabling daily seasonality. Run prophet with daily_seasonality=True to override this.\n",
      "INFO:fbprophet:Disabling daily seasonality. Run prophet with daily_seasonality=True to override this.\n",
      "INFO:fbprophet:Disabling daily seasonality. Run prophet with daily_seasonality=True to override this.\n",
      "INFO:fbprophet:Disabling daily seasonality. Run prophet with daily_seasonality=True to override this.\n",
      "INFO:fbprophet:Disabling daily seasonality. Run prophet with daily_seasonality=True to override this.\n",
      "INFO:fbprophet:Disabling daily seasonality. Run prophet with daily_seasonality=True to override this.\n"
     ]
    },
    {
     "name": "stdout",
     "output_type": "stream",
     "text": [
      "fourier_order = 9\n"
     ]
    },
    {
     "name": "stderr",
     "output_type": "stream",
     "text": [
      "INFO:fbprophet:Disabling daily seasonality. Run prophet with daily_seasonality=True to override this.\n",
      "INFO:fbprophet:Disabling daily seasonality. Run prophet with daily_seasonality=True to override this.\n",
      "INFO:fbprophet:Disabling daily seasonality. Run prophet with daily_seasonality=True to override this.\n",
      "INFO:fbprophet:Disabling daily seasonality. Run prophet with daily_seasonality=True to override this.\n",
      "INFO:fbprophet:Disabling daily seasonality. Run prophet with daily_seasonality=True to override this.\n",
      "INFO:fbprophet:Disabling daily seasonality. Run prophet with daily_seasonality=True to override this.\n",
      "INFO:fbprophet:Disabling daily seasonality. Run prophet with daily_seasonality=True to override this.\n",
      "INFO:fbprophet:Disabling daily seasonality. Run prophet with daily_seasonality=True to override this.\n",
      "INFO:fbprophet:Disabling daily seasonality. Run prophet with daily_seasonality=True to override this.\n",
      "INFO:fbprophet:Disabling daily seasonality. Run prophet with daily_seasonality=True to override this.\n",
      "INFO:fbprophet:Disabling daily seasonality. Run prophet with daily_seasonality=True to override this.\n",
      "INFO:fbprophet:Disabling daily seasonality. Run prophet with daily_seasonality=True to override this.\n",
      "INFO:fbprophet:Disabling daily seasonality. Run prophet with daily_seasonality=True to override this.\n",
      "INFO:fbprophet:Disabling daily seasonality. Run prophet with daily_seasonality=True to override this.\n",
      "INFO:fbprophet:Disabling daily seasonality. Run prophet with daily_seasonality=True to override this.\n",
      "INFO:fbprophet:Disabling daily seasonality. Run prophet with daily_seasonality=True to override this.\n",
      "INFO:fbprophet:Disabling daily seasonality. Run prophet with daily_seasonality=True to override this.\n",
      "INFO:fbprophet:Disabling daily seasonality. Run prophet with daily_seasonality=True to override this.\n",
      "INFO:fbprophet:Disabling daily seasonality. Run prophet with daily_seasonality=True to override this.\n",
      "INFO:fbprophet:Disabling daily seasonality. Run prophet with daily_seasonality=True to override this.\n",
      "INFO:fbprophet:Disabling daily seasonality. Run prophet with daily_seasonality=True to override this.\n",
      "INFO:fbprophet:Disabling daily seasonality. Run prophet with daily_seasonality=True to override this.\n",
      "INFO:fbprophet:Disabling daily seasonality. Run prophet with daily_seasonality=True to override this.\n",
      "INFO:fbprophet:Disabling daily seasonality. Run prophet with daily_seasonality=True to override this.\n"
     ]
    },
    {
     "name": "stdout",
     "output_type": "stream",
     "text": [
      "fourier_order = 10\n"
     ]
    },
    {
     "name": "stderr",
     "output_type": "stream",
     "text": [
      "INFO:fbprophet:Disabling daily seasonality. Run prophet with daily_seasonality=True to override this.\n",
      "INFO:fbprophet:Disabling daily seasonality. Run prophet with daily_seasonality=True to override this.\n",
      "INFO:fbprophet:Disabling daily seasonality. Run prophet with daily_seasonality=True to override this.\n",
      "INFO:fbprophet:Disabling daily seasonality. Run prophet with daily_seasonality=True to override this.\n",
      "INFO:fbprophet:Disabling daily seasonality. Run prophet with daily_seasonality=True to override this.\n",
      "INFO:fbprophet:Disabling daily seasonality. Run prophet with daily_seasonality=True to override this.\n",
      "INFO:fbprophet:Disabling daily seasonality. Run prophet with daily_seasonality=True to override this.\n",
      "INFO:fbprophet:Disabling daily seasonality. Run prophet with daily_seasonality=True to override this.\n",
      "INFO:fbprophet:Disabling daily seasonality. Run prophet with daily_seasonality=True to override this.\n",
      "INFO:fbprophet:Disabling daily seasonality. Run prophet with daily_seasonality=True to override this.\n",
      "INFO:fbprophet:Disabling daily seasonality. Run prophet with daily_seasonality=True to override this.\n",
      "INFO:fbprophet:Disabling daily seasonality. Run prophet with daily_seasonality=True to override this.\n",
      "INFO:fbprophet:Disabling daily seasonality. Run prophet with daily_seasonality=True to override this.\n",
      "INFO:fbprophet:Disabling daily seasonality. Run prophet with daily_seasonality=True to override this.\n",
      "INFO:fbprophet:Disabling daily seasonality. Run prophet with daily_seasonality=True to override this.\n",
      "INFO:fbprophet:Disabling daily seasonality. Run prophet with daily_seasonality=True to override this.\n",
      "INFO:fbprophet:Disabling daily seasonality. Run prophet with daily_seasonality=True to override this.\n",
      "INFO:fbprophet:Disabling daily seasonality. Run prophet with daily_seasonality=True to override this.\n",
      "INFO:fbprophet:Disabling daily seasonality. Run prophet with daily_seasonality=True to override this.\n",
      "INFO:fbprophet:Disabling daily seasonality. Run prophet with daily_seasonality=True to override this.\n",
      "INFO:fbprophet:Disabling daily seasonality. Run prophet with daily_seasonality=True to override this.\n",
      "INFO:fbprophet:Disabling daily seasonality. Run prophet with daily_seasonality=True to override this.\n",
      "INFO:fbprophet:Disabling daily seasonality. Run prophet with daily_seasonality=True to override this.\n"
     ]
    },
    {
     "name": "stdout",
     "output_type": "stream",
     "text": [
      "\n",
      "Time taken = 16.987749270598094 mins\n",
      "fourier_order_opt = 3\n"
     ]
    },
    {
     "data": {
      "text/html": [
       "<div>\n",
       "<style scoped>\n",
       "    .dataframe tbody tr th:only-of-type {\n",
       "        vertical-align: middle;\n",
       "    }\n",
       "\n",
       "    .dataframe tbody tr th {\n",
       "        vertical-align: top;\n",
       "    }\n",
       "\n",
       "    .dataframe thead th {\n",
       "        text-align: right;\n",
       "    }\n",
       "</style>\n",
       "<table border=\"1\" class=\"dataframe\">\n",
       "  <thead>\n",
       "    <tr style=\"text-align: right;\">\n",
       "      <th></th>\n",
       "      <th>fourier_order</th>\n",
       "      <th>rmse</th>\n",
       "      <th>mape(%)</th>\n",
       "      <th>mae</th>\n",
       "    </tr>\n",
       "  </thead>\n",
       "  <tbody>\n",
       "    <tr>\n",
       "      <th>0</th>\n",
       "      <td>NaN</td>\n",
       "      <td>3.467608</td>\n",
       "      <td>3.161614</td>\n",
       "      <td>3.173839</td>\n",
       "    </tr>\n",
       "    <tr>\n",
       "      <th>1</th>\n",
       "      <td>1.0</td>\n",
       "      <td>3.473027</td>\n",
       "      <td>3.163003</td>\n",
       "      <td>3.176272</td>\n",
       "    </tr>\n",
       "    <tr>\n",
       "      <th>2</th>\n",
       "      <td>2.0</td>\n",
       "      <td>3.457502</td>\n",
       "      <td>3.152528</td>\n",
       "      <td>3.164549</td>\n",
       "    </tr>\n",
       "    <tr>\n",
       "      <th>3</th>\n",
       "      <td>3.0</td>\n",
       "      <td>3.451798</td>\n",
       "      <td>3.141990</td>\n",
       "      <td>3.153149</td>\n",
       "    </tr>\n",
       "    <tr>\n",
       "      <th>4</th>\n",
       "      <td>4.0</td>\n",
       "      <td>3.469035</td>\n",
       "      <td>3.162730</td>\n",
       "      <td>3.173878</td>\n",
       "    </tr>\n",
       "    <tr>\n",
       "      <th>5</th>\n",
       "      <td>5.0</td>\n",
       "      <td>3.488585</td>\n",
       "      <td>3.182254</td>\n",
       "      <td>3.194354</td>\n",
       "    </tr>\n",
       "    <tr>\n",
       "      <th>6</th>\n",
       "      <td>6.0</td>\n",
       "      <td>3.458108</td>\n",
       "      <td>3.150482</td>\n",
       "      <td>3.162692</td>\n",
       "    </tr>\n",
       "    <tr>\n",
       "      <th>7</th>\n",
       "      <td>7.0</td>\n",
       "      <td>3.477463</td>\n",
       "      <td>3.166942</td>\n",
       "      <td>3.178952</td>\n",
       "    </tr>\n",
       "    <tr>\n",
       "      <th>8</th>\n",
       "      <td>8.0</td>\n",
       "      <td>3.477309</td>\n",
       "      <td>3.167418</td>\n",
       "      <td>3.178861</td>\n",
       "    </tr>\n",
       "    <tr>\n",
       "      <th>9</th>\n",
       "      <td>9.0</td>\n",
       "      <td>3.453109</td>\n",
       "      <td>3.145581</td>\n",
       "      <td>3.157322</td>\n",
       "    </tr>\n",
       "    <tr>\n",
       "      <th>10</th>\n",
       "      <td>10.0</td>\n",
       "      <td>3.456579</td>\n",
       "      <td>3.147161</td>\n",
       "      <td>3.159089</td>\n",
       "    </tr>\n",
       "  </tbody>\n",
       "</table>\n",
       "</div>"
      ],
      "text/plain": [
       "    fourier_order      rmse   mape(%)       mae\n",
       "0             NaN  3.467608  3.161614  3.173839\n",
       "1             1.0  3.473027  3.163003  3.176272\n",
       "2             2.0  3.457502  3.152528  3.164549\n",
       "3             3.0  3.451798  3.141990  3.153149\n",
       "4             4.0  3.469035  3.162730  3.173878\n",
       "5             5.0  3.488585  3.182254  3.194354\n",
       "6             6.0  3.458108  3.150482  3.162692\n",
       "7             7.0  3.477463  3.166942  3.178952\n",
       "8             8.0  3.477309  3.167418  3.178861\n",
       "9             9.0  3.453109  3.145581  3.157322\n",
       "10           10.0  3.456579  3.147161  3.159089"
      ]
     },
     "execution_count": 17,
     "metadata": {},
     "output_type": "execute_result"
    }
   ],
   "source": [
    "# Get optimum hyperparams\n",
    "tic = time.time()\n",
    "fourier_order_opt, results = hyperparam_tune_fo(df_prophet[i-train_val_size:i], \n",
    "                                                H, \n",
    "                                                train_size, \n",
    "                                                val_size, \n",
    "                                                fourier_order_list)\n",
    "toc = time.time()\n",
    "print(\"Time taken = \" + str((toc-tic)/60.0) + \" mins\")\n",
    "\n",
    "print(\"fourier_order_opt = \" + str(fourier_order_opt))\n",
    "\n",
    "results"
   ]
  },
  {
   "cell_type": "code",
   "execution_count": 84,
   "metadata": {
    "scrolled": true
   },
   "outputs": [
    {
     "name": "stderr",
     "output_type": "stream",
     "text": [
      "INFO:fbprophet:Disabling daily seasonality. Run prophet with daily_seasonality=True to override this.\n"
     ]
    },
    {
     "name": "stdout",
     "output_type": "stream",
     "text": [
      "For forecast horizon 21, predicting on day 1008, date 2017-01-03 00:00:00, the RMSE is 3.524294\n",
      "For forecast horizon 21, predicting on day 1008, date 2017-01-03 00:00:00, the mean MAPE is 2.983402\n",
      "For forecast horizon 21, predicting on day 1008, date 2017-01-03 00:00:00, the mean MAE is 3.372747\n"
     ]
    }
   ],
   "source": [
    "# Get predictions using tuned hyperparams\n",
    "preds_list = get_preds_prophet(df_prophet[i-train_val_size:i], H, fourier_order=fourier_order_opt)\n",
    "print(\"For forecast horizon %d, predicting on day %d, date %s, the RMSE is %f\" % (H, i, df['date'][i], get_rmse(df_prophet[i:i+H]['y'], preds_list)))\n",
    "print(\"For forecast horizon %d, predicting on day %d, date %s, the mean MAPE is %f\" % (H, i, df['date'][i], get_mape(df_prophet[i:i+H]['y'], preds_list)))\n",
    "print(\"For forecast horizon %d, predicting on day %d, date %s, the mean MAE is %f\" % (H, i, df['date'][i], get_mae(df_prophet[i:i+H]['y'], preds_list)))"
   ]
  },
  {
   "cell_type": "code",
   "execution_count": 85,
   "metadata": {},
   "outputs": [
    {
     "data": {
      "text/plain": [
       "(736269.0, 736388.0)"
      ]
     },
     "execution_count": 85,
     "metadata": {},
     "output_type": "execute_result"
    },
    {
     "data": {
      "image/png": "[encoded data removed]",
      "text/plain": [
       "<Figure size 720x576 with 1 Axes>"
      ]
     },
     "metadata": {
      "needs_background": "light"
     },
     "output_type": "display_data"
    }
   ],
   "source": [
    "# Plot the predictions\n",
    "rcParams['figure.figsize'] = 10, 8 # width 10, height 8\n",
    "\n",
    "ax = df.plot(x='date', y='adj_close', style='bx-', grid=True)\n",
    "\n",
    "# Plot the predictions\n",
    "ax.plot(df['date'][i:i+H], preds_list, marker='x')\n",
    "    \n",
    "ax.set_xlabel(\"date\")\n",
    "ax.set_ylabel(\"USD\")\n",
    "ax.legend(['adj_close', 'predictions'])\n",
    "ax.set_ylim([105, 120])\n",
    "ax.set_xlim([date(2016, 11, 1), date(2017, 2, 28)])"
   ]
  },
  {
   "cell_type": "markdown",
   "metadata": {},
   "source": [
    "# Predict for a specific H (forecast horizon) and a specific date, with hyperparameter tuning - holidays"
   ]
  },
  {
   "cell_type": "code",
   "execution_count": 18,
   "metadata": {
    "scrolled": true
   },
   "outputs": [
    {
     "name": "stdout",
     "output_type": "stream",
     "text": [
      "Predicting on day 1008, date 2017-01-03 00:00:00, with forecast horizon H = 21\n"
     ]
    }
   ],
   "source": [
    "i = train_val_size # Predict for day i, for the next H-1 days. Note indexing of days start from 0.\n",
    "print(\"Predicting on day %d, date %s, with forecast horizon H = %d\" % (i, df_prophet.iloc[i]['ds'], H))"
   ]
  },
  {
   "cell_type": "code",
   "execution_count": 19,
   "metadata": {},
   "outputs": [
    {
     "data": {
      "text/html": [
       "<div>\n",
       "<style scoped>\n",
       "    .dataframe tbody tr th:only-of-type {\n",
       "        vertical-align: middle;\n",
       "    }\n",
       "\n",
       "    .dataframe tbody tr th {\n",
       "        vertical-align: top;\n",
       "    }\n",
       "\n",
       "    .dataframe thead th {\n",
       "        text-align: right;\n",
       "    }\n",
       "</style>\n",
       "<table border=\"1\" class=\"dataframe\">\n",
       "  <thead>\n",
       "    <tr style=\"text-align: right;\">\n",
       "      <th></th>\n",
       "      <th>ds</th>\n",
       "      <th>holiday</th>\n",
       "      <th>lower_window</th>\n",
       "      <th>upper_window</th>\n",
       "    </tr>\n",
       "  </thead>\n",
       "  <tbody>\n",
       "    <tr>\n",
       "      <th>0</th>\n",
       "      <td>2013-07-04</td>\n",
       "      <td>Independence Day</td>\n",
       "      <td>0</td>\n",
       "      <td>0</td>\n",
       "    </tr>\n",
       "    <tr>\n",
       "      <th>1</th>\n",
       "      <td>2013-09-02</td>\n",
       "      <td>Labor Day</td>\n",
       "      <td>0</td>\n",
       "      <td>0</td>\n",
       "    </tr>\n",
       "    <tr>\n",
       "      <th>2</th>\n",
       "      <td>2013-10-14</td>\n",
       "      <td>Columbus Day</td>\n",
       "      <td>0</td>\n",
       "      <td>0</td>\n",
       "    </tr>\n",
       "    <tr>\n",
       "      <th>3</th>\n",
       "      <td>2013-11-11</td>\n",
       "      <td>Veterans Day</td>\n",
       "      <td>0</td>\n",
       "      <td>0</td>\n",
       "    </tr>\n",
       "    <tr>\n",
       "      <th>4</th>\n",
       "      <td>2013-11-28</td>\n",
       "      <td>Thanksgiving Day</td>\n",
       "      <td>0</td>\n",
       "      <td>0</td>\n",
       "    </tr>\n",
       "  </tbody>\n",
       "</table>\n",
       "</div>"
      ],
      "text/plain": [
       "          ds           holiday  lower_window  upper_window\n",
       "0 2013-07-04  Independence Day             0             0\n",
       "1 2013-09-02         Labor Day             0             0\n",
       "2 2013-10-14      Columbus Day             0             0\n",
       "3 2013-11-11      Veterans Day             0             0\n",
       "4 2013-11-28  Thanksgiving Day             0             0"
      ]
     },
     "execution_count": 19,
     "metadata": {},
     "output_type": "execute_result"
    }
   ],
   "source": [
    "# Load holidays file\n",
    "hols = pd.read_csv(holidays_path, header=None, sep=\"\\t\", names=['ds', 'holiday'])\n",
    "\n",
    "# Convert Date column to datetime\n",
    "hols.loc[:, 'ds'] = pd.to_datetime(hols['ds'],format='%Y-%m-%d')\n",
    "\n",
    "# Add lower_window and upper_window which extend the holiday out to [lower_window, upper_window] days around the date\n",
    "hols['lower_window'] = 0\n",
    "hols['upper_window'] = 0\n",
    "\n",
    "hols.head()"
   ]
  },
  {
   "cell_type": "code",
   "execution_count": 20,
   "metadata": {},
   "outputs": [
    {
     "data": {
      "application/vnd.jupyter.widget-view+json": {
       "model_id": "5adc5bdaea304605abb7643681a603d5",
       "version_major": 2,
       "version_minor": 0
      },
      "text/plain": [
       "HBox(children=(IntProgress(value=0, max=4), HTML(value='')))"
      ]
     },
     "metadata": {},
     "output_type": "display_data"
    },
    {
     "name": "stdout",
     "output_type": "stream",
     "text": [
      "window = None\n",
      "window = 0\n",
      "window = 1\n",
      "window = 2\n",
      "\n",
      "Time taken = 2.8495988210042316 mins\n",
      "window_opt = None\n"
     ]
    },
    {
     "data": {
      "text/html": [
       "<div>\n",
       "<style scoped>\n",
       "    .dataframe tbody tr th:only-of-type {\n",
       "        vertical-align: middle;\n",
       "    }\n",
       "\n",
       "    .dataframe tbody tr th {\n",
       "        vertical-align: top;\n",
       "    }\n",
       "\n",
       "    .dataframe thead th {\n",
       "        text-align: right;\n",
       "    }\n",
       "</style>\n",
       "<table border=\"1\" class=\"dataframe\">\n",
       "  <thead>\n",
       "    <tr style=\"text-align: right;\">\n",
       "      <th></th>\n",
       "      <th>window</th>\n",
       "      <th>rmse</th>\n",
       "      <th>mape(%)</th>\n",
       "      <th>mae</th>\n",
       "    </tr>\n",
       "  </thead>\n",
       "  <tbody>\n",
       "    <tr>\n",
       "      <th>0</th>\n",
       "      <td>NaN</td>\n",
       "      <td>3.467608</td>\n",
       "      <td>3.161614</td>\n",
       "      <td>3.173839</td>\n",
       "    </tr>\n",
       "    <tr>\n",
       "      <th>1</th>\n",
       "      <td>0.0</td>\n",
       "      <td>3.473777</td>\n",
       "      <td>3.165241</td>\n",
       "      <td>3.177676</td>\n",
       "    </tr>\n",
       "    <tr>\n",
       "      <th>2</th>\n",
       "      <td>1.0</td>\n",
       "      <td>3.477157</td>\n",
       "      <td>3.156044</td>\n",
       "      <td>3.167002</td>\n",
       "    </tr>\n",
       "    <tr>\n",
       "      <th>3</th>\n",
       "      <td>2.0</td>\n",
       "      <td>3.512874</td>\n",
       "      <td>3.185587</td>\n",
       "      <td>3.195946</td>\n",
       "    </tr>\n",
       "  </tbody>\n",
       "</table>\n",
       "</div>"
      ],
      "text/plain": [
       "   window      rmse   mape(%)       mae\n",
       "0     NaN  3.467608  3.161614  3.173839\n",
       "1     0.0  3.473777  3.165241  3.177676\n",
       "2     1.0  3.477157  3.156044  3.167002\n",
       "3     2.0  3.512874  3.185587  3.195946"
      ]
     },
     "execution_count": 20,
     "metadata": {},
     "output_type": "execute_result"
    }
   ],
   "source": [
    "# Get optimum hyperparams\n",
    "tic = time.time()\n",
    "window_opt, results = hyperparam_tune_wd(df_prophet[i-train_val_size:i], \n",
    "                                         H, \n",
    "                                         train_size, \n",
    "                                         val_size, \n",
    "                                         window_list,\n",
    "                                         hols)\n",
    "toc = time.time()\n",
    "print(\"Time taken = \" + str((toc-tic)/60.0) + \" mins\")\n",
    "\n",
    "print(\"window_opt = \" + str(window_opt))\n",
    "\n",
    "results"
   ]
  },
  {
   "cell_type": "code",
   "execution_count": 23,
   "metadata": {},
   "outputs": [
    {
     "name": "stderr",
     "output_type": "stream",
     "text": [
      "INFO:fbprophet:Disabling daily seasonality. Run prophet with daily_seasonality=True to override this.\n"
     ]
    },
    {
     "name": "stdout",
     "output_type": "stream",
     "text": [
      "For forecast horizon 21, predicting on day 1008, date 2017-01-03 00:00:00, the RMSE is 3.396327\n",
      "For forecast horizon 21, predicting on day 1008, date 2017-01-03 00:00:00, the mean MAPE is 2.871058\n",
      "For forecast horizon 21, predicting on day 1008, date 2017-01-03 00:00:00, the mean MAE is 3.245787\n"
     ]
    }
   ],
   "source": [
    "# Get predictions using tuned hyperparams\n",
    "if window_opt is None:\n",
    "    preds_list = get_preds_prophet(df_prophet[i-train_val_size:i], H, holidays=None)\n",
    "else:\n",
    "    hols['lower_window'] = -window_opt\n",
    "    hols['upper_window'] = +window_opt\n",
    "    preds_list = get_preds_prophet(df_prophet[i-train_val_size:i], H, holidays=hols)\n",
    "print(\"For forecast horizon %d, predicting on day %d, date %s, the RMSE is %f\" % (H, i, df['date'][i], get_rmse(df_prophet[i:i+H]['y'], preds_list)))\n",
    "print(\"For forecast horizon %d, predicting on day %d, date %s, the mean MAPE is %f\" % (H, i, df['date'][i], get_mape(df_prophet[i:i+H]['y'], preds_list)))\n",
    "print(\"For forecast horizon %d, predicting on day %d, date %s, the mean MAE is %f\" % (H, i, df['date'][i], get_mae(df_prophet[i:i+H]['y'], preds_list)))"
   ]
  },
  {
   "cell_type": "code",
   "execution_count": 24,
   "metadata": {},
   "outputs": [
    {
     "data": {
      "text/plain": [
       "(736269.0, 736388.0)"
      ]
     },
     "execution_count": 24,
     "metadata": {},
     "output_type": "execute_result"
    },
    {
     "data": {
      "image/png": "[encoded data removed]",
      "text/plain": [
       "<Figure size 720x576 with 1 Axes>"
      ]
     },
     "metadata": {
      "needs_background": "light"
     },
     "output_type": "display_data"
    }
   ],
   "source": [
    "# Plot the predictions\n",
    "rcParams['figure.figsize'] = 10, 8 # width 10, height 8\n",
    "\n",
    "ax = df.plot(x='date', y='adj_close', style='bx-', grid=True)\n",
    "\n",
    "# Plot the predictions\n",
    "ax.plot(df['date'][i:i+H], preds_list, marker='x')\n",
    "    \n",
    "ax.set_xlabel(\"date\")\n",
    "ax.set_ylabel(\"USD\")\n",
    "ax.legend(['adj_close', 'predictions'])\n",
    "ax.set_ylim([105, 120])\n",
    "ax.set_xlim([date(2016, 11, 1), date(2017, 2, 28)])"
   ]
  },
  {
   "cell_type": "markdown",
   "metadata": {},
   "source": [
    "# Predict for a specific H (forecast horizon) and a specific date, with hyperparameter tuning - changepoint, monthly seasonality, holidays"
   ]
  },
  {
   "cell_type": "code",
   "execution_count": 28,
   "metadata": {},
   "outputs": [
    {
     "name": "stdout",
     "output_type": "stream",
     "text": [
      "Predicting on day 1008, date 2017-01-03 00:00:00, with forecast horizon H = 21\n"
     ]
    }
   ],
   "source": [
    "i = train_val_size # Predict for day i, for the next H-1 days. Note indexing of days start from 0.\n",
    "print(\"Predicting on day %d, date %s, with forecast horizon H = %d\" % (i, df_prophet.iloc[i]['ds'], H))"
   ]
  },
  {
   "cell_type": "code",
   "execution_count": 29,
   "metadata": {},
   "outputs": [
    {
     "data": {
      "application/vnd.jupyter.widget-view+json": {
       "model_id": "540e0bff077f4b05b442e9a351d5f383",
       "version_major": 2,
       "version_minor": 0
      },
      "text/plain": [
       "HBox(children=(IntProgress(value=0, max=5), HTML(value='')))"
      ]
     },
     "metadata": {},
     "output_type": "display_data"
    },
    {
     "data": {
      "application/vnd.jupyter.widget-view+json": {
       "model_id": "b1917f871321482fb76e5aa2db8cc941",
       "version_major": 2,
       "version_minor": 0
      },
      "text/plain": [
       "HBox(children=(IntProgress(value=0, max=6), HTML(value='')))"
      ]
     },
     "metadata": {},
     "output_type": "display_data"
    },
    {
     "data": {
      "application/vnd.jupyter.widget-view+json": {
       "model_id": "5a869fe5da1144efae6fb1978cbbdb3a",
       "version_major": 2,
       "version_minor": 0
      },
      "text/plain": [
       "HBox(children=(IntProgress(value=0, max=4), HTML(value='')))"
      ]
     },
     "metadata": {},
     "output_type": "display_data"
    },
    {
     "data": {
      "application/vnd.jupyter.widget-view+json": {
       "model_id": "7ea32779688847a9b791003426df8153",
       "version_major": 2,
       "version_minor": 0
      },
      "text/plain": [
       "HBox(children=(IntProgress(value=0, max=4), HTML(value='')))"
      ]
     },
     "metadata": {},
     "output_type": "display_data"
    },
    {
     "data": {
      "application/vnd.jupyter.widget-view+json": {
       "model_id": "59d46ccc2a684fa292b123d0f636ca6f",
       "version_major": 2,
       "version_minor": 0
      },
      "text/plain": [
       "HBox(children=(IntProgress(value=0, max=4), HTML(value='')))"
      ]
     },
     "metadata": {},
     "output_type": "display_data"
    },
    {
     "data": {
      "application/vnd.jupyter.widget-view+json": {
       "model_id": "442db6b6ebe04f669e942c8db5be693b",
       "version_major": 2,
       "version_minor": 0
      },
      "text/plain": [
       "HBox(children=(IntProgress(value=0, max=4), HTML(value='')))"
      ]
     },
     "metadata": {},
     "output_type": "display_data"
    },
    {
     "data": {
      "application/vnd.jupyter.widget-view+json": {
       "model_id": "a179681633884d6bbed775fa67710726",
       "version_major": 2,
       "version_minor": 0
      },
      "text/plain": [
       "HBox(children=(IntProgress(value=0, max=4), HTML(value='')))"
      ]
     },
     "metadata": {},
     "output_type": "display_data"
    },
    {
     "data": {
      "application/vnd.jupyter.widget-view+json": {
       "model_id": "e280f947aab9463c9d75abded977df4d",
       "version_major": 2,
       "version_minor": 0
      },
      "text/plain": [
       "HBox(children=(IntProgress(value=0, max=4), HTML(value='')))"
      ]
     },
     "metadata": {},
     "output_type": "display_data"
    },
    {
     "data": {
      "application/vnd.jupyter.widget-view+json": {
       "model_id": "5ecf0786fb2f4fe4bea1ff590a1df091",
       "version_major": 2,
       "version_minor": 0
      },
      "text/plain": [
       "HBox(children=(IntProgress(value=0, max=6), HTML(value='')))"
      ]
     },
     "metadata": {},
     "output_type": "display_data"
    },
    {
     "data": {
      "application/vnd.jupyter.widget-view+json": {
       "model_id": "64358f4a21ae424c9c3cbece432798c3",
       "version_major": 2,
       "version_minor": 0
      },
      "text/plain": [
       "HBox(children=(IntProgress(value=0, max=4), HTML(value='')))"
      ]
     },
     "metadata": {},
     "output_type": "display_data"
    },
    {
     "data": {
      "application/vnd.jupyter.widget-view+json": {
       "model_id": "2e30ef97f71246cb94e40879b4c87db2",
       "version_major": 2,
       "version_minor": 0
      },
      "text/plain": [
       "HBox(children=(IntProgress(value=0, max=4), HTML(value='')))"
      ]
     },
     "metadata": {},
     "output_type": "display_data"
    },
    {
     "data": {
      "application/vnd.jupyter.widget-view+json": {
       "model_id": "9efb65fd67ad43e8add0918661caf604",
       "version_major": 2,
       "version_minor": 0
      },
      "text/plain": [
       "HBox(children=(IntProgress(value=0, max=4), HTML(value='')))"
      ]
     },
     "metadata": {},
     "output_type": "display_data"
    },
    {
     "data": {
      "application/vnd.jupyter.widget-view+json": {
       "model_id": "5b762b47632843229720c9f0a94881da",
       "version_major": 2,
       "version_minor": 0
      },
      "text/plain": [
       "HBox(children=(IntProgress(value=0, max=4), HTML(value='')))"
      ]
     },
     "metadata": {},
     "output_type": "display_data"
    },
    {
     "data": {
      "application/vnd.jupyter.widget-view+json": {
       "model_id": "c199b70589cd4e9f8d1420ddc481943a",
       "version_major": 2,
       "version_minor": 0
      },
      "text/plain": [
       "HBox(children=(IntProgress(value=0, max=4), HTML(value='')))"
      ]
     },
     "metadata": {},
     "output_type": "display_data"
    },
    {
     "data": {
      "application/vnd.jupyter.widget-view+json": {
       "model_id": "664a0cd7b7384e40a6703b778cc2737c",
       "version_major": 2,
       "version_minor": 0
      },
      "text/plain": [
       "HBox(children=(IntProgress(value=0, max=4), HTML(value='')))"
      ]
     },
     "metadata": {},
     "output_type": "display_data"
    },
    {
     "data": {
      "application/vnd.jupyter.widget-view+json": {
       "model_id": "2df83a118c504e43bdc645c3e83f343f",
       "version_major": 2,
       "version_minor": 0
      },
      "text/plain": [
       "HBox(children=(IntProgress(value=0, max=6), HTML(value='')))"
      ]
     },
     "metadata": {},
     "output_type": "display_data"
    },
    {
     "data": {
      "application/vnd.jupyter.widget-view+json": {
       "model_id": "e661744614f94158a6e42e6a5fa6cc53",
       "version_major": 2,
       "version_minor": 0
      },
      "text/plain": [
       "HBox(children=(IntProgress(value=0, max=4), HTML(value='')))"
      ]
     },
     "metadata": {},
     "output_type": "display_data"
    },
    {
     "data": {
      "application/vnd.jupyter.widget-view+json": {
       "model_id": "f1e89515a6e7451e9b2d663db5a2de61",
       "version_major": 2,
       "version_minor": 0
      },
      "text/plain": [
       "HBox(children=(IntProgress(value=0, max=4), HTML(value='')))"
      ]
     },
     "metadata": {},
     "output_type": "display_data"
    },
    {
     "data": {
      "application/vnd.jupyter.widget-view+json": {
       "model_id": "98c02b3055554cb6936c28ec6dc8650f",
       "version_major": 2,
       "version_minor": 0
      },
      "text/plain": [
       "HBox(children=(IntProgress(value=0, max=4), HTML(value='')))"
      ]
     },
     "metadata": {},
     "output_type": "display_data"
    },
    {
     "data": {
      "application/vnd.jupyter.widget-view+json": {
       "model_id": "51ad395d21294b1abf0b073d8462db79",
       "version_major": 2,
       "version_minor": 0
      },
      "text/plain": [
       "HBox(children=(IntProgress(value=0, max=4), HTML(value='')))"
      ]
     },
     "metadata": {},
     "output_type": "display_data"
    },
    {
     "data": {
      "application/vnd.jupyter.widget-view+json": {
       "model_id": "fa1957c758fc4ff187db3803b5b442b1",
       "version_major": 2,
       "version_minor": 0
      },
      "text/plain": [
       "HBox(children=(IntProgress(value=0, max=4), HTML(value='')))"
      ]
     },
     "metadata": {},
     "output_type": "display_data"
    },
    {
     "data": {
      "application/vnd.jupyter.widget-view+json": {
       "model_id": "b8422e77369e44bc92f58e1ed606c5d3",
       "version_major": 2,
       "version_minor": 0
      },
      "text/plain": [
       "HBox(children=(IntProgress(value=0, max=4), HTML(value='')))"
      ]
     },
     "metadata": {},
     "output_type": "display_data"
    },
    {
     "data": {
      "application/vnd.jupyter.widget-view+json": {
       "model_id": "5ee8e4d43f184c64959f12112fbd955e",
       "version_major": 2,
       "version_minor": 0
      },
      "text/plain": [
       "HBox(children=(IntProgress(value=0, max=6), HTML(value='')))"
      ]
     },
     "metadata": {},
     "output_type": "display_data"
    },
    {
     "data": {
      "application/vnd.jupyter.widget-view+json": {
       "model_id": "e1706b8608194049b6525418bf8fe52f",
       "version_major": 2,
       "version_minor": 0
      },
      "text/plain": [
       "HBox(children=(IntProgress(value=0, max=4), HTML(value='')))"
      ]
     },
     "metadata": {},
     "output_type": "display_data"
    },
    {
     "data": {
      "application/vnd.jupyter.widget-view+json": {
       "model_id": "1332e642178b4d5e91c53798dd0a7ac1",
       "version_major": 2,
       "version_minor": 0
      },
      "text/plain": [
       "HBox(children=(IntProgress(value=0, max=4), HTML(value='')))"
      ]
     },
     "metadata": {},
     "output_type": "display_data"
    },
    {
     "data": {
      "application/vnd.jupyter.widget-view+json": {
       "model_id": "e25224a0169d49d6985370d2746140db",
       "version_major": 2,
       "version_minor": 0
      },
      "text/plain": [
       "HBox(children=(IntProgress(value=0, max=4), HTML(value='')))"
      ]
     },
     "metadata": {},
     "output_type": "display_data"
    },
    {
     "data": {
      "application/vnd.jupyter.widget-view+json": {
       "model_id": "135e7d7812e44ea8b97e5b8d9f711cf6",
       "version_major": 2,
       "version_minor": 0
      },
      "text/plain": [
       "HBox(children=(IntProgress(value=0, max=4), HTML(value='')))"
      ]
     },
     "metadata": {},
     "output_type": "display_data"
    },
    {
     "data": {
      "application/vnd.jupyter.widget-view+json": {
       "model_id": "658a77016b59460ea43ca497af672cfc",
       "version_major": 2,
       "version_minor": 0
      },
      "text/plain": [
       "HBox(children=(IntProgress(value=0, max=4), HTML(value='')))"
      ]
     },
     "metadata": {},
     "output_type": "display_data"
    },
    {
     "data": {
      "application/vnd.jupyter.widget-view+json": {
       "model_id": "8ea12539e2cd43908ab7bcc4e1858296",
       "version_major": 2,
       "version_minor": 0
      },
      "text/plain": [
       "HBox(children=(IntProgress(value=0, max=4), HTML(value='')))"
      ]
     },
     "metadata": {},
     "output_type": "display_data"
    },
    {
     "data": {
      "application/vnd.jupyter.widget-view+json": {
       "model_id": "74c9d79add9844d1b3497dc76fc1dbe8",
       "version_major": 2,
       "version_minor": 0
      },
      "text/plain": [
       "HBox(children=(IntProgress(value=0, max=6), HTML(value='')))"
      ]
     },
     "metadata": {},
     "output_type": "display_data"
    },
    {
     "data": {
      "application/vnd.jupyter.widget-view+json": {
       "model_id": "a5789093b0a349889c6b6ec898e3b27b",
       "version_major": 2,
       "version_minor": 0
      },
      "text/plain": [
       "HBox(children=(IntProgress(value=0, max=4), HTML(value='')))"
      ]
     },
     "metadata": {},
     "output_type": "display_data"
    },
    {
     "data": {
      "application/vnd.jupyter.widget-view+json": {
       "model_id": "78b3445c01974a58b51a0495e71904f8",
       "version_major": 2,
       "version_minor": 0
      },
      "text/plain": [
       "HBox(children=(IntProgress(value=0, max=4), HTML(value='')))"
      ]
     },
     "metadata": {},
     "output_type": "display_data"
    },
    {
     "data": {
      "application/vnd.jupyter.widget-view+json": {
       "model_id": "0bf297faae8149aabc0e203ab1a210ce",
       "version_major": 2,
       "version_minor": 0
      },
      "text/plain": [
       "HBox(children=(IntProgress(value=0, max=4), HTML(value='')))"
      ]
     },
     "metadata": {},
     "output_type": "display_data"
    },
    {
     "data": {
      "application/vnd.jupyter.widget-view+json": {
       "model_id": "8501b3024bfd43ecaa89b8078345a3a5",
       "version_major": 2,
       "version_minor": 0
      },
      "text/plain": [
       "HBox(children=(IntProgress(value=0, max=4), HTML(value='')))"
      ]
     },
     "metadata": {},
     "output_type": "display_data"
    },
    {
     "data": {
      "application/vnd.jupyter.widget-view+json": {
       "model_id": "7e8326c5d73a4054ade29fb78a20d09a",
       "version_major": 2,
       "version_minor": 0
      },
      "text/plain": [
       "HBox(children=(IntProgress(value=0, max=4), HTML(value='')))"
      ]
     },
     "metadata": {},
     "output_type": "display_data"
    },
    {
     "data": {
      "application/vnd.jupyter.widget-view+json": {
       "model_id": "6a9e170d6d9544a58213bb21f246ad88",
       "version_major": 2,
       "version_minor": 0
      },
      "text/plain": [
       "HBox(children=(IntProgress(value=0, max=4), HTML(value='')))"
      ]
     },
     "metadata": {},
     "output_type": "display_data"
    },
    {
     "name": "stdout",
     "output_type": "stream",
     "text": [
      "\n",
      "Time taken = 112.76676173210144 mins\n",
      "changepoint_prior_scale_opt = 2.5\n",
      "fourier_order_opt = 10.0\n",
      "window_opt = nan\n"
     ]
    },
    {
     "data": {
      "text/html": [
       "<div>\n",
       "<style scoped>\n",
       "    .dataframe tbody tr th:only-of-type {\n",
       "        vertical-align: middle;\n",
       "    }\n",
       "\n",
       "    .dataframe tbody tr th {\n",
       "        vertical-align: top;\n",
       "    }\n",
       "\n",
       "    .dataframe thead th {\n",
       "        text-align: right;\n",
       "    }\n",
       "</style>\n",
       "<table border=\"1\" class=\"dataframe\">\n",
       "  <thead>\n",
       "    <tr style=\"text-align: right;\">\n",
       "      <th></th>\n",
       "      <th>changepoint_prior_scale</th>\n",
       "      <th>fourier_order</th>\n",
       "      <th>window</th>\n",
       "      <th>rmse</th>\n",
       "      <th>mape(%)</th>\n",
       "      <th>mae</th>\n",
       "    </tr>\n",
       "  </thead>\n",
       "  <tbody>\n",
       "    <tr>\n",
       "      <th>0</th>\n",
       "      <td>0.05</td>\n",
       "      <td>NaN</td>\n",
       "      <td>NaN</td>\n",
       "      <td>3.467608</td>\n",
       "      <td>3.161614</td>\n",
       "      <td>3.173839</td>\n",
       "    </tr>\n",
       "    <tr>\n",
       "      <th>1</th>\n",
       "      <td>0.05</td>\n",
       "      <td>NaN</td>\n",
       "      <td>0.0</td>\n",
       "      <td>3.473777</td>\n",
       "      <td>3.165241</td>\n",
       "      <td>3.177676</td>\n",
       "    </tr>\n",
       "    <tr>\n",
       "      <th>2</th>\n",
       "      <td>0.05</td>\n",
       "      <td>NaN</td>\n",
       "      <td>1.0</td>\n",
       "      <td>3.477157</td>\n",
       "      <td>3.156044</td>\n",
       "      <td>3.167002</td>\n",
       "    </tr>\n",
       "    <tr>\n",
       "      <th>3</th>\n",
       "      <td>0.05</td>\n",
       "      <td>NaN</td>\n",
       "      <td>2.0</td>\n",
       "      <td>3.512874</td>\n",
       "      <td>3.185587</td>\n",
       "      <td>3.195946</td>\n",
       "    </tr>\n",
       "    <tr>\n",
       "      <th>4</th>\n",
       "      <td>0.05</td>\n",
       "      <td>2.0</td>\n",
       "      <td>NaN</td>\n",
       "      <td>3.457502</td>\n",
       "      <td>3.152528</td>\n",
       "      <td>3.164549</td>\n",
       "    </tr>\n",
       "    <tr>\n",
       "      <th>5</th>\n",
       "      <td>0.05</td>\n",
       "      <td>2.0</td>\n",
       "      <td>0.0</td>\n",
       "      <td>3.465889</td>\n",
       "      <td>3.158415</td>\n",
       "      <td>3.170350</td>\n",
       "    </tr>\n",
       "    <tr>\n",
       "      <th>6</th>\n",
       "      <td>0.05</td>\n",
       "      <td>2.0</td>\n",
       "      <td>1.0</td>\n",
       "      <td>3.496011</td>\n",
       "      <td>3.180204</td>\n",
       "      <td>3.191632</td>\n",
       "    </tr>\n",
       "    <tr>\n",
       "      <th>7</th>\n",
       "      <td>0.05</td>\n",
       "      <td>2.0</td>\n",
       "      <td>2.0</td>\n",
       "      <td>3.529013</td>\n",
       "      <td>3.198917</td>\n",
       "      <td>3.210664</td>\n",
       "    </tr>\n",
       "    <tr>\n",
       "      <th>8</th>\n",
       "      <td>0.05</td>\n",
       "      <td>4.0</td>\n",
       "      <td>NaN</td>\n",
       "      <td>3.469035</td>\n",
       "      <td>3.162730</td>\n",
       "      <td>3.173878</td>\n",
       "    </tr>\n",
       "    <tr>\n",
       "      <th>9</th>\n",
       "      <td>0.05</td>\n",
       "      <td>4.0</td>\n",
       "      <td>0.0</td>\n",
       "      <td>3.475127</td>\n",
       "      <td>3.162336</td>\n",
       "      <td>3.173882</td>\n",
       "    </tr>\n",
       "    <tr>\n",
       "      <th>10</th>\n",
       "      <td>0.05</td>\n",
       "      <td>4.0</td>\n",
       "      <td>1.0</td>\n",
       "      <td>3.512592</td>\n",
       "      <td>3.190887</td>\n",
       "      <td>3.203630</td>\n",
       "    </tr>\n",
       "    <tr>\n",
       "      <th>11</th>\n",
       "      <td>0.05</td>\n",
       "      <td>4.0</td>\n",
       "      <td>2.0</td>\n",
       "      <td>3.527101</td>\n",
       "      <td>3.198325</td>\n",
       "      <td>3.209317</td>\n",
       "    </tr>\n",
       "    <tr>\n",
       "      <th>12</th>\n",
       "      <td>0.05</td>\n",
       "      <td>6.0</td>\n",
       "      <td>NaN</td>\n",
       "      <td>3.458108</td>\n",
       "      <td>3.150482</td>\n",
       "      <td>3.162692</td>\n",
       "    </tr>\n",
       "    <tr>\n",
       "      <th>13</th>\n",
       "      <td>0.05</td>\n",
       "      <td>6.0</td>\n",
       "      <td>0.0</td>\n",
       "      <td>3.484641</td>\n",
       "      <td>3.174904</td>\n",
       "      <td>3.186714</td>\n",
       "    </tr>\n",
       "    <tr>\n",
       "      <th>14</th>\n",
       "      <td>0.05</td>\n",
       "      <td>6.0</td>\n",
       "      <td>1.0</td>\n",
       "      <td>3.476748</td>\n",
       "      <td>3.158357</td>\n",
       "      <td>3.170255</td>\n",
       "    </tr>\n",
       "    <tr>\n",
       "      <th>15</th>\n",
       "      <td>0.05</td>\n",
       "      <td>6.0</td>\n",
       "      <td>2.0</td>\n",
       "      <td>3.524248</td>\n",
       "      <td>3.195311</td>\n",
       "      <td>3.206274</td>\n",
       "    </tr>\n",
       "    <tr>\n",
       "      <th>16</th>\n",
       "      <td>0.05</td>\n",
       "      <td>8.0</td>\n",
       "      <td>NaN</td>\n",
       "      <td>3.477309</td>\n",
       "      <td>3.167418</td>\n",
       "      <td>3.178861</td>\n",
       "    </tr>\n",
       "    <tr>\n",
       "      <th>17</th>\n",
       "      <td>0.05</td>\n",
       "      <td>8.0</td>\n",
       "      <td>0.0</td>\n",
       "      <td>3.481024</td>\n",
       "      <td>3.168835</td>\n",
       "      <td>3.181071</td>\n",
       "    </tr>\n",
       "    <tr>\n",
       "      <th>18</th>\n",
       "      <td>0.05</td>\n",
       "      <td>8.0</td>\n",
       "      <td>1.0</td>\n",
       "      <td>3.503504</td>\n",
       "      <td>3.191212</td>\n",
       "      <td>3.202828</td>\n",
       "    </tr>\n",
       "    <tr>\n",
       "      <th>19</th>\n",
       "      <td>0.05</td>\n",
       "      <td>8.0</td>\n",
       "      <td>2.0</td>\n",
       "      <td>3.530156</td>\n",
       "      <td>3.200188</td>\n",
       "      <td>3.212811</td>\n",
       "    </tr>\n",
       "    <tr>\n",
       "      <th>20</th>\n",
       "      <td>0.05</td>\n",
       "      <td>10.0</td>\n",
       "      <td>NaN</td>\n",
       "      <td>3.456579</td>\n",
       "      <td>3.147161</td>\n",
       "      <td>3.159089</td>\n",
       "    </tr>\n",
       "    <tr>\n",
       "      <th>21</th>\n",
       "      <td>0.05</td>\n",
       "      <td>10.0</td>\n",
       "      <td>0.0</td>\n",
       "      <td>3.479710</td>\n",
       "      <td>3.167542</td>\n",
       "      <td>3.180793</td>\n",
       "    </tr>\n",
       "    <tr>\n",
       "      <th>22</th>\n",
       "      <td>0.05</td>\n",
       "      <td>10.0</td>\n",
       "      <td>1.0</td>\n",
       "      <td>3.499506</td>\n",
       "      <td>3.179420</td>\n",
       "      <td>3.191235</td>\n",
       "    </tr>\n",
       "    <tr>\n",
       "      <th>23</th>\n",
       "      <td>0.05</td>\n",
       "      <td>10.0</td>\n",
       "      <td>2.0</td>\n",
       "      <td>3.507478</td>\n",
       "      <td>3.184368</td>\n",
       "      <td>3.195706</td>\n",
       "    </tr>\n",
       "    <tr>\n",
       "      <th>24</th>\n",
       "      <td>0.50</td>\n",
       "      <td>NaN</td>\n",
       "      <td>NaN</td>\n",
       "      <td>3.411750</td>\n",
       "      <td>2.988456</td>\n",
       "      <td>3.040983</td>\n",
       "    </tr>\n",
       "    <tr>\n",
       "      <th>25</th>\n",
       "      <td>0.50</td>\n",
       "      <td>NaN</td>\n",
       "      <td>0.0</td>\n",
       "      <td>3.325238</td>\n",
       "      <td>2.913623</td>\n",
       "      <td>2.960785</td>\n",
       "    </tr>\n",
       "    <tr>\n",
       "      <th>26</th>\n",
       "      <td>0.50</td>\n",
       "      <td>NaN</td>\n",
       "      <td>1.0</td>\n",
       "      <td>3.475400</td>\n",
       "      <td>3.050413</td>\n",
       "      <td>3.107398</td>\n",
       "    </tr>\n",
       "    <tr>\n",
       "      <th>27</th>\n",
       "      <td>0.50</td>\n",
       "      <td>NaN</td>\n",
       "      <td>2.0</td>\n",
       "      <td>3.427393</td>\n",
       "      <td>3.005267</td>\n",
       "      <td>3.060074</td>\n",
       "    </tr>\n",
       "    <tr>\n",
       "      <th>28</th>\n",
       "      <td>0.50</td>\n",
       "      <td>2.0</td>\n",
       "      <td>NaN</td>\n",
       "      <td>3.394545</td>\n",
       "      <td>2.981655</td>\n",
       "      <td>3.034570</td>\n",
       "    </tr>\n",
       "    <tr>\n",
       "      <th>29</th>\n",
       "      <td>0.50</td>\n",
       "      <td>2.0</td>\n",
       "      <td>0.0</td>\n",
       "      <td>3.413149</td>\n",
       "      <td>2.984274</td>\n",
       "      <td>3.039226</td>\n",
       "    </tr>\n",
       "    <tr>\n",
       "      <th>...</th>\n",
       "      <td>...</td>\n",
       "      <td>...</td>\n",
       "      <td>...</td>\n",
       "      <td>...</td>\n",
       "      <td>...</td>\n",
       "      <td>...</td>\n",
       "    </tr>\n",
       "    <tr>\n",
       "      <th>90</th>\n",
       "      <td>1.50</td>\n",
       "      <td>8.0</td>\n",
       "      <td>1.0</td>\n",
       "      <td>3.509674</td>\n",
       "      <td>3.074855</td>\n",
       "      <td>3.131394</td>\n",
       "    </tr>\n",
       "    <tr>\n",
       "      <th>91</th>\n",
       "      <td>1.50</td>\n",
       "      <td>8.0</td>\n",
       "      <td>2.0</td>\n",
       "      <td>3.534155</td>\n",
       "      <td>3.086673</td>\n",
       "      <td>3.148971</td>\n",
       "    </tr>\n",
       "    <tr>\n",
       "      <th>92</th>\n",
       "      <td>1.50</td>\n",
       "      <td>10.0</td>\n",
       "      <td>NaN</td>\n",
       "      <td>3.407047</td>\n",
       "      <td>2.969730</td>\n",
       "      <td>3.019618</td>\n",
       "    </tr>\n",
       "    <tr>\n",
       "      <th>93</th>\n",
       "      <td>1.50</td>\n",
       "      <td>10.0</td>\n",
       "      <td>0.0</td>\n",
       "      <td>3.334925</td>\n",
       "      <td>2.898057</td>\n",
       "      <td>2.949748</td>\n",
       "    </tr>\n",
       "    <tr>\n",
       "      <th>94</th>\n",
       "      <td>1.50</td>\n",
       "      <td>10.0</td>\n",
       "      <td>1.0</td>\n",
       "      <td>3.516981</td>\n",
       "      <td>3.073864</td>\n",
       "      <td>3.128228</td>\n",
       "    </tr>\n",
       "    <tr>\n",
       "      <th>95</th>\n",
       "      <td>1.50</td>\n",
       "      <td>10.0</td>\n",
       "      <td>2.0</td>\n",
       "      <td>3.423211</td>\n",
       "      <td>2.984978</td>\n",
       "      <td>3.041387</td>\n",
       "    </tr>\n",
       "    <tr>\n",
       "      <th>96</th>\n",
       "      <td>2.50</td>\n",
       "      <td>NaN</td>\n",
       "      <td>NaN</td>\n",
       "      <td>3.638491</td>\n",
       "      <td>3.177134</td>\n",
       "      <td>3.243204</td>\n",
       "    </tr>\n",
       "    <tr>\n",
       "      <th>97</th>\n",
       "      <td>2.50</td>\n",
       "      <td>NaN</td>\n",
       "      <td>0.0</td>\n",
       "      <td>3.482616</td>\n",
       "      <td>3.030407</td>\n",
       "      <td>3.095201</td>\n",
       "    </tr>\n",
       "    <tr>\n",
       "      <th>98</th>\n",
       "      <td>2.50</td>\n",
       "      <td>NaN</td>\n",
       "      <td>1.0</td>\n",
       "      <td>3.650293</td>\n",
       "      <td>3.199314</td>\n",
       "      <td>3.263015</td>\n",
       "    </tr>\n",
       "    <tr>\n",
       "      <th>99</th>\n",
       "      <td>2.50</td>\n",
       "      <td>NaN</td>\n",
       "      <td>2.0</td>\n",
       "      <td>3.651479</td>\n",
       "      <td>3.199574</td>\n",
       "      <td>3.262569</td>\n",
       "    </tr>\n",
       "    <tr>\n",
       "      <th>100</th>\n",
       "      <td>2.50</td>\n",
       "      <td>2.0</td>\n",
       "      <td>NaN</td>\n",
       "      <td>3.579538</td>\n",
       "      <td>3.118068</td>\n",
       "      <td>3.176154</td>\n",
       "    </tr>\n",
       "    <tr>\n",
       "      <th>101</th>\n",
       "      <td>2.50</td>\n",
       "      <td>2.0</td>\n",
       "      <td>0.0</td>\n",
       "      <td>3.519941</td>\n",
       "      <td>3.059627</td>\n",
       "      <td>3.121726</td>\n",
       "    </tr>\n",
       "    <tr>\n",
       "      <th>102</th>\n",
       "      <td>2.50</td>\n",
       "      <td>2.0</td>\n",
       "      <td>1.0</td>\n",
       "      <td>3.558544</td>\n",
       "      <td>3.121609</td>\n",
       "      <td>3.178542</td>\n",
       "    </tr>\n",
       "    <tr>\n",
       "      <th>103</th>\n",
       "      <td>2.50</td>\n",
       "      <td>2.0</td>\n",
       "      <td>2.0</td>\n",
       "      <td>3.624039</td>\n",
       "      <td>3.170108</td>\n",
       "      <td>3.237090</td>\n",
       "    </tr>\n",
       "    <tr>\n",
       "      <th>104</th>\n",
       "      <td>2.50</td>\n",
       "      <td>4.0</td>\n",
       "      <td>NaN</td>\n",
       "      <td>3.396720</td>\n",
       "      <td>2.971199</td>\n",
       "      <td>3.023622</td>\n",
       "    </tr>\n",
       "    <tr>\n",
       "      <th>105</th>\n",
       "      <td>2.50</td>\n",
       "      <td>4.0</td>\n",
       "      <td>0.0</td>\n",
       "      <td>3.429641</td>\n",
       "      <td>2.988180</td>\n",
       "      <td>3.041817</td>\n",
       "    </tr>\n",
       "    <tr>\n",
       "      <th>106</th>\n",
       "      <td>2.50</td>\n",
       "      <td>4.0</td>\n",
       "      <td>1.0</td>\n",
       "      <td>3.589371</td>\n",
       "      <td>3.135818</td>\n",
       "      <td>3.197301</td>\n",
       "    </tr>\n",
       "    <tr>\n",
       "      <th>107</th>\n",
       "      <td>2.50</td>\n",
       "      <td>4.0</td>\n",
       "      <td>2.0</td>\n",
       "      <td>3.732496</td>\n",
       "      <td>3.272082</td>\n",
       "      <td>3.338583</td>\n",
       "    </tr>\n",
       "    <tr>\n",
       "      <th>108</th>\n",
       "      <td>2.50</td>\n",
       "      <td>6.0</td>\n",
       "      <td>NaN</td>\n",
       "      <td>3.433850</td>\n",
       "      <td>2.986023</td>\n",
       "      <td>3.043230</td>\n",
       "    </tr>\n",
       "    <tr>\n",
       "      <th>109</th>\n",
       "      <td>2.50</td>\n",
       "      <td>6.0</td>\n",
       "      <td>0.0</td>\n",
       "      <td>3.461513</td>\n",
       "      <td>3.021212</td>\n",
       "      <td>3.082591</td>\n",
       "    </tr>\n",
       "    <tr>\n",
       "      <th>110</th>\n",
       "      <td>2.50</td>\n",
       "      <td>6.0</td>\n",
       "      <td>1.0</td>\n",
       "      <td>3.511480</td>\n",
       "      <td>3.074454</td>\n",
       "      <td>3.130729</td>\n",
       "    </tr>\n",
       "    <tr>\n",
       "      <th>111</th>\n",
       "      <td>2.50</td>\n",
       "      <td>6.0</td>\n",
       "      <td>2.0</td>\n",
       "      <td>3.522955</td>\n",
       "      <td>3.074018</td>\n",
       "      <td>3.135494</td>\n",
       "    </tr>\n",
       "    <tr>\n",
       "      <th>112</th>\n",
       "      <td>2.50</td>\n",
       "      <td>8.0</td>\n",
       "      <td>NaN</td>\n",
       "      <td>3.428899</td>\n",
       "      <td>2.979495</td>\n",
       "      <td>3.038714</td>\n",
       "    </tr>\n",
       "    <tr>\n",
       "      <th>113</th>\n",
       "      <td>2.50</td>\n",
       "      <td>8.0</td>\n",
       "      <td>0.0</td>\n",
       "      <td>3.466243</td>\n",
       "      <td>3.015574</td>\n",
       "      <td>3.075164</td>\n",
       "    </tr>\n",
       "    <tr>\n",
       "      <th>114</th>\n",
       "      <td>2.50</td>\n",
       "      <td>8.0</td>\n",
       "      <td>1.0</td>\n",
       "      <td>3.480279</td>\n",
       "      <td>3.048306</td>\n",
       "      <td>3.103359</td>\n",
       "    </tr>\n",
       "    <tr>\n",
       "      <th>115</th>\n",
       "      <td>2.50</td>\n",
       "      <td>8.0</td>\n",
       "      <td>2.0</td>\n",
       "      <td>3.503154</td>\n",
       "      <td>3.068466</td>\n",
       "      <td>3.123733</td>\n",
       "    </tr>\n",
       "    <tr>\n",
       "      <th>116</th>\n",
       "      <td>2.50</td>\n",
       "      <td>10.0</td>\n",
       "      <td>NaN</td>\n",
       "      <td>3.285985</td>\n",
       "      <td>2.854324</td>\n",
       "      <td>2.904182</td>\n",
       "    </tr>\n",
       "    <tr>\n",
       "      <th>117</th>\n",
       "      <td>2.50</td>\n",
       "      <td>10.0</td>\n",
       "      <td>0.0</td>\n",
       "      <td>3.389648</td>\n",
       "      <td>2.943739</td>\n",
       "      <td>3.000540</td>\n",
       "    </tr>\n",
       "    <tr>\n",
       "      <th>118</th>\n",
       "      <td>2.50</td>\n",
       "      <td>10.0</td>\n",
       "      <td>1.0</td>\n",
       "      <td>3.455438</td>\n",
       "      <td>3.024427</td>\n",
       "      <td>3.076345</td>\n",
       "    </tr>\n",
       "    <tr>\n",
       "      <th>119</th>\n",
       "      <td>2.50</td>\n",
       "      <td>10.0</td>\n",
       "      <td>2.0</td>\n",
       "      <td>3.345294</td>\n",
       "      <td>2.923751</td>\n",
       "      <td>2.972843</td>\n",
       "    </tr>\n",
       "  </tbody>\n",
       "</table>\n",
       "<p>120 rows × 6 columns</p>\n",
       "</div>"
      ],
      "text/plain": [
       "     changepoint_prior_scale  fourier_order  window      rmse   mape(%)  \\\n",
       "0                       0.05            NaN     NaN  3.467608  3.161614   \n",
       "1                       0.05            NaN     0.0  3.473777  3.165241   \n",
       "2                       0.05            NaN     1.0  3.477157  3.156044   \n",
       "3                       0.05            NaN     2.0  3.512874  3.185587   \n",
       "4                       0.05            2.0     NaN  3.457502  3.152528   \n",
       "5                       0.05            2.0     0.0  3.465889  3.158415   \n",
       "6                       0.05            2.0     1.0  3.496011  3.180204   \n",
       "7                       0.05            2.0     2.0  3.529013  3.198917   \n",
       "8                       0.05            4.0     NaN  3.469035  3.162730   \n",
       "9                       0.05            4.0     0.0  3.475127  3.162336   \n",
       "10                      0.05            4.0     1.0  3.512592  3.190887   \n",
       "11                      0.05            4.0     2.0  3.527101  3.198325   \n",
       "12                      0.05            6.0     NaN  3.458108  3.150482   \n",
       "13                      0.05            6.0     0.0  3.484641  3.174904   \n",
       "14                      0.05            6.0     1.0  3.476748  3.158357   \n",
       "15                      0.05            6.0     2.0  3.524248  3.195311   \n",
       "16                      0.05            8.0     NaN  3.477309  3.167418   \n",
       "17                      0.05            8.0     0.0  3.481024  3.168835   \n",
       "18                      0.05            8.0     1.0  3.503504  3.191212   \n",
       "19                      0.05            8.0     2.0  3.530156  3.200188   \n",
       "20                      0.05           10.0     NaN  3.456579  3.147161   \n",
       "21                      0.05           10.0     0.0  3.479710  3.167542   \n",
       "22                      0.05           10.0     1.0  3.499506  3.179420   \n",
       "23                      0.05           10.0     2.0  3.507478  3.184368   \n",
       "24                      0.50            NaN     NaN  3.411750  2.988456   \n",
       "25                      0.50            NaN     0.0  3.325238  2.913623   \n",
       "26                      0.50            NaN     1.0  3.475400  3.050413   \n",
       "27                      0.50            NaN     2.0  3.427393  3.005267   \n",
       "28                      0.50            2.0     NaN  3.394545  2.981655   \n",
       "29                      0.50            2.0     0.0  3.413149  2.984274   \n",
       "..                       ...            ...     ...       ...       ...   \n",
       "90                      1.50            8.0     1.0  3.509674  3.074855   \n",
       "91                      1.50            8.0     2.0  3.534155  3.086673   \n",
       "92                      1.50           10.0     NaN  3.407047  2.969730   \n",
       "93                      1.50           10.0     0.0  3.334925  2.898057   \n",
       "94                      1.50           10.0     1.0  3.516981  3.073864   \n",
       "95                      1.50           10.0     2.0  3.423211  2.984978   \n",
       "96                      2.50            NaN     NaN  3.638491  3.177134   \n",
       "97                      2.50            NaN     0.0  3.482616  3.030407   \n",
       "98                      2.50            NaN     1.0  3.650293  3.199314   \n",
       "99                      2.50            NaN     2.0  3.651479  3.199574   \n",
       "100                     2.50            2.0     NaN  3.579538  3.118068   \n",
       "101                     2.50            2.0     0.0  3.519941  3.059627   \n",
       "102                     2.50            2.0     1.0  3.558544  3.121609   \n",
       "103                     2.50            2.0     2.0  3.624039  3.170108   \n",
       "104                     2.50            4.0     NaN  3.396720  2.971199   \n",
       "105                     2.50            4.0     0.0  3.429641  2.988180   \n",
       "106                     2.50            4.0     1.0  3.589371  3.135818   \n",
       "107                     2.50            4.0     2.0  3.732496  3.272082   \n",
       "108                     2.50            6.0     NaN  3.433850  2.986023   \n",
       "109                     2.50            6.0     0.0  3.461513  3.021212   \n",
       "110                     2.50            6.0     1.0  3.511480  3.074454   \n",
       "111                     2.50            6.0     2.0  3.522955  3.074018   \n",
       "112                     2.50            8.0     NaN  3.428899  2.979495   \n",
       "113                     2.50            8.0     0.0  3.466243  3.015574   \n",
       "114                     2.50            8.0     1.0  3.480279  3.048306   \n",
       "115                     2.50            8.0     2.0  3.503154  3.068466   \n",
       "116                     2.50           10.0     NaN  3.285985  2.854324   \n",
       "117                     2.50           10.0     0.0  3.389648  2.943739   \n",
       "118                     2.50           10.0     1.0  3.455438  3.024427   \n",
       "119                     2.50           10.0     2.0  3.345294  2.923751   \n",
       "\n",
       "          mae  \n",
       "0    3.173839  \n",
       "1    3.177676  \n",
       "2    3.167002  \n",
       "3    3.195946  \n",
       "4    3.164549  \n",
       "5    3.170350  \n",
       "6    3.191632  \n",
       "7    3.210664  \n",
       "8    3.173878  \n",
       "9    3.173882  \n",
       "10   3.203630  \n",
       "11   3.209317  \n",
       "12   3.162692  \n",
       "13   3.186714  \n",
       "14   3.170255  \n",
       "15   3.206274  \n",
       "16   3.178861  \n",
       "17   3.181071  \n",
       "18   3.202828  \n",
       "19   3.212811  \n",
       "20   3.159089  \n",
       "21   3.180793  \n",
       "22   3.191235  \n",
       "23   3.195706  \n",
       "24   3.040983  \n",
       "25   2.960785  \n",
       "26   3.107398  \n",
       "27   3.060074  \n",
       "28   3.034570  \n",
       "29   3.039226  \n",
       "..        ...  \n",
       "90   3.131394  \n",
       "91   3.148971  \n",
       "92   3.019618  \n",
       "93   2.949748  \n",
       "94   3.128228  \n",
       "95   3.041387  \n",
       "96   3.243204  \n",
       "97   3.095201  \n",
       "98   3.263015  \n",
       "99   3.262569  \n",
       "100  3.176154  \n",
       "101  3.121726  \n",
       "102  3.178542  \n",
       "103  3.237090  \n",
       "104  3.023622  \n",
       "105  3.041817  \n",
       "106  3.197301  \n",
       "107  3.338583  \n",
       "108  3.043230  \n",
       "109  3.082591  \n",
       "110  3.130729  \n",
       "111  3.135494  \n",
       "112  3.038714  \n",
       "113  3.075164  \n",
       "114  3.103359  \n",
       "115  3.123733  \n",
       "116  2.904182  \n",
       "117  3.000540  \n",
       "118  3.076345  \n",
       "119  2.972843  \n",
       "\n",
       "[120 rows x 6 columns]"
      ]
     },
     "execution_count": 29,
     "metadata": {},
     "output_type": "execute_result"
    }
   ],
   "source": [
    "# Get optimum hyperparams\n",
    "tic = time.time()\n",
    "changepoint_prior_scale_opt, fourier_order_opt, window_opt, results = \\\n",
    "    hyperparam_tune_cp_fo_wd(df_prophet[i-train_val_size:i], \n",
    "                             H, \n",
    "                             train_size, \n",
    "                             val_size, \n",
    "                             changepoint_prior_scale_list,\n",
    "                             fourier_order_list,\n",
    "                             window_list,\n",
    "                             hols)\n",
    "toc = time.time()\n",
    "print(\"Time taken = \" + str((toc-tic)/60.0) + \" mins\")\n",
    "\n",
    "print(\"changepoint_prior_scale_opt = \" + str(changepoint_prior_scale_opt))\n",
    "print(\"fourier_order_opt = \" + str(fourier_order_opt))\n",
    "print(\"window_opt = \" + str(window_opt))\n",
    "results"
   ]
  },
  {
   "cell_type": "code",
   "execution_count": 30,
   "metadata": {},
   "outputs": [
    {
     "data": {
      "text/html": [
       "<div>\n",
       "<style scoped>\n",
       "    .dataframe tbody tr th:only-of-type {\n",
       "        vertical-align: middle;\n",
       "    }\n",
       "\n",
       "    .dataframe tbody tr th {\n",
       "        vertical-align: top;\n",
       "    }\n",
       "\n",
       "    .dataframe thead th {\n",
       "        text-align: right;\n",
       "    }\n",
       "</style>\n",
       "<table border=\"1\" class=\"dataframe\">\n",
       "  <thead>\n",
       "    <tr style=\"text-align: right;\">\n",
       "      <th></th>\n",
       "      <th>changepoint_prior_scale</th>\n",
       "      <th>fourier_order</th>\n",
       "      <th>window</th>\n",
       "      <th>rmse</th>\n",
       "      <th>mape(%)</th>\n",
       "      <th>mae</th>\n",
       "    </tr>\n",
       "  </thead>\n",
       "  <tbody>\n",
       "    <tr>\n",
       "      <th>115</th>\n",
       "      <td>2.5</td>\n",
       "      <td>8.0</td>\n",
       "      <td>2.0</td>\n",
       "      <td>3.503154</td>\n",
       "      <td>3.068466</td>\n",
       "      <td>3.123733</td>\n",
       "    </tr>\n",
       "    <tr>\n",
       "      <th>116</th>\n",
       "      <td>2.5</td>\n",
       "      <td>10.0</td>\n",
       "      <td>NaN</td>\n",
       "      <td>3.285985</td>\n",
       "      <td>2.854324</td>\n",
       "      <td>2.904182</td>\n",
       "    </tr>\n",
       "    <tr>\n",
       "      <th>117</th>\n",
       "      <td>2.5</td>\n",
       "      <td>10.0</td>\n",
       "      <td>0.0</td>\n",
       "      <td>3.389648</td>\n",
       "      <td>2.943739</td>\n",
       "      <td>3.000540</td>\n",
       "    </tr>\n",
       "    <tr>\n",
       "      <th>118</th>\n",
       "      <td>2.5</td>\n",
       "      <td>10.0</td>\n",
       "      <td>1.0</td>\n",
       "      <td>3.455438</td>\n",
       "      <td>3.024427</td>\n",
       "      <td>3.076345</td>\n",
       "    </tr>\n",
       "    <tr>\n",
       "      <th>119</th>\n",
       "      <td>2.5</td>\n",
       "      <td>10.0</td>\n",
       "      <td>2.0</td>\n",
       "      <td>3.345294</td>\n",
       "      <td>2.923751</td>\n",
       "      <td>2.972843</td>\n",
       "    </tr>\n",
       "  </tbody>\n",
       "</table>\n",
       "</div>"
      ],
      "text/plain": [
       "     changepoint_prior_scale  fourier_order  window      rmse   mape(%)  \\\n",
       "115                      2.5            8.0     2.0  3.503154  3.068466   \n",
       "116                      2.5           10.0     NaN  3.285985  2.854324   \n",
       "117                      2.5           10.0     0.0  3.389648  2.943739   \n",
       "118                      2.5           10.0     1.0  3.455438  3.024427   \n",
       "119                      2.5           10.0     2.0  3.345294  2.923751   \n",
       "\n",
       "          mae  \n",
       "115  3.123733  \n",
       "116  2.904182  \n",
       "117  3.000540  \n",
       "118  3.076345  \n",
       "119  2.972843  "
      ]
     },
     "execution_count": 30,
     "metadata": {},
     "output_type": "execute_result"
    }
   ],
   "source": [
    "# Print the tail of the results df\n",
    "results.tail()"
   ]
  },
  {
   "cell_type": "code",
   "execution_count": 31,
   "metadata": {},
   "outputs": [
    {
     "name": "stderr",
     "output_type": "stream",
     "text": [
      "INFO:fbprophet:Disabling daily seasonality. Run prophet with daily_seasonality=True to override this.\n"
     ]
    },
    {
     "name": "stdout",
     "output_type": "stream",
     "text": [
      "For forecast horizon 21, predicting on day 1008, date 2017-01-03 00:00:00, the RMSE is 0.549689\n",
      "For forecast horizon 21, predicting on day 1008, date 2017-01-03 00:00:00, the mean MAPE is 0.413399\n",
      "For forecast horizon 21, predicting on day 1008, date 2017-01-03 00:00:00, the mean MAE is 0.466406\n"
     ]
    }
   ],
   "source": [
    "# Get predictions using tuned hyperparams\n",
    "if (window_opt is None) or (np.isnan(window_opt)):\n",
    "    preds_list = get_preds_prophet(df_prophet[i-train_val_size:i], \n",
    "                                   H, \n",
    "                                   changepoint_prior_scale_opt, \n",
    "                                   fourier_order_opt, \n",
    "                                   holidays=None)\n",
    "else:\n",
    "    hols['lower_window'] = -window_opt\n",
    "    hols['upper_window'] = +window_opt\n",
    "    preds_list = get_preds_prophet(df_prophet[i-train_val_size:i], \n",
    "                                   H, \n",
    "                                   changepoint_prior_scale_opt, \n",
    "                                   fourier_order_opt, \n",
    "                                   holidays=hols)\n",
    "print(\"For forecast horizon %d, predicting on day %d, date %s, the RMSE is %f\" % (H, i, df['date'][i], get_rmse(df_prophet[i:i+H]['y'], preds_list)))\n",
    "print(\"For forecast horizon %d, predicting on day %d, date %s, the mean MAPE is %f\" % (H, i, df['date'][i], get_mape(df_prophet[i:i+H]['y'], preds_list)))\n",
    "print(\"For forecast horizon %d, predicting on day %d, date %s, the mean MAE is %f\" % (H, i, df['date'][i], get_mae(df_prophet[i:i+H]['y'], preds_list)))"
   ]
  },
  {
   "cell_type": "code",
   "execution_count": 32,
   "metadata": {},
   "outputs": [
    {
     "data": {
      "text/plain": [
       "(736269.0, 736388.0)"
      ]
     },
     "execution_count": 32,
     "metadata": {},
     "output_type": "execute_result"
    },
    {
     "data": {
      "image/png": "[encoded data removed]",
      "text/plain": [
       "<Figure size 720x576 with 1 Axes>"
      ]
     },
     "metadata": {
      "needs_background": "light"
     },
     "output_type": "display_data"
    }
   ],
   "source": [
    "# Plot the predictions\n",
    "rcParams['figure.figsize'] = 10, 8 # width 10, height 8\n",
    "\n",
    "ax = df.plot(x='date', y='adj_close', style='bx-', grid=True)\n",
    "\n",
    "# Plot the predictions\n",
    "ax.plot(df['date'][i:i+H], preds_list, marker='x')\n",
    "    \n",
    "ax.set_xlabel(\"date\")\n",
    "ax.set_ylabel(\"USD\")\n",
    "ax.legend(['adj_close', 'predictions'])\n",
    "ax.set_ylim([105, 120])\n",
    "ax.set_xlim([date(2016, 11, 1), date(2017, 2, 28)])"
   ]
  },
  {
   "cell_type": "markdown",
   "metadata": {},
   "source": [
    "# Predict for a specific H (forecast horizon), and various dates, using model trained in previous step"
   ]
  },
  {
   "cell_type": "code",
   "execution_count": 28,
   "metadata": {},
   "outputs": [],
   "source": [
    "changepoint_prior_scale_opt = 2.5\n",
    "fourier_order_opt = 10\n",
    "window_opt = None"
   ]
  },
  {
   "cell_type": "code",
   "execution_count": 29,
   "metadata": {},
   "outputs": [
    {
     "name": "stderr",
     "output_type": "stream",
     "text": [
      "INFO:fbprophet:Disabling daily seasonality. Run prophet with daily_seasonality=True to override this.\n"
     ]
    },
    {
     "name": "stdout",
     "output_type": "stream",
     "text": [
      "Predicting on day 1008, date 2017-01-03 00:00:00\n"
     ]
    },
    {
     "name": "stderr",
     "output_type": "stream",
     "text": [
      "INFO:fbprophet:Disabling daily seasonality. Run prophet with daily_seasonality=True to override this.\n"
     ]
    },
    {
     "name": "stdout",
     "output_type": "stream",
     "text": [
      "Predicting on day 1050, date 2017-03-06 00:00:00\n"
     ]
    },
    {
     "name": "stderr",
     "output_type": "stream",
     "text": [
      "INFO:fbprophet:Disabling daily seasonality. Run prophet with daily_seasonality=True to override this.\n"
     ]
    },
    {
     "name": "stdout",
     "output_type": "stream",
     "text": [
      "Predicting on day 1092, date 2017-05-04 00:00:00\n"
     ]
    },
    {
     "name": "stderr",
     "output_type": "stream",
     "text": [
      "INFO:fbprophet:Disabling daily seasonality. Run prophet with daily_seasonality=True to override this.\n"
     ]
    },
    {
     "name": "stdout",
     "output_type": "stream",
     "text": [
      "Predicting on day 1134, date 2017-07-05 00:00:00\n"
     ]
    },
    {
     "name": "stderr",
     "output_type": "stream",
     "text": [
      "INFO:fbprophet:Disabling daily seasonality. Run prophet with daily_seasonality=True to override this.\n"
     ]
    },
    {
     "name": "stdout",
     "output_type": "stream",
     "text": [
      "Predicting on day 1176, date 2017-09-01 00:00:00\n"
     ]
    },
    {
     "name": "stderr",
     "output_type": "stream",
     "text": [
      "INFO:fbprophet:Disabling daily seasonality. Run prophet with daily_seasonality=True to override this.\n"
     ]
    },
    {
     "name": "stdout",
     "output_type": "stream",
     "text": [
      "Predicting on day 1218, date 2017-11-01 00:00:00\n"
     ]
    },
    {
     "name": "stderr",
     "output_type": "stream",
     "text": [
      "INFO:fbprophet:Disabling daily seasonality. Run prophet with daily_seasonality=True to override this.\n"
     ]
    },
    {
     "name": "stdout",
     "output_type": "stream",
     "text": [
      "Predicting on day 1260, date 2018-01-03 00:00:00\n"
     ]
    },
    {
     "name": "stderr",
     "output_type": "stream",
     "text": [
      "INFO:fbprophet:Disabling daily seasonality. Run prophet with daily_seasonality=True to override this.\n"
     ]
    },
    {
     "name": "stdout",
     "output_type": "stream",
     "text": [
      "Predicting on day 1302, date 2018-03-06 00:00:00\n"
     ]
    },
    {
     "name": "stderr",
     "output_type": "stream",
     "text": [
      "INFO:fbprophet:Disabling daily seasonality. Run prophet with daily_seasonality=True to override this.\n"
     ]
    },
    {
     "name": "stdout",
     "output_type": "stream",
     "text": [
      "Predicting on day 1344, date 2018-05-04 00:00:00\n"
     ]
    },
    {
     "name": "stderr",
     "output_type": "stream",
     "text": [
      "INFO:fbprophet:Disabling daily seasonality. Run prophet with daily_seasonality=True to override this.\n"
     ]
    },
    {
     "name": "stdout",
     "output_type": "stream",
     "text": [
      "Predicting on day 1386, date 2018-07-05 00:00:00\n"
     ]
    },
    {
     "name": "stderr",
     "output_type": "stream",
     "text": [
      "INFO:fbprophet:Disabling daily seasonality. Run prophet with daily_seasonality=True to override this.\n"
     ]
    },
    {
     "name": "stdout",
     "output_type": "stream",
     "text": [
      "Predicting on day 1428, date 2018-09-04 00:00:00\n"
     ]
    },
    {
     "name": "stderr",
     "output_type": "stream",
     "text": [
      "INFO:fbprophet:Disabling daily seasonality. Run prophet with daily_seasonality=True to override this.\n"
     ]
    },
    {
     "name": "stdout",
     "output_type": "stream",
     "text": [
      "Predicting on day 1470, date 2018-11-01 00:00:00\n",
      "Altogether we made 12 forecasts, each of length 21 days\n"
     ]
    }
   ],
   "source": [
    "# Predict using Prophet, and compute error metrics also\n",
    "rmse = [] # root mean square error\n",
    "mape = [] # mean absolute percentage error\n",
    "mae = []  # mean absolute error\n",
    "preds_dict = {}\n",
    "H = 21 # We will test with this value of H and observe the results\n",
    "i_list = range(train_val_size, train_val_size+84*5+42+1, 42)\n",
    "for i in i_list:\n",
    "# for i in tqdm_notebook(range(train_val_size, len(df)-H, int(H/2))): # Do a forecast on day i\n",
    "    print(\"Predicting on day %d, date %s\" % (i, df_prophet['ds'][i]))\n",
    "    \n",
    "    # Get predictions using tuned hyperparams\n",
    "    if (window_opt is None) or (np.isnan(window_opt)):\n",
    "        preds_list = get_preds_prophet(df_prophet[i-train_val_size:i], \n",
    "                                       H, \n",
    "                                       changepoint_prior_scale_opt, \n",
    "                                       fourier_order_opt, \n",
    "                                       holidays=None)\n",
    "    else:\n",
    "        hols['lower_window'] = -window_opt\n",
    "        hols['upper_window'] = +window_opt\n",
    "        preds_list = get_preds_prophet(df_prophet[i-train_val_size:i], \n",
    "                                       H, \n",
    "                                       changepoint_prior_scale_opt, \n",
    "                                       fourier_order_opt, \n",
    "                                       holidays=hols)\n",
    "    \n",
    "    # Collect the predictions\n",
    "    preds_dict[i] = preds_list\n",
    "    \n",
    "    # Compute error metrics\n",
    "    rmse.append(get_rmse(df_prophet[i:i+H]['y'], preds_list))\n",
    "    mape.append(get_mape(df_prophet[i:i+H]['y'], preds_list))\n",
    "    mae.append(get_mae(df_prophet[i:i+H]['y'], preds_list))\n",
    "\n",
    "print(\"Altogether we made %d forecasts, each of length %d days\" % (len(rmse), H))"
   ]
  },
  {
   "cell_type": "code",
   "execution_count": 30,
   "metadata": {},
   "outputs": [
    {
     "name": "stdout",
     "output_type": "stream",
     "text": [
      "For forecast horizon 21, the mean RMSE is 2.732487\n",
      "For forecast horizon 21, the mean MAPE is 1.869825\n",
      "For forecast horizon 21, the mean MAE is 2.491599\n"
     ]
    }
   ],
   "source": [
    "print(\"For forecast horizon %d, the mean RMSE is %f\" % (H, np.mean(rmse)))\n",
    "print(\"For forecast horizon %d, the mean MAPE is %f\" % (H, np.mean(mape)))\n",
    "print(\"For forecast horizon %d, the mean MAE is %f\" % (H, np.mean(mae)))"
   ]
  },
  {
   "cell_type": "code",
   "execution_count": 34,
   "metadata": {},
   "outputs": [
    {
     "data": {
      "text/html": [
       "<div>\n",
       "<style scoped>\n",
       "    .dataframe tbody tr th:only-of-type {\n",
       "        vertical-align: middle;\n",
       "    }\n",
       "\n",
       "    .dataframe tbody tr th {\n",
       "        vertical-align: top;\n",
       "    }\n",
       "\n",
       "    .dataframe thead th {\n",
       "        text-align: right;\n",
       "    }\n",
       "</style>\n",
       "<table border=\"1\" class=\"dataframe\">\n",
       "  <thead>\n",
       "    <tr style=\"text-align: right;\">\n",
       "      <th></th>\n",
       "      <th>day</th>\n",
       "      <th>changepoint_opt</th>\n",
       "      <th>fourier_order_opt</th>\n",
       "      <th>window_opt</th>\n",
       "      <th>rmse</th>\n",
       "      <th>mape</th>\n",
       "      <th>mae</th>\n",
       "    </tr>\n",
       "  </thead>\n",
       "  <tbody>\n",
       "    <tr>\n",
       "      <th>0</th>\n",
       "      <td>1008</td>\n",
       "      <td>2.5</td>\n",
       "      <td>10</td>\n",
       "      <td>None</td>\n",
       "      <td>0.549689</td>\n",
       "      <td>0.413399</td>\n",
       "      <td>0.466406</td>\n",
       "    </tr>\n",
       "    <tr>\n",
       "      <th>1</th>\n",
       "      <td>1050</td>\n",
       "      <td>2.5</td>\n",
       "      <td>10</td>\n",
       "      <td>None</td>\n",
       "      <td>3.380764</td>\n",
       "      <td>2.741116</td>\n",
       "      <td>3.208425</td>\n",
       "    </tr>\n",
       "    <tr>\n",
       "      <th>2</th>\n",
       "      <td>1092</td>\n",
       "      <td>2.5</td>\n",
       "      <td>10</td>\n",
       "      <td>None</td>\n",
       "      <td>1.124702</td>\n",
       "      <td>0.841112</td>\n",
       "      <td>1.004871</td>\n",
       "    </tr>\n",
       "    <tr>\n",
       "      <th>3</th>\n",
       "      <td>1134</td>\n",
       "      <td>2.5</td>\n",
       "      <td>10</td>\n",
       "      <td>None</td>\n",
       "      <td>0.683860</td>\n",
       "      <td>0.487463</td>\n",
       "      <td>0.597872</td>\n",
       "    </tr>\n",
       "    <tr>\n",
       "      <th>4</th>\n",
       "      <td>1176</td>\n",
       "      <td>2.5</td>\n",
       "      <td>10</td>\n",
       "      <td>None</td>\n",
       "      <td>1.651469</td>\n",
       "      <td>1.161445</td>\n",
       "      <td>1.457057</td>\n",
       "    </tr>\n",
       "    <tr>\n",
       "      <th>5</th>\n",
       "      <td>1218</td>\n",
       "      <td>2.5</td>\n",
       "      <td>10</td>\n",
       "      <td>None</td>\n",
       "      <td>4.644254</td>\n",
       "      <td>3.418298</td>\n",
       "      <td>4.451833</td>\n",
       "    </tr>\n",
       "    <tr>\n",
       "      <th>6</th>\n",
       "      <td>1260</td>\n",
       "      <td>2.5</td>\n",
       "      <td>10</td>\n",
       "      <td>None</td>\n",
       "      <td>5.446702</td>\n",
       "      <td>3.458844</td>\n",
       "      <td>4.893595</td>\n",
       "    </tr>\n",
       "    <tr>\n",
       "      <th>7</th>\n",
       "      <td>1302</td>\n",
       "      <td>2.5</td>\n",
       "      <td>10</td>\n",
       "      <td>None</td>\n",
       "      <td>2.541313</td>\n",
       "      <td>1.606686</td>\n",
       "      <td>2.201834</td>\n",
       "    </tr>\n",
       "    <tr>\n",
       "      <th>8</th>\n",
       "      <td>1344</td>\n",
       "      <td>2.5</td>\n",
       "      <td>10</td>\n",
       "      <td>None</td>\n",
       "      <td>4.795203</td>\n",
       "      <td>3.360170</td>\n",
       "      <td>4.648887</td>\n",
       "    </tr>\n",
       "    <tr>\n",
       "      <th>9</th>\n",
       "      <td>1386</td>\n",
       "      <td>2.5</td>\n",
       "      <td>10</td>\n",
       "      <td>None</td>\n",
       "      <td>1.030396</td>\n",
       "      <td>0.570690</td>\n",
       "      <td>0.816927</td>\n",
       "    </tr>\n",
       "    <tr>\n",
       "      <th>10</th>\n",
       "      <td>1428</td>\n",
       "      <td>2.5</td>\n",
       "      <td>10</td>\n",
       "      <td>None</td>\n",
       "      <td>1.081324</td>\n",
       "      <td>0.542292</td>\n",
       "      <td>0.805648</td>\n",
       "    </tr>\n",
       "    <tr>\n",
       "      <th>11</th>\n",
       "      <td>1470</td>\n",
       "      <td>2.5</td>\n",
       "      <td>10</td>\n",
       "      <td>None</td>\n",
       "      <td>5.860170</td>\n",
       "      <td>3.836386</td>\n",
       "      <td>5.345837</td>\n",
       "    </tr>\n",
       "  </tbody>\n",
       "</table>\n",
       "</div>"
      ],
      "text/plain": [
       "     day  changepoint_opt  fourier_order_opt window_opt      rmse      mape  \\\n",
       "0   1008              2.5                 10       None  0.549689  0.413399   \n",
       "1   1050              2.5                 10       None  3.380764  2.741116   \n",
       "2   1092              2.5                 10       None  1.124702  0.841112   \n",
       "3   1134              2.5                 10       None  0.683860  0.487463   \n",
       "4   1176              2.5                 10       None  1.651469  1.161445   \n",
       "5   1218              2.5                 10       None  4.644254  3.418298   \n",
       "6   1260              2.5                 10       None  5.446702  3.458844   \n",
       "7   1302              2.5                 10       None  2.541313  1.606686   \n",
       "8   1344              2.5                 10       None  4.795203  3.360170   \n",
       "9   1386              2.5                 10       None  1.030396  0.570690   \n",
       "10  1428              2.5                 10       None  1.081324  0.542292   \n",
       "11  1470              2.5                 10       None  5.860170  3.836386   \n",
       "\n",
       "         mae  \n",
       "0   0.466406  \n",
       "1   3.208425  \n",
       "2   1.004871  \n",
       "3   0.597872  \n",
       "4   1.457057  \n",
       "5   4.451833  \n",
       "6   4.893595  \n",
       "7   2.201834  \n",
       "8   4.648887  \n",
       "9   0.816927  \n",
       "10  0.805648  \n",
       "11  5.345837  "
      ]
     },
     "execution_count": 34,
     "metadata": {},
     "output_type": "execute_result"
    }
   ],
   "source": [
    "results_final_no_tune = pd.DataFrame({'day': i_list,\n",
    "                                      'changepoint_opt': [changepoint_prior_scale_opt]*len(i_list),\n",
    "                                      'fourier_order_opt': [fourier_order_opt]*len(i_list),\n",
    "                                      'window_opt': [window_opt]*len(i_list),\n",
    "                                      'rmse': rmse,\n",
    "                                      'mape': mape,\n",
    "                                      'mae': mae})\n",
    "results_final_no_tune"
   ]
  },
  {
   "cell_type": "code",
   "execution_count": 31,
   "metadata": {},
   "outputs": [
    {
     "data": {
      "text/plain": [
       "Text(0, 0.5, 'USD')"
      ]
     },
     "execution_count": 31,
     "metadata": {},
     "output_type": "execute_result"
    },
    {
     "data": {
      "image/png": "[encoded data removed]",
      "text/plain": [
       "<Figure size 720x576 with 1 Axes>"
      ]
     },
     "metadata": {
      "needs_background": "light"
     },
     "output_type": "display_data"
    }
   ],
   "source": [
    "# Plot the predictions\n",
    "rcParams['figure.figsize'] = 10, 8 # width 10, height 8\n",
    "\n",
    "ax = df.plot(x='date', y='adj_close', style='b-', grid=True)\n",
    "\n",
    "# Plot the predictions\n",
    "for key in preds_dict:\n",
    "    ax.plot(df['date'][key:key+H], preds_dict[key])\n",
    "    \n",
    "ax.set_xlabel(\"date\")\n",
    "ax.set_ylabel(\"USD\")"
   ]
  },
  {
   "cell_type": "code",
   "execution_count": 22,
   "metadata": {},
   "outputs": [
    {
     "data": {
      "text/plain": [
       "(736330.0, 737059.0)"
      ]
     },
     "execution_count": 22,
     "metadata": {},
     "output_type": "execute_result"
    },
    {
     "data": {
      "image/png": "[encoded data removed]",
      "text/plain": [
       "<Figure size 720x576 with 1 Axes>"
      ]
     },
     "metadata": {
      "needs_background": "light"
     },
     "output_type": "display_data"
    }
   ],
   "source": [
    "# Plot the predictions, and zoom in\n",
    "rcParams['figure.figsize'] = 10, 8 # width 10, height 8\n",
    "\n",
    "ax = df.plot(x='date', y='adj_close', style='b-', grid=True)\n",
    "\n",
    "# Plot the predictions\n",
    "for key in preds_dict:\n",
    "    ax.plot(df['date'][key:key+H], preds_dict[key])\n",
    "    \n",
    "ax.set_xlabel(\"date\")\n",
    "ax.set_ylabel(\"USD\")\n",
    "ax.legend(['adj_close', 'predictions'])\n",
    "ax.set_ylim([105, 150])\n",
    "ax.set_xlim([date(2017, 1, 1), date(2018, 12, 31)])"
   ]
  },
  {
   "cell_type": "markdown",
   "metadata": {},
   "source": [
    "# Predict for a specific H (forecast horizon), and various dates, tuning model for every prediction"
   ]
  },
  {
   "cell_type": "code",
   "execution_count": 18,
   "metadata": {},
   "outputs": [
    {
     "name": "stdout",
     "output_type": "stream",
     "text": [
      "Predicting on day 1302, date 2018-03-06 00:00:00, with forecast horizon H = 21\n"
     ]
    },
    {
     "data": {
      "application/vnd.jupyter.widget-view+json": {
       "model_id": "5154541fe0064c95a2a82c3afd6d0dea",
       "version_major": 2,
       "version_minor": 0
      },
      "text/plain": [
       "HBox(children=(IntProgress(value=0, max=5), HTML(value='')))"
      ]
     },
     "metadata": {},
     "output_type": "display_data"
    },
    {
     "data": {
      "application/vnd.jupyter.widget-view+json": {
       "model_id": "0ba14b4c94d34e00bda4bdd4c65d11cb",
       "version_major": 2,
       "version_minor": 0
      },
      "text/plain": [
       "HBox(children=(IntProgress(value=0, max=6), HTML(value='')))"
      ]
     },
     "metadata": {},
     "output_type": "display_data"
    },
    {
     "data": {
      "application/vnd.jupyter.widget-view+json": {
       "model_id": "50007b0087c6431eaac46cc53d9a4ad4",
       "version_major": 2,
       "version_minor": 0
      },
      "text/plain": [
       "HBox(children=(IntProgress(value=0, max=4), HTML(value='')))"
      ]
     },
     "metadata": {},
     "output_type": "display_data"
    },
    {
     "data": {
      "application/vnd.jupyter.widget-view+json": {
       "model_id": "c257f0648c0142e2a2ccd9b5a2ea2163",
       "version_major": 2,
       "version_minor": 0
      },
      "text/plain": [
       "HBox(children=(IntProgress(value=0, max=4), HTML(value='')))"
      ]
     },
     "metadata": {},
     "output_type": "display_data"
    },
    {
     "data": {
      "application/vnd.jupyter.widget-view+json": {
       "model_id": "3074ec251f814970bc9adea540337444",
       "version_major": 2,
       "version_minor": 0
      },
      "text/plain": [
       "HBox(children=(IntProgress(value=0, max=4), HTML(value='')))"
      ]
     },
     "metadata": {},
     "output_type": "display_data"
    },
    {
     "data": {
      "application/vnd.jupyter.widget-view+json": {
       "model_id": "bb23f28d18e24480aa5b44222b3260a7",
       "version_major": 2,
       "version_minor": 0
      },
      "text/plain": [
       "HBox(children=(IntProgress(value=0, max=4), HTML(value='')))"
      ]
     },
     "metadata": {},
     "output_type": "display_data"
    },
    {
     "data": {
      "application/vnd.jupyter.widget-view+json": {
       "model_id": "d8a745e25afd4be9b70fef4dce2058a7",
       "version_major": 2,
       "version_minor": 0
      },
      "text/plain": [
       "HBox(children=(IntProgress(value=0, max=4), HTML(value='')))"
      ]
     },
     "metadata": {},
     "output_type": "display_data"
    },
    {
     "data": {
      "application/vnd.jupyter.widget-view+json": {
       "model_id": "9aa0d3d6992041a180ddc91e3f7f91bb",
       "version_major": 2,
       "version_minor": 0
      },
      "text/plain": [
       "HBox(children=(IntProgress(value=0, max=4), HTML(value='')))"
      ]
     },
     "metadata": {},
     "output_type": "display_data"
    },
    {
     "data": {
      "application/vnd.jupyter.widget-view+json": {
       "model_id": "3a98d2b078d84b448e89b144daa3766e",
       "version_major": 2,
       "version_minor": 0
      },
      "text/plain": [
       "HBox(children=(IntProgress(value=0, max=6), HTML(value='')))"
      ]
     },
     "metadata": {},
     "output_type": "display_data"
    },
    {
     "data": {
      "application/vnd.jupyter.widget-view+json": {
       "model_id": "fb840983d89e422fbf6f43f759dae9bf",
       "version_major": 2,
       "version_minor": 0
      },
      "text/plain": [
       "HBox(children=(IntProgress(value=0, max=4), HTML(value='')))"
      ]
     },
     "metadata": {},
     "output_type": "display_data"
    },
    {
     "data": {
      "application/vnd.jupyter.widget-view+json": {
       "model_id": "05683653afd940c89a4d8171bd3c1136",
       "version_major": 2,
       "version_minor": 0
      },
      "text/plain": [
       "HBox(children=(IntProgress(value=0, max=4), HTML(value='')))"
      ]
     },
     "metadata": {},
     "output_type": "display_data"
    },
    {
     "data": {
      "application/vnd.jupyter.widget-view+json": {
       "model_id": "8ea7facba1d34608989884f8ac4633fa",
       "version_major": 2,
       "version_minor": 0
      },
      "text/plain": [
       "HBox(children=(IntProgress(value=0, max=4), HTML(value='')))"
      ]
     },
     "metadata": {},
     "output_type": "display_data"
    },
    {
     "data": {
      "application/vnd.jupyter.widget-view+json": {
       "model_id": "942ceb5fb17045e18a2ed9a8f313b44f",
       "version_major": 2,
       "version_minor": 0
      },
      "text/plain": [
       "HBox(children=(IntProgress(value=0, max=4), HTML(value='')))"
      ]
     },
     "metadata": {},
     "output_type": "display_data"
    },
    {
     "data": {
      "application/vnd.jupyter.widget-view+json": {
       "model_id": "d385e5041d1c480c8f8b35c98d95f7fb",
       "version_major": 2,
       "version_minor": 0
      },
      "text/plain": [
       "HBox(children=(IntProgress(value=0, max=4), HTML(value='')))"
      ]
     },
     "metadata": {},
     "output_type": "display_data"
    },
    {
     "data": {
      "application/vnd.jupyter.widget-view+json": {
       "model_id": "ec4b65f190534eecbdebcc3cffcd432b",
       "version_major": 2,
       "version_minor": 0
      },
      "text/plain": [
       "HBox(children=(IntProgress(value=0, max=4), HTML(value='')))"
      ]
     },
     "metadata": {},
     "output_type": "display_data"
    },
    {
     "data": {
      "application/vnd.jupyter.widget-view+json": {
       "model_id": "cbbedf09a2504d3dbffd1aafcb46aac0",
       "version_major": 2,
       "version_minor": 0
      },
      "text/plain": [
       "HBox(children=(IntProgress(value=0, max=6), HTML(value='')))"
      ]
     },
     "metadata": {},
     "output_type": "display_data"
    },
    {
     "data": {
      "application/vnd.jupyter.widget-view+json": {
       "model_id": "2ef02694b98a4eab89f5c38cadfcfad3",
       "version_major": 2,
       "version_minor": 0
      },
      "text/plain": [
       "HBox(children=(IntProgress(value=0, max=4), HTML(value='')))"
      ]
     },
     "metadata": {},
     "output_type": "display_data"
    },
    {
     "data": {
      "application/vnd.jupyter.widget-view+json": {
       "model_id": "3d6d3f42430f4984855d5d6b7e19db63",
       "version_major": 2,
       "version_minor": 0
      },
      "text/plain": [
       "HBox(children=(IntProgress(value=0, max=4), HTML(value='')))"
      ]
     },
     "metadata": {},
     "output_type": "display_data"
    },
    {
     "data": {
      "application/vnd.jupyter.widget-view+json": {
       "model_id": "ff994e69546f490199f2ee1da60d49c3",
       "version_major": 2,
       "version_minor": 0
      },
      "text/plain": [
       "HBox(children=(IntProgress(value=0, max=4), HTML(value='')))"
      ]
     },
     "metadata": {},
     "output_type": "display_data"
    },
    {
     "data": {
      "application/vnd.jupyter.widget-view+json": {
       "model_id": "78b156acca884020bd1684a657455e18",
       "version_major": 2,
       "version_minor": 0
      },
      "text/plain": [
       "HBox(children=(IntProgress(value=0, max=4), HTML(value='')))"
      ]
     },
     "metadata": {},
     "output_type": "display_data"
    },
    {
     "data": {
      "application/vnd.jupyter.widget-view+json": {
       "model_id": "c08a538b710f421ca2dc69ea2e0f864a",
       "version_major": 2,
       "version_minor": 0
      },
      "text/plain": [
       "HBox(children=(IntProgress(value=0, max=4), HTML(value='')))"
      ]
     },
     "metadata": {},
     "output_type": "display_data"
    },
    {
     "data": {
      "application/vnd.jupyter.widget-view+json": {
       "model_id": "5a292b03f4194ab3b07beade40246491",
       "version_major": 2,
       "version_minor": 0
      },
      "text/plain": [
       "HBox(children=(IntProgress(value=0, max=4), HTML(value='')))"
      ]
     },
     "metadata": {},
     "output_type": "display_data"
    },
    {
     "data": {
      "application/vnd.jupyter.widget-view+json": {
       "model_id": "f05bac9d8f704d4b9d524507a7e721a1",
       "version_major": 2,
       "version_minor": 0
      },
      "text/plain": [
       "HBox(children=(IntProgress(value=0, max=6), HTML(value='')))"
      ]
     },
     "metadata": {},
     "output_type": "display_data"
    },
    {
     "data": {
      "application/vnd.jupyter.widget-view+json": {
       "model_id": "335a8518d86748e78b64681ccea26b8e",
       "version_major": 2,
       "version_minor": 0
      },
      "text/plain": [
       "HBox(children=(IntProgress(value=0, max=4), HTML(value='')))"
      ]
     },
     "metadata": {},
     "output_type": "display_data"
    },
    {
     "data": {
      "application/vnd.jupyter.widget-view+json": {
       "model_id": "99d5f3af67c54b369858c0726249a4e1",
       "version_major": 2,
       "version_minor": 0
      },
      "text/plain": [
       "HBox(children=(IntProgress(value=0, max=4), HTML(value='')))"
      ]
     },
     "metadata": {},
     "output_type": "display_data"
    },
    {
     "data": {
      "application/vnd.jupyter.widget-view+json": {
       "model_id": "da0ca377dc5d40a280260986e180f7a5",
       "version_major": 2,
       "version_minor": 0
      },
      "text/plain": [
       "HBox(children=(IntProgress(value=0, max=4), HTML(value='')))"
      ]
     },
     "metadata": {},
     "output_type": "display_data"
    },
    {
     "data": {
      "application/vnd.jupyter.widget-view+json": {
       "model_id": "bcf3af97fe4048f6b4176296089ca874",
       "version_major": 2,
       "version_minor": 0
      },
      "text/plain": [
       "HBox(children=(IntProgress(value=0, max=4), HTML(value='')))"
      ]
     },
     "metadata": {},
     "output_type": "display_data"
    },
    {
     "data": {
      "application/vnd.jupyter.widget-view+json": {
       "model_id": "c7877ccaff2c42909ab63e84f3968e8c",
       "version_major": 2,
       "version_minor": 0
      },
      "text/plain": [
       "HBox(children=(IntProgress(value=0, max=4), HTML(value='')))"
      ]
     },
     "metadata": {},
     "output_type": "display_data"
    },
    {
     "data": {
      "application/vnd.jupyter.widget-view+json": {
       "model_id": "12bd3e060c8b45a185c218320135ba6b",
       "version_major": 2,
       "version_minor": 0
      },
      "text/plain": [
       "HBox(children=(IntProgress(value=0, max=4), HTML(value='')))"
      ]
     },
     "metadata": {},
     "output_type": "display_data"
    },
    {
     "data": {
      "application/vnd.jupyter.widget-view+json": {
       "model_id": "a559380ebc41467699aed4bd2bb41d58",
       "version_major": 2,
       "version_minor": 0
      },
      "text/plain": [
       "HBox(children=(IntProgress(value=0, max=6), HTML(value='')))"
      ]
     },
     "metadata": {},
     "output_type": "display_data"
    },
    {
     "data": {
      "application/vnd.jupyter.widget-view+json": {
       "model_id": "7ca50b4bbb314fc0bccbe95fd2bf0e06",
       "version_major": 2,
       "version_minor": 0
      },
      "text/plain": [
       "HBox(children=(IntProgress(value=0, max=4), HTML(value='')))"
      ]
     },
     "metadata": {},
     "output_type": "display_data"
    },
    {
     "data": {
      "application/vnd.jupyter.widget-view+json": {
       "model_id": "47bed4f6cce54ec19894a596f1125871",
       "version_major": 2,
       "version_minor": 0
      },
      "text/plain": [
       "HBox(children=(IntProgress(value=0, max=4), HTML(value='')))"
      ]
     },
     "metadata": {},
     "output_type": "display_data"
    },
    {
     "data": {
      "application/vnd.jupyter.widget-view+json": {
       "model_id": "b4207cfab0a4464291de1f657af43335",
       "version_major": 2,
       "version_minor": 0
      },
      "text/plain": [
       "HBox(children=(IntProgress(value=0, max=4), HTML(value='')))"
      ]
     },
     "metadata": {},
     "output_type": "display_data"
    },
    {
     "data": {
      "application/vnd.jupyter.widget-view+json": {
       "model_id": "3b6acbeb6f0a4ec0ac50478eb1483db0",
       "version_major": 2,
       "version_minor": 0
      },
      "text/plain": [
       "HBox(children=(IntProgress(value=0, max=4), HTML(value='')))"
      ]
     },
     "metadata": {},
     "output_type": "display_data"
    },
    {
     "data": {
      "application/vnd.jupyter.widget-view+json": {
       "model_id": "c81bbfc347ae4576900bf48a90cdfec4",
       "version_major": 2,
       "version_minor": 0
      },
      "text/plain": [
       "HBox(children=(IntProgress(value=0, max=4), HTML(value='')))"
      ]
     },
     "metadata": {},
     "output_type": "display_data"
    },
    {
     "data": {
      "application/vnd.jupyter.widget-view+json": {
       "model_id": "67b320135d87481b8eccfc8f747f6749",
       "version_major": 2,
       "version_minor": 0
      },
      "text/plain": [
       "HBox(children=(IntProgress(value=0, max=4), HTML(value='')))"
      ]
     },
     "metadata": {},
     "output_type": "display_data"
    },
    {
     "name": "stderr",
     "output_type": "stream",
     "text": [
      "INFO:fbprophet:Disabling daily seasonality. Run prophet with daily_seasonality=True to override this.\n"
     ]
    },
    {
     "name": "stdout",
     "output_type": "stream",
     "text": [
      "\n",
      "Time taken = 99.4053551475207\n",
      "Predicting on day 1386, date 2018-07-05 00:00:00, with forecast horizon H = 21\n"
     ]
    },
    {
     "data": {
      "application/vnd.jupyter.widget-view+json": {
       "model_id": "6996931615a347b0b7389f3a081f5977",
       "version_major": 2,
       "version_minor": 0
      },
      "text/plain": [
       "HBox(children=(IntProgress(value=0, max=5), HTML(value='')))"
      ]
     },
     "metadata": {},
     "output_type": "display_data"
    },
    {
     "data": {
      "application/vnd.jupyter.widget-view+json": {
       "model_id": "594f683ff16c407886ce91e131fd223b",
       "version_major": 2,
       "version_minor": 0
      },
      "text/plain": [
       "HBox(children=(IntProgress(value=0, max=6), HTML(value='')))"
      ]
     },
     "metadata": {},
     "output_type": "display_data"
    },
    {
     "data": {
      "application/vnd.jupyter.widget-view+json": {
       "model_id": "58c0bd27b45a47f4bb87f01e7f2ec335",
       "version_major": 2,
       "version_minor": 0
      },
      "text/plain": [
       "HBox(children=(IntProgress(value=0, max=4), HTML(value='')))"
      ]
     },
     "metadata": {},
     "output_type": "display_data"
    },
    {
     "data": {
      "application/vnd.jupyter.widget-view+json": {
       "model_id": "f96d4e106c2e4e95ba7b156bf1385b84",
       "version_major": 2,
       "version_minor": 0
      },
      "text/plain": [
       "HBox(children=(IntProgress(value=0, max=4), HTML(value='')))"
      ]
     },
     "metadata": {},
     "output_type": "display_data"
    },
    {
     "data": {
      "application/vnd.jupyter.widget-view+json": {
       "model_id": "bba93cd2b6d448809d3dd2abff5bd0f0",
       "version_major": 2,
       "version_minor": 0
      },
      "text/plain": [
       "HBox(children=(IntProgress(value=0, max=4), HTML(value='')))"
      ]
     },
     "metadata": {},
     "output_type": "display_data"
    },
    {
     "data": {
      "application/vnd.jupyter.widget-view+json": {
       "model_id": "fe134984bb74458db885ecb111bc7077",
       "version_major": 2,
       "version_minor": 0
      },
      "text/plain": [
       "HBox(children=(IntProgress(value=0, max=4), HTML(value='')))"
      ]
     },
     "metadata": {},
     "output_type": "display_data"
    },
    {
     "data": {
      "application/vnd.jupyter.widget-view+json": {
       "model_id": "ad435dcb4f974504bdd37a3b30168bcf",
       "version_major": 2,
       "version_minor": 0
      },
      "text/plain": [
       "HBox(children=(IntProgress(value=0, max=4), HTML(value='')))"
      ]
     },
     "metadata": {},
     "output_type": "display_data"
    },
    {
     "data": {
      "application/vnd.jupyter.widget-view+json": {
       "model_id": "1eaf0448d12c47d0a066c59ba8b1d065",
       "version_major": 2,
       "version_minor": 0
      },
      "text/plain": [
       "HBox(children=(IntProgress(value=0, max=4), HTML(value='')))"
      ]
     },
     "metadata": {},
     "output_type": "display_data"
    },
    {
     "data": {
      "application/vnd.jupyter.widget-view+json": {
       "model_id": "db7046f8f6b64ae896eb3ec23ba43e02",
       "version_major": 2,
       "version_minor": 0
      },
      "text/plain": [
       "HBox(children=(IntProgress(value=0, max=6), HTML(value='')))"
      ]
     },
     "metadata": {},
     "output_type": "display_data"
    },
    {
     "data": {
      "application/vnd.jupyter.widget-view+json": {
       "model_id": "b02fdc3167b84a0fa2074cd5e2eaf218",
       "version_major": 2,
       "version_minor": 0
      },
      "text/plain": [
       "HBox(children=(IntProgress(value=0, max=4), HTML(value='')))"
      ]
     },
     "metadata": {},
     "output_type": "display_data"
    },
    {
     "data": {
      "application/vnd.jupyter.widget-view+json": {
       "model_id": "a244aa0d645d488fb8b913b88b0753ac",
       "version_major": 2,
       "version_minor": 0
      },
      "text/plain": [
       "HBox(children=(IntProgress(value=0, max=4), HTML(value='')))"
      ]
     },
     "metadata": {},
     "output_type": "display_data"
    },
    {
     "data": {
      "application/vnd.jupyter.widget-view+json": {
       "model_id": "fe24b74159334cb5a3b9dc4d955c2905",
       "version_major": 2,
       "version_minor": 0
      },
      "text/plain": [
       "HBox(children=(IntProgress(value=0, max=4), HTML(value='')))"
      ]
     },
     "metadata": {},
     "output_type": "display_data"
    },
    {
     "data": {
      "application/vnd.jupyter.widget-view+json": {
       "model_id": "7b60f0e996eb47719a0773e241c3187b",
       "version_major": 2,
       "version_minor": 0
      },
      "text/plain": [
       "HBox(children=(IntProgress(value=0, max=4), HTML(value='')))"
      ]
     },
     "metadata": {},
     "output_type": "display_data"
    },
    {
     "data": {
      "application/vnd.jupyter.widget-view+json": {
       "model_id": "1b16dd1f21b44896bc298b1ced170c7d",
       "version_major": 2,
       "version_minor": 0
      },
      "text/plain": [
       "HBox(children=(IntProgress(value=0, max=4), HTML(value='')))"
      ]
     },
     "metadata": {},
     "output_type": "display_data"
    },
    {
     "data": {
      "application/vnd.jupyter.widget-view+json": {
       "model_id": "00c732980a294849a0304cb6ade57fed",
       "version_major": 2,
       "version_minor": 0
      },
      "text/plain": [
       "HBox(children=(IntProgress(value=0, max=4), HTML(value='')))"
      ]
     },
     "metadata": {},
     "output_type": "display_data"
    },
    {
     "data": {
      "application/vnd.jupyter.widget-view+json": {
       "model_id": "d77f5d433f5d4ef6bce17f3f058f7ca8",
       "version_major": 2,
       "version_minor": 0
      },
      "text/plain": [
       "HBox(children=(IntProgress(value=0, max=6), HTML(value='')))"
      ]
     },
     "metadata": {},
     "output_type": "display_data"
    },
    {
     "data": {
      "application/vnd.jupyter.widget-view+json": {
       "model_id": "a7a6e440d9004765acf9210b372ff13e",
       "version_major": 2,
       "version_minor": 0
      },
      "text/plain": [
       "HBox(children=(IntProgress(value=0, max=4), HTML(value='')))"
      ]
     },
     "metadata": {},
     "output_type": "display_data"
    },
    {
     "data": {
      "application/vnd.jupyter.widget-view+json": {
       "model_id": "8bb9bea08a04441abfdd9238f303d88c",
       "version_major": 2,
       "version_minor": 0
      },
      "text/plain": [
       "HBox(children=(IntProgress(value=0, max=4), HTML(value='')))"
      ]
     },
     "metadata": {},
     "output_type": "display_data"
    },
    {
     "data": {
      "application/vnd.jupyter.widget-view+json": {
       "model_id": "42f863a0113f430f846cd5be735d8552",
       "version_major": 2,
       "version_minor": 0
      },
      "text/plain": [
       "HBox(children=(IntProgress(value=0, max=4), HTML(value='')))"
      ]
     },
     "metadata": {},
     "output_type": "display_data"
    },
    {
     "data": {
      "application/vnd.jupyter.widget-view+json": {
       "model_id": "af0533e021da451da574c5c46047d098",
       "version_major": 2,
       "version_minor": 0
      },
      "text/plain": [
       "HBox(children=(IntProgress(value=0, max=4), HTML(value='')))"
      ]
     },
     "metadata": {},
     "output_type": "display_data"
    },
    {
     "data": {
      "application/vnd.jupyter.widget-view+json": {
       "model_id": "79ba3c7197244255bf5acdef7d533cf1",
       "version_major": 2,
       "version_minor": 0
      },
      "text/plain": [
       "HBox(children=(IntProgress(value=0, max=4), HTML(value='')))"
      ]
     },
     "metadata": {},
     "output_type": "display_data"
    },
    {
     "data": {
      "application/vnd.jupyter.widget-view+json": {
       "model_id": "b646b36c1adf4141b44f26ead2e6fd2f",
       "version_major": 2,
       "version_minor": 0
      },
      "text/plain": [
       "HBox(children=(IntProgress(value=0, max=4), HTML(value='')))"
      ]
     },
     "metadata": {},
     "output_type": "display_data"
    },
    {
     "data": {
      "application/vnd.jupyter.widget-view+json": {
       "model_id": "08b68c0652ec4ccebdc1d4955862fc33",
       "version_major": 2,
       "version_minor": 0
      },
      "text/plain": [
       "HBox(children=(IntProgress(value=0, max=6), HTML(value='')))"
      ]
     },
     "metadata": {},
     "output_type": "display_data"
    },
    {
     "data": {
      "application/vnd.jupyter.widget-view+json": {
       "model_id": "f2886393b89d4f75a3d7552886079265",
       "version_major": 2,
       "version_minor": 0
      },
      "text/plain": [
       "HBox(children=(IntProgress(value=0, max=4), HTML(value='')))"
      ]
     },
     "metadata": {},
     "output_type": "display_data"
    },
    {
     "data": {
      "application/vnd.jupyter.widget-view+json": {
       "model_id": "5c5dd2ba0ec3482c83030f810975643e",
       "version_major": 2,
       "version_minor": 0
      },
      "text/plain": [
       "HBox(children=(IntProgress(value=0, max=4), HTML(value='')))"
      ]
     },
     "metadata": {},
     "output_type": "display_data"
    },
    {
     "data": {
      "application/vnd.jupyter.widget-view+json": {
       "model_id": "c593bf339d754f21ad997a32c3a7c369",
       "version_major": 2,
       "version_minor": 0
      },
      "text/plain": [
       "HBox(children=(IntProgress(value=0, max=4), HTML(value='')))"
      ]
     },
     "metadata": {},
     "output_type": "display_data"
    },
    {
     "data": {
      "application/vnd.jupyter.widget-view+json": {
       "model_id": "6e5310445a7143568248b35789f33aa0",
       "version_major": 2,
       "version_minor": 0
      },
      "text/plain": [
       "HBox(children=(IntProgress(value=0, max=4), HTML(value='')))"
      ]
     },
     "metadata": {},
     "output_type": "display_data"
    },
    {
     "data": {
      "application/vnd.jupyter.widget-view+json": {
       "model_id": "aed238c6671045f692ee923772d1817f",
       "version_major": 2,
       "version_minor": 0
      },
      "text/plain": [
       "HBox(children=(IntProgress(value=0, max=4), HTML(value='')))"
      ]
     },
     "metadata": {},
     "output_type": "display_data"
    },
    {
     "data": {
      "application/vnd.jupyter.widget-view+json": {
       "model_id": "08840a3f19ae45ed96e20316e7f102ce",
       "version_major": 2,
       "version_minor": 0
      },
      "text/plain": [
       "HBox(children=(IntProgress(value=0, max=4), HTML(value='')))"
      ]
     },
     "metadata": {},
     "output_type": "display_data"
    },
    {
     "data": {
      "application/vnd.jupyter.widget-view+json": {
       "model_id": "6f9177816bab4c41902543d25b8c11da",
       "version_major": 2,
       "version_minor": 0
      },
      "text/plain": [
       "HBox(children=(IntProgress(value=0, max=6), HTML(value='')))"
      ]
     },
     "metadata": {},
     "output_type": "display_data"
    },
    {
     "data": {
      "application/vnd.jupyter.widget-view+json": {
       "model_id": "0a556baeb98e472e8263ff1350e1f9ba",
       "version_major": 2,
       "version_minor": 0
      },
      "text/plain": [
       "HBox(children=(IntProgress(value=0, max=4), HTML(value='')))"
      ]
     },
     "metadata": {},
     "output_type": "display_data"
    },
    {
     "data": {
      "application/vnd.jupyter.widget-view+json": {
       "model_id": "706ba8d861564f51a3749fe14293f190",
       "version_major": 2,
       "version_minor": 0
      },
      "text/plain": [
       "HBox(children=(IntProgress(value=0, max=4), HTML(value='')))"
      ]
     },
     "metadata": {},
     "output_type": "display_data"
    },
    {
     "data": {
      "application/vnd.jupyter.widget-view+json": {
       "model_id": "0e1de826f92e47319be9a4d71dcbb649",
       "version_major": 2,
       "version_minor": 0
      },
      "text/plain": [
       "HBox(children=(IntProgress(value=0, max=4), HTML(value='')))"
      ]
     },
     "metadata": {},
     "output_type": "display_data"
    },
    {
     "data": {
      "application/vnd.jupyter.widget-view+json": {
       "model_id": "c7ab908bab8641d8908439d0c5148da2",
       "version_major": 2,
       "version_minor": 0
      },
      "text/plain": [
       "HBox(children=(IntProgress(value=0, max=4), HTML(value='')))"
      ]
     },
     "metadata": {},
     "output_type": "display_data"
    },
    {
     "data": {
      "application/vnd.jupyter.widget-view+json": {
       "model_id": "4f65046a7c404031810c74dd1cadb872",
       "version_major": 2,
       "version_minor": 0
      },
      "text/plain": [
       "HBox(children=(IntProgress(value=0, max=4), HTML(value='')))"
      ]
     },
     "metadata": {},
     "output_type": "display_data"
    },
    {
     "data": {
      "application/vnd.jupyter.widget-view+json": {
       "model_id": "ca1946b804d34e319bd680e3c94f8b04",
       "version_major": 2,
       "version_minor": 0
      },
      "text/plain": [
       "HBox(children=(IntProgress(value=0, max=4), HTML(value='')))"
      ]
     },
     "metadata": {},
     "output_type": "display_data"
    },
    {
     "name": "stderr",
     "output_type": "stream",
     "text": [
      "INFO:fbprophet:Disabling daily seasonality. Run prophet with daily_seasonality=True to override this.\n"
     ]
    },
    {
     "name": "stdout",
     "output_type": "stream",
     "text": [
      "\n",
      "Time taken = 96.90871193408967\n",
      "Predicting on day 1470, date 2018-11-01 00:00:00, with forecast horizon H = 21\n"
     ]
    },
    {
     "data": {
      "application/vnd.jupyter.widget-view+json": {
       "model_id": "8b08983c559147f1bd3092a1db714f44",
       "version_major": 2,
       "version_minor": 0
      },
      "text/plain": [
       "HBox(children=(IntProgress(value=0, max=5), HTML(value='')))"
      ]
     },
     "metadata": {},
     "output_type": "display_data"
    },
    {
     "data": {
      "application/vnd.jupyter.widget-view+json": {
       "model_id": "1ae00d0596314417bcd5433383dfebfc",
       "version_major": 2,
       "version_minor": 0
      },
      "text/plain": [
       "HBox(children=(IntProgress(value=0, max=6), HTML(value='')))"
      ]
     },
     "metadata": {},
     "output_type": "display_data"
    },
    {
     "data": {
      "application/vnd.jupyter.widget-view+json": {
       "model_id": "893d0ef068c94a308d787545c365e942",
       "version_major": 2,
       "version_minor": 0
      },
      "text/plain": [
       "HBox(children=(IntProgress(value=0, max=4), HTML(value='')))"
      ]
     },
     "metadata": {},
     "output_type": "display_data"
    },
    {
     "data": {
      "application/vnd.jupyter.widget-view+json": {
       "model_id": "10f115894edc4e1ca07d2598c57d4ed6",
       "version_major": 2,
       "version_minor": 0
      },
      "text/plain": [
       "HBox(children=(IntProgress(value=0, max=4), HTML(value='')))"
      ]
     },
     "metadata": {},
     "output_type": "display_data"
    },
    {
     "data": {
      "application/vnd.jupyter.widget-view+json": {
       "model_id": "3cd5eef61ccc4762a27e9e28cf943166",
       "version_major": 2,
       "version_minor": 0
      },
      "text/plain": [
       "HBox(children=(IntProgress(value=0, max=4), HTML(value='')))"
      ]
     },
     "metadata": {},
     "output_type": "display_data"
    },
    {
     "data": {
      "application/vnd.jupyter.widget-view+json": {
       "model_id": "659debcc7c8d4b21bf1ea1c61d9df86f",
       "version_major": 2,
       "version_minor": 0
      },
      "text/plain": [
       "HBox(children=(IntProgress(value=0, max=4), HTML(value='')))"
      ]
     },
     "metadata": {},
     "output_type": "display_data"
    },
    {
     "data": {
      "application/vnd.jupyter.widget-view+json": {
       "model_id": "49884f65d76c45b988fcf5a0c660d743",
       "version_major": 2,
       "version_minor": 0
      },
      "text/plain": [
       "HBox(children=(IntProgress(value=0, max=4), HTML(value='')))"
      ]
     },
     "metadata": {},
     "output_type": "display_data"
    },
    {
     "data": {
      "application/vnd.jupyter.widget-view+json": {
       "model_id": "ea75c2c61f3949ab873568d581a6549b",
       "version_major": 2,
       "version_minor": 0
      },
      "text/plain": [
       "HBox(children=(IntProgress(value=0, max=4), HTML(value='')))"
      ]
     },
     "metadata": {},
     "output_type": "display_data"
    },
    {
     "data": {
      "application/vnd.jupyter.widget-view+json": {
       "model_id": "0a60c4827ffa48478b4b38a1861c293a",
       "version_major": 2,
       "version_minor": 0
      },
      "text/plain": [
       "HBox(children=(IntProgress(value=0, max=6), HTML(value='')))"
      ]
     },
     "metadata": {},
     "output_type": "display_data"
    },
    {
     "data": {
      "application/vnd.jupyter.widget-view+json": {
       "model_id": "5e2b31cc2f02458b97898fd5c2b1dcb5",
       "version_major": 2,
       "version_minor": 0
      },
      "text/plain": [
       "HBox(children=(IntProgress(value=0, max=4), HTML(value='')))"
      ]
     },
     "metadata": {},
     "output_type": "display_data"
    },
    {
     "data": {
      "application/vnd.jupyter.widget-view+json": {
       "model_id": "5c210e8c6e814f11a42168b41ffeaaa0",
       "version_major": 2,
       "version_minor": 0
      },
      "text/plain": [
       "HBox(children=(IntProgress(value=0, max=4), HTML(value='')))"
      ]
     },
     "metadata": {},
     "output_type": "display_data"
    },
    {
     "data": {
      "application/vnd.jupyter.widget-view+json": {
       "model_id": "9b7f6a90c2d54a46b8f8f5d48fafb6d3",
       "version_major": 2,
       "version_minor": 0
      },
      "text/plain": [
       "HBox(children=(IntProgress(value=0, max=4), HTML(value='')))"
      ]
     },
     "metadata": {},
     "output_type": "display_data"
    },
    {
     "data": {
      "application/vnd.jupyter.widget-view+json": {
       "model_id": "8b4a042e4e954b708a7477c18e7b08ab",
       "version_major": 2,
       "version_minor": 0
      },
      "text/plain": [
       "HBox(children=(IntProgress(value=0, max=4), HTML(value='')))"
      ]
     },
     "metadata": {},
     "output_type": "display_data"
    },
    {
     "data": {
      "application/vnd.jupyter.widget-view+json": {
       "model_id": "b9252e84e2fc45a0b8825f66cb78db41",
       "version_major": 2,
       "version_minor": 0
      },
      "text/plain": [
       "HBox(children=(IntProgress(value=0, max=4), HTML(value='')))"
      ]
     },
     "metadata": {},
     "output_type": "display_data"
    },
    {
     "data": {
      "application/vnd.jupyter.widget-view+json": {
       "model_id": "802d086cac294c9089ac10d9b53d9dfc",
       "version_major": 2,
       "version_minor": 0
      },
      "text/plain": [
       "HBox(children=(IntProgress(value=0, max=4), HTML(value='')))"
      ]
     },
     "metadata": {},
     "output_type": "display_data"
    },
    {
     "data": {
      "application/vnd.jupyter.widget-view+json": {
       "model_id": "90e8aa692c044c93957ee4227a4752ee",
       "version_major": 2,
       "version_minor": 0
      },
      "text/plain": [
       "HBox(children=(IntProgress(value=0, max=6), HTML(value='')))"
      ]
     },
     "metadata": {},
     "output_type": "display_data"
    },
    {
     "data": {
      "application/vnd.jupyter.widget-view+json": {
       "model_id": "315ab7adc5804a2c8421eae463bd63d9",
       "version_major": 2,
       "version_minor": 0
      },
      "text/plain": [
       "HBox(children=(IntProgress(value=0, max=4), HTML(value='')))"
      ]
     },
     "metadata": {},
     "output_type": "display_data"
    },
    {
     "data": {
      "application/vnd.jupyter.widget-view+json": {
       "model_id": "02188ed68bad40a8b4db8c844d86e180",
       "version_major": 2,
       "version_minor": 0
      },
      "text/plain": [
       "HBox(children=(IntProgress(value=0, max=4), HTML(value='')))"
      ]
     },
     "metadata": {},
     "output_type": "display_data"
    },
    {
     "data": {
      "application/vnd.jupyter.widget-view+json": {
       "model_id": "b00cbc8dc44542d0ad8b9e76be6f95b9",
       "version_major": 2,
       "version_minor": 0
      },
      "text/plain": [
       "HBox(children=(IntProgress(value=0, max=4), HTML(value='')))"
      ]
     },
     "metadata": {},
     "output_type": "display_data"
    },
    {
     "data": {
      "application/vnd.jupyter.widget-view+json": {
       "model_id": "de270746dfb94643b3ba19e94ce675f0",
       "version_major": 2,
       "version_minor": 0
      },
      "text/plain": [
       "HBox(children=(IntProgress(value=0, max=4), HTML(value='')))"
      ]
     },
     "metadata": {},
     "output_type": "display_data"
    },
    {
     "data": {
      "application/vnd.jupyter.widget-view+json": {
       "model_id": "af8824bbb7a444198defa23ec84b244d",
       "version_major": 2,
       "version_minor": 0
      },
      "text/plain": [
       "HBox(children=(IntProgress(value=0, max=4), HTML(value='')))"
      ]
     },
     "metadata": {},
     "output_type": "display_data"
    },
    {
     "data": {
      "application/vnd.jupyter.widget-view+json": {
       "model_id": "20597c2be81244769b23cea0f12190cb",
       "version_major": 2,
       "version_minor": 0
      },
      "text/plain": [
       "HBox(children=(IntProgress(value=0, max=4), HTML(value='')))"
      ]
     },
     "metadata": {},
     "output_type": "display_data"
    },
    {
     "data": {
      "application/vnd.jupyter.widget-view+json": {
       "model_id": "880ec5ca80a14353897c5d7d4111479b",
       "version_major": 2,
       "version_minor": 0
      },
      "text/plain": [
       "HBox(children=(IntProgress(value=0, max=6), HTML(value='')))"
      ]
     },
     "metadata": {},
     "output_type": "display_data"
    },
    {
     "data": {
      "application/vnd.jupyter.widget-view+json": {
       "model_id": "76a2dc97909c4bc69c923898519bc331",
       "version_major": 2,
       "version_minor": 0
      },
      "text/plain": [
       "HBox(children=(IntProgress(value=0, max=4), HTML(value='')))"
      ]
     },
     "metadata": {},
     "output_type": "display_data"
    },
    {
     "data": {
      "application/vnd.jupyter.widget-view+json": {
       "model_id": "43de8dc65f9e4eafba1e88d77aa0c7e5",
       "version_major": 2,
       "version_minor": 0
      },
      "text/plain": [
       "HBox(children=(IntProgress(value=0, max=4), HTML(value='')))"
      ]
     },
     "metadata": {},
     "output_type": "display_data"
    },
    {
     "data": {
      "application/vnd.jupyter.widget-view+json": {
       "model_id": "36fb0e8b1552494fbb2ea8aee03ee231",
       "version_major": 2,
       "version_minor": 0
      },
      "text/plain": [
       "HBox(children=(IntProgress(value=0, max=4), HTML(value='')))"
      ]
     },
     "metadata": {},
     "output_type": "display_data"
    },
    {
     "data": {
      "application/vnd.jupyter.widget-view+json": {
       "model_id": "2f4e78814d824c9aa6696ddf796b548b",
       "version_major": 2,
       "version_minor": 0
      },
      "text/plain": [
       "HBox(children=(IntProgress(value=0, max=4), HTML(value='')))"
      ]
     },
     "metadata": {},
     "output_type": "display_data"
    },
    {
     "data": {
      "application/vnd.jupyter.widget-view+json": {
       "model_id": "4c4929f1f08a4ce0a94a3ec09391bb8f",
       "version_major": 2,
       "version_minor": 0
      },
      "text/plain": [
       "HBox(children=(IntProgress(value=0, max=4), HTML(value='')))"
      ]
     },
     "metadata": {},
     "output_type": "display_data"
    },
    {
     "data": {
      "application/vnd.jupyter.widget-view+json": {
       "model_id": "a39920dc700c4ab2b3fb13174beca31d",
       "version_major": 2,
       "version_minor": 0
      },
      "text/plain": [
       "HBox(children=(IntProgress(value=0, max=4), HTML(value='')))"
      ]
     },
     "metadata": {},
     "output_type": "display_data"
    },
    {
     "data": {
      "application/vnd.jupyter.widget-view+json": {
       "model_id": "055a41286b774a4f8267e47c9285fb2f",
       "version_major": 2,
       "version_minor": 0
      },
      "text/plain": [
       "HBox(children=(IntProgress(value=0, max=6), HTML(value='')))"
      ]
     },
     "metadata": {},
     "output_type": "display_data"
    },
    {
     "data": {
      "application/vnd.jupyter.widget-view+json": {
       "model_id": "4525943ba2464ef0ad034f76976e8d40",
       "version_major": 2,
       "version_minor": 0
      },
      "text/plain": [
       "HBox(children=(IntProgress(value=0, max=4), HTML(value='')))"
      ]
     },
     "metadata": {},
     "output_type": "display_data"
    },
    {
     "data": {
      "application/vnd.jupyter.widget-view+json": {
       "model_id": "478694936f0b461d94ad0f08a5dfd287",
       "version_major": 2,
       "version_minor": 0
      },
      "text/plain": [
       "HBox(children=(IntProgress(value=0, max=4), HTML(value='')))"
      ]
     },
     "metadata": {},
     "output_type": "display_data"
    },
    {
     "data": {
      "application/vnd.jupyter.widget-view+json": {
       "model_id": "58f9f4b40b3f4201a06afe22fc07512c",
       "version_major": 2,
       "version_minor": 0
      },
      "text/plain": [
       "HBox(children=(IntProgress(value=0, max=4), HTML(value='')))"
      ]
     },
     "metadata": {},
     "output_type": "display_data"
    },
    {
     "data": {
      "application/vnd.jupyter.widget-view+json": {
       "model_id": "4b0cc19a43354103b8affbfa93af2595",
       "version_major": 2,
       "version_minor": 0
      },
      "text/plain": [
       "HBox(children=(IntProgress(value=0, max=4), HTML(value='')))"
      ]
     },
     "metadata": {},
     "output_type": "display_data"
    },
    {
     "data": {
      "application/vnd.jupyter.widget-view+json": {
       "model_id": "f55bc1875a514fc6a84182d4b2120412",
       "version_major": 2,
       "version_minor": 0
      },
      "text/plain": [
       "HBox(children=(IntProgress(value=0, max=4), HTML(value='')))"
      ]
     },
     "metadata": {},
     "output_type": "display_data"
    },
    {
     "data": {
      "application/vnd.jupyter.widget-view+json": {
       "model_id": "e9b5d2546cb04cf3a512f8f8c331e84c",
       "version_major": 2,
       "version_minor": 0
      },
      "text/plain": [
       "HBox(children=(IntProgress(value=0, max=4), HTML(value='')))"
      ]
     },
     "metadata": {},
     "output_type": "display_data"
    },
    {
     "name": "stderr",
     "output_type": "stream",
     "text": [
      "INFO:fbprophet:Disabling daily seasonality. Run prophet with daily_seasonality=True to override this.\n"
     ]
    },
    {
     "name": "stdout",
     "output_type": "stream",
     "text": [
      "\n",
      "Time taken = 95.0793583671252\n"
     ]
    }
   ],
   "source": [
    "i_list = [train_val_size+294, train_val_size+378, train_val_size+462]\n",
    "for i in i_list:\n",
    "    print(\"Predicting on day %d, date %s, with forecast horizon H = %d\" % (i, df_prophet.iloc[i]['ds'], H))\n",
    "\n",
    "    # Predict using Prophet, and compute error metrics also\n",
    "    rmse = [] # root mean square error\n",
    "    mape = [] # mean absolute percentage error\n",
    "    mae = []  # mean absolute error\n",
    "    preds_dict = {}\n",
    "\n",
    "    tic = time.time()\n",
    "    \n",
    "    changepoint_prior_scale_opt, fourier_order_opt, window_opt, results = \\\n",
    "        hyperparam_tune_cp_fo_wd(df_prophet[i-train_val_size:i], \n",
    "                                 H, \n",
    "                                 train_size, \n",
    "                                 val_size, \n",
    "                                 changepoint_prior_scale_list,\n",
    "                                 fourier_order_list,\n",
    "                                 window_list,\n",
    "                                 hols)\n",
    "    \n",
    "    # Get predictions using tuned hyperparams\n",
    "    if (window_opt is None) or (np.isnan(window_opt)):\n",
    "        preds_list = get_preds_prophet(df_prophet[i-train_val_size:i], \n",
    "                                       H, \n",
    "                                       changepoint_prior_scale_opt, \n",
    "                                       fourier_order_opt, \n",
    "                                       holidays=None)\n",
    "    else:\n",
    "        hols['lower_window'] = -window_opt\n",
    "        hols['upper_window'] = +window_opt\n",
    "        preds_list = get_preds_prophet(df_prophet[i-train_val_size:i], \n",
    "                                       H, \n",
    "                                       changepoint_prior_scale_opt, \n",
    "                                       fourier_order_opt, \n",
    "                                       holidays=hols)\n",
    "    \n",
    "    # Compute error metrics\n",
    "    rmse = get_rmse(df_prophet[i:i+H]['y'], preds_list)\n",
    "    mape = get_mape(df_prophet[i:i+H]['y'], preds_list)\n",
    "    mae = get_mae(df_prophet[i:i+H]['y'], preds_list)\n",
    "\n",
    "    # Put results into pickle\n",
    "    pickle.dump(preds_list, open(\"./data/preds_list_\" + str(i) + \".pickle\", \"wb\"))\n",
    "    pickle.dump(rmse, open(\"./data/rmse_\" + str(i) + \".pickle\", \"wb\"))\n",
    "    pickle.dump(mape, open(\"./data/mape_\" + str(i) + \".pickle\", \"wb\"))\n",
    "    pickle.dump(mae, open(\"./data/mae_\" + str(i) + \".pickle\", \"wb\"))\n",
    "    pickle.dump(changepoint_prior_scale_opt, open(\"./data/changepoint_prior_scale_opt_\" + str(i) + \".pickle\", \"wb\"))\n",
    "    pickle.dump(fourier_order_opt, open(\"./data/fourier_order_opt_\" + str(i) + \".pickle\", \"wb\"))\n",
    "    pickle.dump(window_opt, open(\"./data/window_opt_\" + str(i) + \".pickle\", \"wb\"))\n",
    "    pickle.dump(results, open(\"./data/results_\" + str(i) + \".pickle\", \"wb\"))\n",
    "    \n",
    "    toc = time.time()\n",
    "    print(\"Time taken = \" + str((toc-tic)/60.0))"
   ]
  },
  {
   "cell_type": "code",
   "execution_count": 23,
   "metadata": {},
   "outputs": [],
   "source": [
    "# Load pickle file\n",
    "i_list = range(train_val_size, train_val_size+84*5+42+1, 42)\n",
    "# i_list = [train_val_size, train_val_size+42, train_val_size+84, train_val_size+126, train_val_size+84*2, \n",
    "#           train_val_size+210, train_val_size+84*3, train_val_size+84*4, train_val_size+84*5]\n",
    "preds_dict = {}\n",
    "rmse, mape, mae, changepoint_prior_scale_opt, fourier_order_opt, window_opt = [], [], [], [], [], []\n",
    "\n",
    "for i in i_list:\n",
    "    preds_dict[i] = pickle.load(open( \"./data/preds_list_\" + str(i) + \".pickle\", \"rb\"))\n",
    "    rmse.append(pickle.load(open( \"./data/rmse_\" + str(i) + \".pickle\", \"rb\")))\n",
    "    mape.append(pickle.load(open( \"./data/mape_\" + str(i) + \".pickle\", \"rb\")))\n",
    "    mae.append(pickle.load(open( \"./data/mae_\" + str(i) + \".pickle\", \"rb\")))\n",
    "    changepoint_prior_scale_opt.append(pickle.load(open( \"./data/changepoint_prior_scale_opt_\" + str(i) + \".pickle\", \"rb\")))\n",
    "    fourier_order_opt.append(pickle.load(open( \"./data/fourier_order_opt_\" + str(i) + \".pickle\", \"rb\")))\n",
    "    window_opt.append(pickle.load(open( \"./data/window_opt_\" + str(i) + \".pickle\", \"rb\")))"
   ]
  },
  {
   "cell_type": "code",
   "execution_count": 24,
   "metadata": {
    "scrolled": true
   },
   "outputs": [
    {
     "name": "stdout",
     "output_type": "stream",
     "text": [
      "For forecast horizon 21, the mean RMSE is 3.163655\n",
      "For forecast horizon 21, the mean MAPE is 2.145439\n",
      "For forecast horizon 21, the mean MAE is 2.859784\n"
     ]
    }
   ],
   "source": [
    "print(\"For forecast horizon %d, the mean RMSE is %f\" % (H, np.mean(rmse)))\n",
    "print(\"For forecast horizon %d, the mean MAPE is %f\" % (H, np.mean(mape)))\n",
    "print(\"For forecast horizon %d, the mean MAE is %f\" % (H, np.mean(mae)))"
   ]
  },
  {
   "cell_type": "code",
   "execution_count": 25,
   "metadata": {},
   "outputs": [
    {
     "data": {
      "text/html": [
       "<div>\n",
       "<style scoped>\n",
       "    .dataframe tbody tr th:only-of-type {\n",
       "        vertical-align: middle;\n",
       "    }\n",
       "\n",
       "    .dataframe tbody tr th {\n",
       "        vertical-align: top;\n",
       "    }\n",
       "\n",
       "    .dataframe thead th {\n",
       "        text-align: right;\n",
       "    }\n",
       "</style>\n",
       "<table border=\"1\" class=\"dataframe\">\n",
       "  <thead>\n",
       "    <tr style=\"text-align: right;\">\n",
       "      <th></th>\n",
       "      <th>day</th>\n",
       "      <th>changepoint_opt</th>\n",
       "      <th>fourier_order_opt</th>\n",
       "      <th>window_opt</th>\n",
       "      <th>rmse</th>\n",
       "      <th>mape</th>\n",
       "      <th>mae</th>\n",
       "    </tr>\n",
       "  </thead>\n",
       "  <tbody>\n",
       "    <tr>\n",
       "      <th>0</th>\n",
       "      <td>1008</td>\n",
       "      <td>2.50</td>\n",
       "      <td>10.0</td>\n",
       "      <td>NaN</td>\n",
       "      <td>0.549689</td>\n",
       "      <td>0.413399</td>\n",
       "      <td>0.466406</td>\n",
       "    </tr>\n",
       "    <tr>\n",
       "      <th>1</th>\n",
       "      <td>1050</td>\n",
       "      <td>0.50</td>\n",
       "      <td>NaN</td>\n",
       "      <td>NaN</td>\n",
       "      <td>3.221916</td>\n",
       "      <td>2.621324</td>\n",
       "      <td>3.068330</td>\n",
       "    </tr>\n",
       "    <tr>\n",
       "      <th>2</th>\n",
       "      <td>1092</td>\n",
       "      <td>0.50</td>\n",
       "      <td>NaN</td>\n",
       "      <td>NaN</td>\n",
       "      <td>0.919853</td>\n",
       "      <td>0.673048</td>\n",
       "      <td>0.803092</td>\n",
       "    </tr>\n",
       "    <tr>\n",
       "      <th>3</th>\n",
       "      <td>1134</td>\n",
       "      <td>0.50</td>\n",
       "      <td>10.0</td>\n",
       "      <td>0.0</td>\n",
       "      <td>0.649267</td>\n",
       "      <td>0.452010</td>\n",
       "      <td>0.554066</td>\n",
       "    </tr>\n",
       "    <tr>\n",
       "      <th>4</th>\n",
       "      <td>1176</td>\n",
       "      <td>0.05</td>\n",
       "      <td>NaN</td>\n",
       "      <td>0.0</td>\n",
       "      <td>2.863377</td>\n",
       "      <td>2.099864</td>\n",
       "      <td>2.632234</td>\n",
       "    </tr>\n",
       "    <tr>\n",
       "      <th>5</th>\n",
       "      <td>1218</td>\n",
       "      <td>0.50</td>\n",
       "      <td>10.0</td>\n",
       "      <td>0.0</td>\n",
       "      <td>4.389950</td>\n",
       "      <td>3.221738</td>\n",
       "      <td>4.195792</td>\n",
       "    </tr>\n",
       "    <tr>\n",
       "      <th>6</th>\n",
       "      <td>1260</td>\n",
       "      <td>0.50</td>\n",
       "      <td>10.0</td>\n",
       "      <td>NaN</td>\n",
       "      <td>6.767098</td>\n",
       "      <td>4.411612</td>\n",
       "      <td>6.235123</td>\n",
       "    </tr>\n",
       "    <tr>\n",
       "      <th>7</th>\n",
       "      <td>1302</td>\n",
       "      <td>0.05</td>\n",
       "      <td>4.0</td>\n",
       "      <td>0.0</td>\n",
       "      <td>6.708947</td>\n",
       "      <td>4.349691</td>\n",
       "      <td>5.838674</td>\n",
       "    </tr>\n",
       "    <tr>\n",
       "      <th>8</th>\n",
       "      <td>1344</td>\n",
       "      <td>0.50</td>\n",
       "      <td>8.0</td>\n",
       "      <td>1.0</td>\n",
       "      <td>4.739977</td>\n",
       "      <td>3.314702</td>\n",
       "      <td>4.586408</td>\n",
       "    </tr>\n",
       "    <tr>\n",
       "      <th>9</th>\n",
       "      <td>1386</td>\n",
       "      <td>1.50</td>\n",
       "      <td>NaN</td>\n",
       "      <td>NaN</td>\n",
       "      <td>1.092350</td>\n",
       "      <td>0.589348</td>\n",
       "      <td>0.843652</td>\n",
       "    </tr>\n",
       "    <tr>\n",
       "      <th>10</th>\n",
       "      <td>1428</td>\n",
       "      <td>1.50</td>\n",
       "      <td>8.0</td>\n",
       "      <td>NaN</td>\n",
       "      <td>1.450030</td>\n",
       "      <td>0.745403</td>\n",
       "      <td>1.107411</td>\n",
       "    </tr>\n",
       "    <tr>\n",
       "      <th>11</th>\n",
       "      <td>1470</td>\n",
       "      <td>0.50</td>\n",
       "      <td>10.0</td>\n",
       "      <td>2.0</td>\n",
       "      <td>4.611407</td>\n",
       "      <td>2.853132</td>\n",
       "      <td>3.986218</td>\n",
       "    </tr>\n",
       "  </tbody>\n",
       "</table>\n",
       "</div>"
      ],
      "text/plain": [
       "     day  changepoint_opt  fourier_order_opt  window_opt      rmse      mape  \\\n",
       "0   1008             2.50               10.0         NaN  0.549689  0.413399   \n",
       "1   1050             0.50                NaN         NaN  3.221916  2.621324   \n",
       "2   1092             0.50                NaN         NaN  0.919853  0.673048   \n",
       "3   1134             0.50               10.0         0.0  0.649267  0.452010   \n",
       "4   1176             0.05                NaN         0.0  2.863377  2.099864   \n",
       "5   1218             0.50               10.0         0.0  4.389950  3.221738   \n",
       "6   1260             0.50               10.0         NaN  6.767098  4.411612   \n",
       "7   1302             0.05                4.0         0.0  6.708947  4.349691   \n",
       "8   1344             0.50                8.0         1.0  4.739977  3.314702   \n",
       "9   1386             1.50                NaN         NaN  1.092350  0.589348   \n",
       "10  1428             1.50                8.0         NaN  1.450030  0.745403   \n",
       "11  1470             0.50               10.0         2.0  4.611407  2.853132   \n",
       "\n",
       "         mae  \n",
       "0   0.466406  \n",
       "1   3.068330  \n",
       "2   0.803092  \n",
       "3   0.554066  \n",
       "4   2.632234  \n",
       "5   4.195792  \n",
       "6   6.235123  \n",
       "7   5.838674  \n",
       "8   4.586408  \n",
       "9   0.843652  \n",
       "10  1.107411  \n",
       "11  3.986218  "
      ]
     },
     "execution_count": 25,
     "metadata": {},
     "output_type": "execute_result"
    }
   ],
   "source": [
    "results_final = pd.DataFrame({'day': i_list,\n",
    "                              'changepoint_opt': changepoint_prior_scale_opt,\n",
    "                              'fourier_order_opt': fourier_order_opt,\n",
    "                              'window_opt': window_opt,\n",
    "                              'rmse': rmse,\n",
    "                              'mape': mape,\n",
    "                              'mae': mae})\n",
    "results_final"
   ]
  },
  {
   "cell_type": "code",
   "execution_count": 26,
   "metadata": {},
   "outputs": [
    {
     "data": {
      "text/plain": [
       "(736330.0, 737059.0)"
      ]
     },
     "execution_count": 26,
     "metadata": {},
     "output_type": "execute_result"
    },
    {
     "data": {
      "image/png": "[encoded data removed]",
      "text/plain": [
       "<Figure size 720x576 with 1 Axes>"
      ]
     },
     "metadata": {
      "needs_background": "light"
     },
     "output_type": "display_data"
    }
   ],
   "source": [
    "# Plot the predictions, and zoom in\n",
    "rcParams['figure.figsize'] = 10, 8 # width 10, height 8\n",
    "\n",
    "ax = df.plot(x='date', y='adj_close', style='b-', grid=True)\n",
    "\n",
    "# Plot the predictions\n",
    "for key in preds_dict:\n",
    "    ax.plot(df['date'][key:key+H], preds_dict[key])\n",
    "    \n",
    "ax.set_xlabel(\"date\")\n",
    "ax.set_ylabel(\"USD\")\n",
    "ax.set_ylim([105, 150])\n",
    "ax.set_xlim([date(2017, 1, 1), date(2018, 12, 31)])"
   ]
  },
  {
   "cell_type": "markdown",
   "metadata": {},
   "source": [
    "# Findings\n"
   ]
  },
  {
   "cell_type": "code",
   "execution_count": 39,
   "metadata": {},
   "outputs": [
    {
     "data": {
      "text/html": [
       "<div>\n",
       "<style scoped>\n",
       "    .dataframe tbody tr th:only-of-type {\n",
       "        vertical-align: middle;\n",
       "    }\n",
       "\n",
       "    .dataframe tbody tr th {\n",
       "        vertical-align: top;\n",
       "    }\n",
       "\n",
       "    .dataframe thead th {\n",
       "        text-align: right;\n",
       "    }\n",
       "</style>\n",
       "<table border=\"1\" class=\"dataframe\">\n",
       "  <thead>\n",
       "    <tr style=\"text-align: right;\">\n",
       "      <th></th>\n",
       "      <th>Method</th>\n",
       "      <th>RMSE</th>\n",
       "      <th>MAPE(%)</th>\n",
       "      <th>MAE</th>\n",
       "    </tr>\n",
       "  </thead>\n",
       "  <tbody>\n",
       "    <tr>\n",
       "      <th>0</th>\n",
       "      <td>Last Value</td>\n",
       "      <td>2.56</td>\n",
       "      <td>1.65</td>\n",
       "      <td>2.19</td>\n",
       "    </tr>\n",
       "    <tr>\n",
       "      <th>1</th>\n",
       "      <td>Prophet - no hyperparameter tuning</td>\n",
       "      <td>3.40</td>\n",
       "      <td>2.87</td>\n",
       "      <td>3.25</td>\n",
       "    </tr>\n",
       "    <tr>\n",
       "      <th>2</th>\n",
       "      <td>Prophet tuning changepoint</td>\n",
       "      <td>0.64</td>\n",
       "      <td>0.52</td>\n",
       "      <td>0.58</td>\n",
       "    </tr>\n",
       "    <tr>\n",
       "      <th>3</th>\n",
       "      <td>Prophet tuning fourier order</td>\n",
       "      <td>3.52</td>\n",
       "      <td>2.98</td>\n",
       "      <td>3.37</td>\n",
       "    </tr>\n",
       "    <tr>\n",
       "      <th>4</th>\n",
       "      <td>Prophet tuning window size</td>\n",
       "      <td>3.40</td>\n",
       "      <td>2.87</td>\n",
       "      <td>3.25</td>\n",
       "    </tr>\n",
       "    <tr>\n",
       "      <th>5</th>\n",
       "      <td>Prophet tuning changepoint, fourier order, and window size</td>\n",
       "      <td>0.55</td>\n",
       "      <td>0.41</td>\n",
       "      <td>0.47</td>\n",
       "    </tr>\n",
       "  </tbody>\n",
       "</table>\n",
       "</div>"
      ],
      "text/plain": [
       "                                                       Method  RMSE  MAPE(%)  \\\n",
       "0  Last Value                                                  2.56  1.65      \n",
       "1  Prophet - no hyperparameter tuning                          3.40  2.87      \n",
       "2  Prophet tuning changepoint                                  0.64  0.52      \n",
       "3  Prophet tuning fourier order                                3.52  2.98      \n",
       "4  Prophet tuning window size                                  3.40  2.87      \n",
       "5  Prophet tuning changepoint, fourier order, and window size  0.55  0.41      \n",
       "\n",
       "    MAE  \n",
       "0  2.19  \n",
       "1  3.25  \n",
       "2  0.58  \n",
       "3  3.37  \n",
       "4  3.25  \n",
       "5  0.47  "
      ]
     },
     "execution_count": 39,
     "metadata": {},
     "output_type": "execute_result"
    }
   ],
   "source": [
    "# Consolidate results from hyperparameter tuning\n",
    "pd.set_option('display.max_colwidth', -1)  # or 199\n",
    "results = pd.DataFrame({'Method': ['Last Value', \n",
    "                                   'Prophet - no hyperparameter tuning', \n",
    "                                   'Prophet tuning changepoint', \n",
    "                                   'Prophet tuning fourier order', \n",
    "                                   'Prophet tuning window size', \n",
    "                                   'Prophet tuning changepoint, fourier order, and window size'],\n",
    "                        'RMSE'    : [2.56, 3.40, 0.64, 3.52, 3.40, 0.55],\n",
    "                        'MAPE(%)' : [1.65, 2.87, 0.52, 2.98, 2.87, 0.41],\n",
    "                        'MAE'     : [2.19, 3.25, 0.58, 3.37, 3.25, 0.47]                       \n",
    "                       })\n",
    "results"
   ]
  },
  {
   "cell_type": "code",
   "execution_count": null,
   "metadata": {},
   "outputs": [],
   "source": []
  }
 ],
 "metadata": {
  "kernelspec": {
   "display_name": "Python 3",
   "language": "python",
   "name": "python3"
  },
  "language_info": {
   "codemirror_mode": {
    "name": "ipython",
    "version": 3
   },
   "file_extension": ".py",
   "mimetype": "text/x-python",
   "name": "python",
   "nbconvert_exporter": "python",
   "pygments_lexer": "ipython3",
   "version": "3.7.2"
  }
 },
 "nbformat": 4,
 "nbformat_minor": 4
}
