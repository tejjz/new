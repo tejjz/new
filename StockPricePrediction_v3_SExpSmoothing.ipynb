{
 "cells": [
  {
   "cell_type": "markdown",
   "metadata": {},
   "source": [
    "# Objective\n",
    "* 20190301:\n",
    "    * Given prices for the last N days, we do prediction for the next N+H days, where H is the forecast horizon\n",
    "    * Instead of using prophet, we use single exponential smoothing to predict"
   ]
  },
  {
   "cell_type": "code",
   "execution_count": 1,
   "metadata": {},
   "outputs": [
    {
     "name": "stdout",
     "output_type": "stream",
     "text": [
      "No. of days in train+validation set = 1008\n"
     ]
    }
   ],
   "source": [
    "%matplotlib inline\n",
    "\n",
    "import math\n",
    "import matplotlib\n",
    "import numpy as np\n",
    "import pandas as pd\n",
    "import time\n",
    "\n",
    "from collections import defaultdict\n",
    "from datetime import date, datetime, time, timedelta\n",
    "from matplotlib import pyplot as plt\n",
    "from pylab import rcParams\n",
    "from sklearn.metrics import mean_squared_error\n",
    "\n",
    "#### Input params ##################\n",
    "stk_path = \"./data/VTI_20130102_20181231.csv\"\n",
    "H = 21\n",
    "train_size = 252*3              # Use 3 years of data as train set. Note there are about 252 trading days in a year\n",
    "val_size = 252                  # Use 1 year of data as validation set\n",
    "\n",
    "alphaMax = 0.999                # alpha is a hyperparameter to tune\n",
    "alphaMin = 0.01                 # alpha is a hyperparameter to tune\n",
    "alphaStep = 0.01               # alpha is a hyperparameter to tune\n",
    "\n",
    "fontsize = 14\n",
    "ticklabelsize = 14\n",
    "####################################\n",
    "\n",
    "train_val_size = train_size + val_size # Size of train+validation set\n",
    "print(\"No. of days in train+validation set = \" + str(train_val_size))"
   ]
  },
  {
   "cell_type": "code",
   "execution_count": 2,
   "metadata": {},
   "outputs": [
    {
     "name": "stdout",
     "output_type": "stream",
     "text": [
      "We will start forecasting on day 1009\n"
     ]
    }
   ],
   "source": [
    "print(\"We will start forecasting on day %d\" % (train_val_size+1))"
   ]
  },
  {
   "cell_type": "markdown",
   "metadata": {},
   "source": [
    "# Common functions"
   ]
  },
  {
   "cell_type": "code",
   "execution_count": 3,
   "metadata": {},
   "outputs": [],
   "source": [
    "def get_mape(y_true, y_pred): \n",
    "    \"\"\"\n",
    "    Compute mean absolute percentage error (MAPE)\n",
    "    \"\"\"\n",
    "    y_true, y_pred = np.array(y_true), np.array(y_pred)\n",
    "    return np.mean(np.abs((y_true - y_pred) / y_true)) * 100\n",
    "\n",
    "def get_mae(a, b):\n",
    "    \"\"\"\n",
    "    Comp mean absolute error e_t = E[|a_t - b_t|]. a and b can be lists.\n",
    "    Returns a vector of len = len(a) = len(b)\n",
    "    \"\"\"\n",
    "    return np.mean(abs(np.array(a)-np.array(b)))\n",
    "\n",
    "def get_rmse(a, b):\n",
    "    \"\"\"\n",
    "    Comp RMSE. a and b can be lists.\n",
    "    Returns a scalar.\n",
    "    \"\"\"\n",
    "    return math.sqrt(np.mean((np.array(a)-np.array(b))**2))\n",
    "\n",
    "def exponential_smoothing(series, H, alpha=0.5):\n",
    "    \"\"\"\n",
    "    Given a series and alpha, return series of smoothed points\n",
    "    Set S_2 = y_1 (there is no S_1), and\n",
    "    S_t = alpha * y_t-1 + (1-alpha) * S_t-1, where t >= 3. Note t starts from 1.\n",
    "    Forecast S_t+1 = alpha * y_origin + (1-alpha) * S_t, where y_origin is the last known data point    \n",
    "    Inputs\n",
    "        series: series to forecast\n",
    "        alpha : smoothing constant. \n",
    "                When alpha is close to 1, dampening is quick. \n",
    "                When alpha is close to 0, dampening is slow\n",
    "        H     : forecast horizon\n",
    "    Outputs\n",
    "        result: the predictions. The length of result is H\n",
    "    \"\"\"\n",
    "    result = [0, series[0]] # initialization\n",
    "    for n in range(1, len(series)+H-1):\n",
    "        if n >= len(series): # we are forecasting\n",
    "            result.append(alpha * series[-1] + (1 - alpha) * result[n])\n",
    "        else:\n",
    "            result.append(alpha * series[n] + (1 - alpha) * result[n]) \n",
    "            # result[2] is the forecast using series[1],  ie. result[2] is the estimate of series[2]\n",
    "    return result[len(series):len(series)+H]\n",
    "\n",
    "def get_error_metrics(series, train_size, H, alpha):\n",
    "    \"\"\"\n",
    "    Given a series consisting of both train+validation, do predictions of forecast horizon H on the validation set, \n",
    "    at H/2 intervals.\n",
    "    Inputs\n",
    "        series     : series to forecast, with length = (train_size + val_size)\n",
    "        train_size : length of series to use as train ie. train set is series[:train_size]\n",
    "        H          : forecast horizon\n",
    "    Outputs\n",
    "        mean of rmse, mean of mape, mean of mae\n",
    "    \"\"\"\n",
    "    # Predict using single exponential smoothing, and compute error metrics also\n",
    "    rmse = [] # root mean square error\n",
    "    mape = [] # mean absolute percentage error\n",
    "    mae = []  # mean absolute error\n",
    "    preds_dict = {}\n",
    "    \n",
    "    for i in range(train_size, len(series)-H+1, int(H/2)):\n",
    "        preds_list = exponential_smoothing(series[i-train_size:i], H, alpha)\n",
    "        \n",
    "        rmse.append(get_rmse(series[i:i+H], preds_list))\n",
    "        mape.append(get_mape(series[i:i+H], preds_list))\n",
    "        mae.append(get_mae(series[i:i+H], preds_list))\n",
    "        preds_dict[i] = preds_list\n",
    "    \n",
    "    return np.mean(rmse), np.mean(mape), np.mean(mae), preds_dict    \n",
    "    \n",
    "def hyperparam_tune_alpha(series, train_size, H):\n",
    "    \"\"\"\n",
    "    Given a series, tune hyperparameter alpha, fit and predict\n",
    "    Inputs\n",
    "        series     : series to forecast, with length = (train_size + val_size)\n",
    "        train_size : length of series to use as train ie. train set is series[:train_size]\n",
    "        H          : forecast horizon\n",
    "    Outputs\n",
    "        optimum hyperparameters, error metrics dataframe\n",
    "    \"\"\"\n",
    "    alpha_err_dict = defaultdict(list)\n",
    "    alpha = alphaMin\n",
    "    while alpha <= alphaMax:\n",
    "        rmse_mean, mape_mean, mae_mean, _ = get_error_metrics(series, train_size, H, alpha)\n",
    "        \n",
    "        # Append alpha\n",
    "        alpha_err_dict['alpha'].append(alpha)\n",
    "    \n",
    "        # Compute error metrics\n",
    "        alpha_err_dict['rmse'].append(rmse_mean)\n",
    "        alpha_err_dict['mape'].append(mape_mean)\n",
    "        alpha_err_dict['mae'].append(mae_mean)\n",
    "        \n",
    "        # Increase alpha by one step\n",
    "        alpha = alpha + alphaStep\n",
    "    \n",
    "    # Convert to dataframe\n",
    "    alpha_err_df = pd.DataFrame(alpha_err_dict)\n",
    "    \n",
    "    # Get min RMSE\n",
    "    rmse_min = alpha_err_df['rmse'].min()\n",
    "    \n",
    "    return alpha_err_df[alpha_err_df['rmse'] == rmse_min]['alpha'].values[0], alpha_err_df"
   ]
  },
  {
   "cell_type": "markdown",
   "metadata": {},
   "source": [
    "# Load data"
   ]
  },
  {
   "cell_type": "code",
   "execution_count": 4,
   "metadata": {},
   "outputs": [
    {
     "data": {
      "text/html": [
       "<div>\n",
       "<style scoped>\n",
       "    .dataframe tbody tr th:only-of-type {\n",
       "        vertical-align: middle;\n",
       "    }\n",
       "\n",
       "    .dataframe tbody tr th {\n",
       "        vertical-align: top;\n",
       "    }\n",
       "\n",
       "    .dataframe thead th {\n",
       "        text-align: right;\n",
       "    }\n",
       "</style>\n",
       "<table border=\"1\" class=\"dataframe\">\n",
       "  <thead>\n",
       "    <tr style=\"text-align: right;\">\n",
       "      <th></th>\n",
       "      <th>date</th>\n",
       "      <th>open</th>\n",
       "      <th>high</th>\n",
       "      <th>low</th>\n",
       "      <th>close</th>\n",
       "      <th>adj_close</th>\n",
       "      <th>volume</th>\n",
       "    </tr>\n",
       "  </thead>\n",
       "  <tbody>\n",
       "    <tr>\n",
       "      <td>0</td>\n",
       "      <td>2013-01-02</td>\n",
       "      <td>74.529999</td>\n",
       "      <td>75.150002</td>\n",
       "      <td>74.500000</td>\n",
       "      <td>75.139999</td>\n",
       "      <td>66.997757</td>\n",
       "      <td>5037200</td>\n",
       "    </tr>\n",
       "    <tr>\n",
       "      <td>1</td>\n",
       "      <td>2013-01-03</td>\n",
       "      <td>75.120003</td>\n",
       "      <td>75.370003</td>\n",
       "      <td>74.839996</td>\n",
       "      <td>75.029999</td>\n",
       "      <td>66.899689</td>\n",
       "      <td>2634600</td>\n",
       "    </tr>\n",
       "    <tr>\n",
       "      <td>2</td>\n",
       "      <td>2013-01-04</td>\n",
       "      <td>75.139999</td>\n",
       "      <td>75.519997</td>\n",
       "      <td>74.989998</td>\n",
       "      <td>75.410004</td>\n",
       "      <td>67.238510</td>\n",
       "      <td>2512900</td>\n",
       "    </tr>\n",
       "    <tr>\n",
       "      <td>3</td>\n",
       "      <td>2013-01-07</td>\n",
       "      <td>75.180000</td>\n",
       "      <td>75.279999</td>\n",
       "      <td>74.949997</td>\n",
       "      <td>75.209999</td>\n",
       "      <td>67.060173</td>\n",
       "      <td>2511200</td>\n",
       "    </tr>\n",
       "    <tr>\n",
       "      <td>4</td>\n",
       "      <td>2013-01-08</td>\n",
       "      <td>75.110001</td>\n",
       "      <td>75.180000</td>\n",
       "      <td>74.699997</td>\n",
       "      <td>75.010002</td>\n",
       "      <td>66.881859</td>\n",
       "      <td>1407900</td>\n",
       "    </tr>\n",
       "    <tr>\n",
       "      <td>5</td>\n",
       "      <td>2013-01-09</td>\n",
       "      <td>75.190002</td>\n",
       "      <td>75.410004</td>\n",
       "      <td>75.110001</td>\n",
       "      <td>75.239998</td>\n",
       "      <td>67.086937</td>\n",
       "      <td>1421900</td>\n",
       "    </tr>\n",
       "    <tr>\n",
       "      <td>6</td>\n",
       "      <td>2013-01-10</td>\n",
       "      <td>75.620003</td>\n",
       "      <td>75.769997</td>\n",
       "      <td>75.220001</td>\n",
       "      <td>75.760002</td>\n",
       "      <td>67.550591</td>\n",
       "      <td>1403700</td>\n",
       "    </tr>\n",
       "    <tr>\n",
       "      <td>7</td>\n",
       "      <td>2013-01-11</td>\n",
       "      <td>75.760002</td>\n",
       "      <td>75.800003</td>\n",
       "      <td>75.510002</td>\n",
       "      <td>75.769997</td>\n",
       "      <td>67.559486</td>\n",
       "      <td>1248500</td>\n",
       "    </tr>\n",
       "    <tr>\n",
       "      <td>8</td>\n",
       "      <td>2013-01-14</td>\n",
       "      <td>75.750000</td>\n",
       "      <td>75.800003</td>\n",
       "      <td>75.440002</td>\n",
       "      <td>75.690002</td>\n",
       "      <td>67.488159</td>\n",
       "      <td>2745100</td>\n",
       "    </tr>\n",
       "    <tr>\n",
       "      <td>9</td>\n",
       "      <td>2013-01-15</td>\n",
       "      <td>75.400002</td>\n",
       "      <td>75.889999</td>\n",
       "      <td>75.339996</td>\n",
       "      <td>75.830002</td>\n",
       "      <td>67.612984</td>\n",
       "      <td>1109100</td>\n",
       "    </tr>\n",
       "  </tbody>\n",
       "</table>\n",
       "</div>"
      ],
      "text/plain": [
       "        date       open       high        low      close  adj_close   volume\n",
       "0 2013-01-02  74.529999  75.150002  74.500000  75.139999  66.997757  5037200\n",
       "1 2013-01-03  75.120003  75.370003  74.839996  75.029999  66.899689  2634600\n",
       "2 2013-01-04  75.139999  75.519997  74.989998  75.410004  67.238510  2512900\n",
       "3 2013-01-07  75.180000  75.279999  74.949997  75.209999  67.060173  2511200\n",
       "4 2013-01-08  75.110001  75.180000  74.699997  75.010002  66.881859  1407900\n",
       "5 2013-01-09  75.190002  75.410004  75.110001  75.239998  67.086937  1421900\n",
       "6 2013-01-10  75.620003  75.769997  75.220001  75.760002  67.550591  1403700\n",
       "7 2013-01-11  75.760002  75.800003  75.510002  75.769997  67.559486  1248500\n",
       "8 2013-01-14  75.750000  75.800003  75.440002  75.690002  67.488159  2745100\n",
       "9 2013-01-15  75.400002  75.889999  75.339996  75.830002  67.612984  1109100"
      ]
     },
     "execution_count": 4,
     "metadata": {},
     "output_type": "execute_result"
    }
   ],
   "source": [
    "df = pd.read_csv(stk_path, sep = \",\")\n",
    "\n",
    "# Convert Date column to datetime\n",
    "df.loc[:, 'Date'] = pd.to_datetime(df['Date'],format='%Y-%m-%d')\n",
    "\n",
    "# Change all column headings to be lower case, and remove spacing\n",
    "df.columns = [str(x).lower().replace(' ', '_') for x in df.columns]\n",
    "\n",
    "# Sort by datetime\n",
    "df.sort_values(by='date', inplace=True, ascending=True)\n",
    "\n",
    "df.head(10)"
   ]
  },
  {
   "cell_type": "code",
   "execution_count": 5,
   "metadata": {},
   "outputs": [
    {
     "data": {
      "text/plain": [
       "(Timestamp('2013-01-02 00:00:00'), Timestamp('2018-12-28 00:00:00'))"
      ]
     },
     "execution_count": 5,
     "metadata": {},
     "output_type": "execute_result"
    }
   ],
   "source": [
    "df['date'].min(), df['date'].max() "
   ]
  },
  {
   "cell_type": "code",
   "execution_count": 6,
   "metadata": {},
   "outputs": [
    {
     "data": {
      "text/plain": [
       "Text(0, 0.5, 'USD')"
      ]
     },
     "execution_count": 6,
     "metadata": {},
     "output_type": "execute_result"
    },
    {
     "data": {
      "image/png": "[encoded data removed]",
      "text/plain": [
       "<Figure size 720x576 with 1 Axes>"
      ]
     },
     "metadata": {
      "needs_background": "light"
     },
     "output_type": "display_data"
    }
   ],
   "source": [
    "# Plot adjusted close over time\n",
    "rcParams['figure.figsize'] = 10, 8 # width 10, height 8\n",
    "\n",
    "ax = df.plot(x='date', y='adj_close', style='b-', grid=True)\n",
    "ax.set_xlabel(\"date\")\n",
    "ax.set_ylabel(\"USD\")"
   ]
  },
  {
   "cell_type": "markdown",
   "metadata": {},
   "source": [
    "# Predict for a specific H (forecast horizon) and a specific date"
   ]
  },
  {
   "cell_type": "code",
   "execution_count": 7,
   "metadata": {},
   "outputs": [
    {
     "name": "stdout",
     "output_type": "stream",
     "text": [
      "Predicting on day 1008, date 2017-01-03 00:00:00, with forecast horizon H = 21\n"
     ]
    }
   ],
   "source": [
    "i = train_val_size # Predict for day i, for the next H-1 days. Note indexing of days start from 0.\n",
    "print(\"Predicting on day %d, date %s, with forecast horizon H = %d\" % (i, df.iloc[i]['date'], H))"
   ]
  },
  {
   "cell_type": "code",
   "execution_count": 8,
   "metadata": {},
   "outputs": [
    {
     "name": "stdout",
     "output_type": "stream",
     "text": [
      "For forecast horizon 21, predicting on day 1008, date 2017-01-03 00:00:00, the RMSE is 1.864318\n",
      "For forecast horizon 21, predicting on day 1008, date 2017-01-03 00:00:00, the mean MAPE is 1.564834\n",
      "For forecast horizon 21, predicting on day 1008, date 2017-01-03 00:00:00, the mean MAE is 1.769639\n"
     ]
    }
   ],
   "source": [
    "# Predict\n",
    "preds_list = exponential_smoothing(df['adj_close'][i-train_val_size:i].values, H)\n",
    "print(\"For forecast horizon %d, predicting on day %d, date %s, the RMSE is %f\" % (H, i, df['date'][i], get_rmse(df[i:i+H]['adj_close'], preds_list)))\n",
    "print(\"For forecast horizon %d, predicting on day %d, date %s, the mean MAPE is %f\" % (H, i, df['date'][i], get_mape(df[i:i+H]['adj_close'], preds_list)))\n",
    "print(\"For forecast horizon %d, predicting on day %d, date %s, the mean MAE is %f\" % (H, i, df['date'][i], get_mae(df[i:i+H]['adj_close'], preds_list)))"
   ]
  },
  {
   "cell_type": "code",
   "execution_count": 9,
   "metadata": {},
   "outputs": [
    {
     "data": {
      "text/plain": [
       "(736269.0, 736388.0)"
      ]
     },
     "execution_count": 9,
     "metadata": {},
     "output_type": "execute_result"
    },
    {
     "data": {
      "image/png": "[encoded data removed]",
      "text/plain": [
       "<Figure size 720x576 with 1 Axes>"
      ]
     },
     "metadata": {
      "needs_background": "light"
     },
     "output_type": "display_data"
    }
   ],
   "source": [
    "# Plot the predictions\n",
    "rcParams['figure.figsize'] = 10, 8 # width 10, height 8\n",
    "matplotlib.rcParams.update({'font.size': 14})\n",
    "\n",
    "ax = df.plot(x='date', y='adj_close', style='bx-', grid=True)\n",
    "\n",
    "# Plot the predictions\n",
    "ax.plot(df['date'][i:i+H], preds_list, marker='x')\n",
    "    \n",
    "ax.set_xlabel(\"date\")\n",
    "ax.set_ylabel(\"USD\")\n",
    "ax.legend(['adj_close', 'predictions'])\n",
    "ax.set_ylim([105, 120])\n",
    "ax.set_xlim([date(2016, 11, 1), date(2017, 2, 28)])"
   ]
  },
  {
   "cell_type": "markdown",
   "metadata": {},
   "source": [
    "# Predict for a specific H (forecast horizon) and a specific date, with hyperparameter tuning - alpha"
   ]
  },
  {
   "cell_type": "code",
   "execution_count": 10,
   "metadata": {},
   "outputs": [
    {
     "name": "stdout",
     "output_type": "stream",
     "text": [
      "Predicting on day 1008, date 2017-01-03 00:00:00, with forecast horizon H = 21\n"
     ]
    }
   ],
   "source": [
    "i = train_val_size # Predict for day i, for the next H-1 days. Note indexing of days start from 0.\n",
    "print(\"Predicting on day %d, date %s, with forecast horizon H = %d\" % (i, df.iloc[i]['date'], H))"
   ]
  },
  {
   "cell_type": "code",
   "execution_count": 11,
   "metadata": {},
   "outputs": [
    {
     "name": "stdout",
     "output_type": "stream",
     "text": [
      "alpha_opt = 0.9300000000000006\n"
     ]
    },
    {
     "data": {
      "text/html": [
       "<div>\n",
       "<style scoped>\n",
       "    .dataframe tbody tr th:only-of-type {\n",
       "        vertical-align: middle;\n",
       "    }\n",
       "\n",
       "    .dataframe tbody tr th {\n",
       "        vertical-align: top;\n",
       "    }\n",
       "\n",
       "    .dataframe thead th {\n",
       "        text-align: right;\n",
       "    }\n",
       "</style>\n",
       "<table border=\"1\" class=\"dataframe\">\n",
       "  <thead>\n",
       "    <tr style=\"text-align: right;\">\n",
       "      <th></th>\n",
       "      <th>alpha</th>\n",
       "      <th>rmse</th>\n",
       "      <th>mape</th>\n",
       "      <th>mae</th>\n",
       "    </tr>\n",
       "  </thead>\n",
       "  <tbody>\n",
       "    <tr>\n",
       "      <td>0</td>\n",
       "      <td>0.01</td>\n",
       "      <td>4.550295</td>\n",
       "      <td>4.251524</td>\n",
       "      <td>4.337565</td>\n",
       "    </tr>\n",
       "    <tr>\n",
       "      <td>1</td>\n",
       "      <td>0.02</td>\n",
       "      <td>3.628145</td>\n",
       "      <td>3.378847</td>\n",
       "      <td>3.414572</td>\n",
       "    </tr>\n",
       "    <tr>\n",
       "      <td>2</td>\n",
       "      <td>0.03</td>\n",
       "      <td>3.158689</td>\n",
       "      <td>2.910622</td>\n",
       "      <td>2.928081</td>\n",
       "    </tr>\n",
       "    <tr>\n",
       "      <td>3</td>\n",
       "      <td>0.04</td>\n",
       "      <td>2.894900</td>\n",
       "      <td>2.653376</td>\n",
       "      <td>2.664471</td>\n",
       "    </tr>\n",
       "    <tr>\n",
       "      <td>4</td>\n",
       "      <td>0.05</td>\n",
       "      <td>2.729002</td>\n",
       "      <td>2.475282</td>\n",
       "      <td>2.483479</td>\n",
       "    </tr>\n",
       "    <tr>\n",
       "      <td>...</td>\n",
       "      <td>...</td>\n",
       "      <td>...</td>\n",
       "      <td>...</td>\n",
       "      <td>...</td>\n",
       "    </tr>\n",
       "    <tr>\n",
       "      <td>94</td>\n",
       "      <td>0.95</td>\n",
       "      <td>2.103324</td>\n",
       "      <td>1.840294</td>\n",
       "      <td>1.842283</td>\n",
       "    </tr>\n",
       "    <tr>\n",
       "      <td>95</td>\n",
       "      <td>0.96</td>\n",
       "      <td>2.103329</td>\n",
       "      <td>1.840115</td>\n",
       "      <td>1.842112</td>\n",
       "    </tr>\n",
       "    <tr>\n",
       "      <td>96</td>\n",
       "      <td>0.97</td>\n",
       "      <td>2.103337</td>\n",
       "      <td>1.839947</td>\n",
       "      <td>1.841953</td>\n",
       "    </tr>\n",
       "    <tr>\n",
       "      <td>97</td>\n",
       "      <td>0.98</td>\n",
       "      <td>2.103348</td>\n",
       "      <td>1.839837</td>\n",
       "      <td>1.841852</td>\n",
       "    </tr>\n",
       "    <tr>\n",
       "      <td>98</td>\n",
       "      <td>0.99</td>\n",
       "      <td>2.103362</td>\n",
       "      <td>1.839744</td>\n",
       "      <td>1.841768</td>\n",
       "    </tr>\n",
       "  </tbody>\n",
       "</table>\n",
       "<p>99 rows × 4 columns</p>\n",
       "</div>"
      ],
      "text/plain": [
       "    alpha      rmse      mape       mae\n",
       "0    0.01  4.550295  4.251524  4.337565\n",
       "1    0.02  3.628145  3.378847  3.414572\n",
       "2    0.03  3.158689  2.910622  2.928081\n",
       "3    0.04  2.894900  2.653376  2.664471\n",
       "4    0.05  2.729002  2.475282  2.483479\n",
       "..    ...       ...       ...       ...\n",
       "94   0.95  2.103324  1.840294  1.842283\n",
       "95   0.96  2.103329  1.840115  1.842112\n",
       "96   0.97  2.103337  1.839947  1.841953\n",
       "97   0.98  2.103348  1.839837  1.841852\n",
       "98   0.99  2.103362  1.839744  1.841768\n",
       "\n",
       "[99 rows x 4 columns]"
      ]
     },
     "execution_count": 11,
     "metadata": {},
     "output_type": "execute_result"
    }
   ],
   "source": [
    "# Get optimum hyperparams\n",
    "alpha_opt, alpha_err_df = hyperparam_tune_alpha(df['adj_close'][i-train_val_size:i].values, train_size, H)\n",
    "print(\"alpha_opt = \" + str(alpha_opt))\n",
    "alpha_err_df"
   ]
  },
  {
   "cell_type": "code",
   "execution_count": 12,
   "metadata": {},
   "outputs": [
    {
     "name": "stdout",
     "output_type": "stream",
     "text": [
      "For forecast horizon 21, predicting on day 1008, date 2017-01-03 00:00:00, the RMSE is 1.881245\n",
      "For forecast horizon 21, predicting on day 1008, date 2017-01-03 00:00:00, the mean MAPE is 1.589204\n",
      "For forecast horizon 21, predicting on day 1008, date 2017-01-03 00:00:00, the mean MAE is 1.797025\n"
     ]
    }
   ],
   "source": [
    "# Predict\n",
    "preds_list = exponential_smoothing(df['adj_close'][i-train_val_size:i].values, H, alpha_opt)\n",
    "print(\"For forecast horizon %d, predicting on day %d, date %s, the RMSE is %f\" % (H, i, df['date'][i], get_rmse(df[i:i+H]['adj_close'], preds_list)))\n",
    "print(\"For forecast horizon %d, predicting on day %d, date %s, the mean MAPE is %f\" % (H, i, df['date'][i], get_mape(df[i:i+H]['adj_close'], preds_list)))\n",
    "print(\"For forecast horizon %d, predicting on day %d, date %s, the mean MAE is %f\" % (H, i, df['date'][i], get_mae(df[i:i+H]['adj_close'], preds_list)))"
   ]
  },
  {
   "cell_type": "code",
   "execution_count": 13,
   "metadata": {},
   "outputs": [
    {
     "data": {
      "text/plain": [
       "(736269.0, 736388.0)"
      ]
     },
     "execution_count": 13,
     "metadata": {},
     "output_type": "execute_result"
    },
    {
     "data": {
      "image/png": "[encoded data removed]",
      "text/plain": [
       "<Figure size 720x576 with 1 Axes>"
      ]
     },
     "metadata": {
      "needs_background": "light"
     },
     "output_type": "display_data"
    }
   ],
   "source": [
    "# Plot the predictions\n",
    "rcParams['figure.figsize'] = 10, 8 # width 10, height 8\n",
    "matplotlib.rcParams.update({'font.size': 14})\n",
    "\n",
    "ax = df.plot(x='date', y='adj_close', style='bx-', grid=True)\n",
    "\n",
    "# Plot the predictions\n",
    "ax.plot(df['date'][i:i+H], preds_list, marker='x')\n",
    "    \n",
    "ax.set_xlabel(\"date\")\n",
    "ax.set_ylabel(\"USD\")\n",
    "ax.legend(['adj_close', 'predictions'])\n",
    "ax.set_ylim([105, 120])\n",
    "ax.set_xlim([date(2016, 11, 1), date(2017, 2, 28)])"
   ]
  },
  {
   "cell_type": "markdown",
   "metadata": {},
   "source": [
    "# Predict for a specific H (forecast horizon), and various dates, using model trained in previous step"
   ]
  },
  {
   "cell_type": "code",
   "execution_count": 14,
   "metadata": {},
   "outputs": [],
   "source": [
    "alpha_opt = 0.935"
   ]
  },
  {
   "cell_type": "code",
   "execution_count": 15,
   "metadata": {},
   "outputs": [
    {
     "name": "stdout",
     "output_type": "stream",
     "text": [
      "Predicting on day 1008, date 2017-01-03 00:00:00\n",
      "Predicting on day 1050, date 2017-03-06 00:00:00\n",
      "Predicting on day 1092, date 2017-05-04 00:00:00\n",
      "Predicting on day 1134, date 2017-07-05 00:00:00\n",
      "Predicting on day 1176, date 2017-09-01 00:00:00\n",
      "Predicting on day 1218, date 2017-11-01 00:00:00\n",
      "Predicting on day 1260, date 2018-01-03 00:00:00\n",
      "Predicting on day 1302, date 2018-03-06 00:00:00\n",
      "Predicting on day 1344, date 2018-05-04 00:00:00\n",
      "Predicting on day 1386, date 2018-07-05 00:00:00\n",
      "Predicting on day 1428, date 2018-09-04 00:00:00\n",
      "Predicting on day 1470, date 2018-11-01 00:00:00\n",
      "Altogether we made 12 forecasts, each of length 21 days\n"
     ]
    }
   ],
   "source": [
    "# Predict and compute error metrics also\n",
    "rmse = [] # root mean square error\n",
    "mape = [] # mean absolute percentage error\n",
    "mae = []  # mean absolute error\n",
    "day = []  # dates where the forecast is made\n",
    "preds_dict = {}\n",
    "i_list = range(train_val_size, train_val_size+84*5+42+1, 42)\n",
    "for i in i_list:\n",
    "    print(\"Predicting on day %d, date %s\" % (i, df.iloc[i]['date']))\n",
    "        \n",
    "    preds_list = exponential_smoothing(df['adj_close'][i-train_val_size:i].values, H, alpha_opt)\n",
    "    \n",
    "    # Collect the predictions\n",
    "    preds_dict[i] = preds_list\n",
    "    \n",
    "    # Compute error metrics\n",
    "    rmse.append(get_rmse(df[i:i+H]['adj_close'], preds_list))\n",
    "    mape.append(get_mape(df[i:i+H]['adj_close'], preds_list))\n",
    "    mae.append(get_mae(df[i:i+H]['adj_close'], preds_list))\n",
    "    day.append(df.iloc[i]['date'])\n",
    "\n",
    "print(\"Altogether we made %d forecasts, each of length %d days\" % (len(rmse), H))"
   ]
  },
  {
   "cell_type": "code",
   "execution_count": 16,
   "metadata": {},
   "outputs": [
    {
     "name": "stdout",
     "output_type": "stream",
     "text": [
      "For forecast horizon 21, the mean RMSE is 2.530562\n",
      "For forecast horizon 21, the mean MAPE is 1.688384\n",
      "For forecast horizon 21, the mean MAE is 2.259529\n"
     ]
    }
   ],
   "source": [
    "print(\"For forecast horizon %d, the mean RMSE is %f\" % (H, np.mean(rmse)))\n",
    "print(\"For forecast horizon %d, the mean MAPE is %f\" % (H, np.mean(mape)))\n",
    "print(\"For forecast horizon %d, the mean MAE is %f\" % (H, np.mean(mae)))"
   ]
  },
  {
   "cell_type": "code",
   "execution_count": 17,
   "metadata": {},
   "outputs": [
    {
     "data": {
      "text/html": [
       "<div>\n",
       "<style scoped>\n",
       "    .dataframe tbody tr th:only-of-type {\n",
       "        vertical-align: middle;\n",
       "    }\n",
       "\n",
       "    .dataframe tbody tr th {\n",
       "        vertical-align: top;\n",
       "    }\n",
       "\n",
       "    .dataframe thead th {\n",
       "        text-align: right;\n",
       "    }\n",
       "</style>\n",
       "<table border=\"1\" class=\"dataframe\">\n",
       "  <thead>\n",
       "    <tr style=\"text-align: right;\">\n",
       "      <th></th>\n",
       "      <th>day</th>\n",
       "      <th>alpha_opt</th>\n",
       "      <th>rmse</th>\n",
       "      <th>mape</th>\n",
       "      <th>mae</th>\n",
       "    </tr>\n",
       "  </thead>\n",
       "  <tbody>\n",
       "    <tr>\n",
       "      <td>0</td>\n",
       "      <td>2017-01-03</td>\n",
       "      <td>0.935</td>\n",
       "      <td>1.881302</td>\n",
       "      <td>1.589308</td>\n",
       "      <td>1.797141</td>\n",
       "    </tr>\n",
       "    <tr>\n",
       "      <td>1</td>\n",
       "      <td>2017-03-06</td>\n",
       "      <td>0.935</td>\n",
       "      <td>1.222592</td>\n",
       "      <td>0.887564</td>\n",
       "      <td>1.036890</td>\n",
       "    </tr>\n",
       "    <tr>\n",
       "      <td>2</td>\n",
       "      <td>2017-05-04</td>\n",
       "      <td>0.935</td>\n",
       "      <td>1.129480</td>\n",
       "      <td>0.767605</td>\n",
       "      <td>0.918951</td>\n",
       "    </tr>\n",
       "    <tr>\n",
       "      <td>3</td>\n",
       "      <td>2017-07-05</td>\n",
       "      <td>0.935</td>\n",
       "      <td>1.742966</td>\n",
       "      <td>1.245447</td>\n",
       "      <td>1.534313</td>\n",
       "    </tr>\n",
       "    <tr>\n",
       "      <td>4</td>\n",
       "      <td>2017-09-01</td>\n",
       "      <td>0.935</td>\n",
       "      <td>1.815256</td>\n",
       "      <td>1.266995</td>\n",
       "      <td>1.589713</td>\n",
       "    </tr>\n",
       "    <tr>\n",
       "      <td>5</td>\n",
       "      <td>2017-11-01</td>\n",
       "      <td>0.935</td>\n",
       "      <td>1.464338</td>\n",
       "      <td>0.780284</td>\n",
       "      <td>1.024227</td>\n",
       "    </tr>\n",
       "    <tr>\n",
       "      <td>6</td>\n",
       "      <td>2018-01-03</td>\n",
       "      <td>0.935</td>\n",
       "      <td>5.279057</td>\n",
       "      <td>3.407760</td>\n",
       "      <td>4.818316</td>\n",
       "    </tr>\n",
       "    <tr>\n",
       "      <td>7</td>\n",
       "      <td>2018-03-06</td>\n",
       "      <td>0.935</td>\n",
       "      <td>3.354236</td>\n",
       "      <td>2.040945</td>\n",
       "      <td>2.742857</td>\n",
       "    </tr>\n",
       "    <tr>\n",
       "      <td>8</td>\n",
       "      <td>2018-05-04</td>\n",
       "      <td>0.935</td>\n",
       "      <td>4.837488</td>\n",
       "      <td>3.378549</td>\n",
       "      <td>4.675339</td>\n",
       "    </tr>\n",
       "    <tr>\n",
       "      <td>9</td>\n",
       "      <td>2018-07-05</td>\n",
       "      <td>0.935</td>\n",
       "      <td>4.414316</td>\n",
       "      <td>2.981643</td>\n",
       "      <td>4.277966</td>\n",
       "    </tr>\n",
       "    <tr>\n",
       "      <td>10</td>\n",
       "      <td>2018-09-04</td>\n",
       "      <td>0.935</td>\n",
       "      <td>0.705963</td>\n",
       "      <td>0.382475</td>\n",
       "      <td>0.566923</td>\n",
       "    </tr>\n",
       "    <tr>\n",
       "      <td>11</td>\n",
       "      <td>2018-11-01</td>\n",
       "      <td>0.935</td>\n",
       "      <td>2.519752</td>\n",
       "      <td>1.532039</td>\n",
       "      <td>2.131709</td>\n",
       "    </tr>\n",
       "  </tbody>\n",
       "</table>\n",
       "</div>"
      ],
      "text/plain": [
       "          day  alpha_opt      rmse      mape       mae\n",
       "0  2017-01-03      0.935  1.881302  1.589308  1.797141\n",
       "1  2017-03-06      0.935  1.222592  0.887564  1.036890\n",
       "2  2017-05-04      0.935  1.129480  0.767605  0.918951\n",
       "3  2017-07-05      0.935  1.742966  1.245447  1.534313\n",
       "4  2017-09-01      0.935  1.815256  1.266995  1.589713\n",
       "5  2017-11-01      0.935  1.464338  0.780284  1.024227\n",
       "6  2018-01-03      0.935  5.279057  3.407760  4.818316\n",
       "7  2018-03-06      0.935  3.354236  2.040945  2.742857\n",
       "8  2018-05-04      0.935  4.837488  3.378549  4.675339\n",
       "9  2018-07-05      0.935  4.414316  2.981643  4.277966\n",
       "10 2018-09-04      0.935  0.705963  0.382475  0.566923\n",
       "11 2018-11-01      0.935  2.519752  1.532039  2.131709"
      ]
     },
     "execution_count": 17,
     "metadata": {},
     "output_type": "execute_result"
    }
   ],
   "source": [
    "results_final_no_tune = pd.DataFrame({'day': day,\n",
    "                                      'alpha_opt': [alpha_opt]*len(i_list),\n",
    "                                      'rmse': rmse,\n",
    "                                      'mape': mape,\n",
    "                                      'mae': mae})\n",
    "results_final_no_tune"
   ]
  },
  {
   "cell_type": "code",
   "execution_count": 18,
   "metadata": {
    "scrolled": false
   },
   "outputs": [
    {
     "data": {
      "text/plain": [
       "(736330.0, 737059.0)"
      ]
     },
     "execution_count": 18,
     "metadata": {},
     "output_type": "execute_result"
    },
    {
     "data": {
      "image/png": "[encoded data removed]",
      "text/plain": [
       "<Figure size 720x576 with 1 Axes>"
      ]
     },
     "metadata": {
      "needs_background": "light"
     },
     "output_type": "display_data"
    }
   ],
   "source": [
    "# Plot the predictions, and zoom in\n",
    "rcParams['figure.figsize'] = 10, 8 # width 10, height 8\n",
    "\n",
    "ax = df.plot(x='date', y='adj_close', style='b-', grid=True)\n",
    "\n",
    "# Plot the predictions\n",
    "for key in preds_dict:\n",
    "    ax.plot(df['date'][key:key+H], preds_dict[key])\n",
    "    \n",
    "ax.set_xlabel(\"date\")\n",
    "ax.set_ylabel(\"USD\")\n",
    "ax.legend(['adj_close', 'predictions'])\n",
    "ax.set_ylim([105, 150])\n",
    "ax.set_xlim([date(2017, 1, 1), date(2018, 12, 31)])"
   ]
  },
  {
   "cell_type": "markdown",
   "metadata": {},
   "source": [
    "# Predict for a specific H (forecast horizon), and various dates, tuning model for every prediction"
   ]
  },
  {
   "cell_type": "code",
   "execution_count": 19,
   "metadata": {},
   "outputs": [
    {
     "name": "stdout",
     "output_type": "stream",
     "text": [
      "Predicting on day 1008, date 2017-01-03 00:00:00\n",
      "Predicting on day 1050, date 2017-03-06 00:00:00\n",
      "Predicting on day 1092, date 2017-05-04 00:00:00\n",
      "Predicting on day 1134, date 2017-07-05 00:00:00\n",
      "Predicting on day 1176, date 2017-09-01 00:00:00\n",
      "Predicting on day 1218, date 2017-11-01 00:00:00\n",
      "Predicting on day 1260, date 2018-01-03 00:00:00\n",
      "Predicting on day 1302, date 2018-03-06 00:00:00\n",
      "Predicting on day 1344, date 2018-05-04 00:00:00\n",
      "Predicting on day 1386, date 2018-07-05 00:00:00\n",
      "Predicting on day 1428, date 2018-09-04 00:00:00\n",
      "Predicting on day 1470, date 2018-11-01 00:00:00\n",
      "Altogether we made 12 forecasts, each of length 21 days\n"
     ]
    }
   ],
   "source": [
    "# Predict and compute error metrics also\n",
    "rmse = [] # root mean square error\n",
    "mape = [] # mean absolute percentage error\n",
    "mae = []  # mean absolute error\n",
    "alpha_opt_list = [] # optimum hyperparamters\n",
    "day = []  # dates where the forecast is made\n",
    "preds_dict = {}\n",
    "i_list = range(train_val_size, train_val_size+84*5+42+1, 42)\n",
    "for i in i_list:\n",
    "    print(\"Predicting on day %d, date %s\" % (i, df.iloc[i]['date']))\n",
    "    \n",
    "    # Get optimum hyperparams\n",
    "    alpha_opt, alpha_err_df = hyperparam_tune_alpha(df['adj_close'][i-train_val_size:i].values, train_size, H)\n",
    "        \n",
    "    preds_list = exponential_smoothing(df['adj_close'][i-train_val_size:i].values, H, alpha_opt)\n",
    "    \n",
    "    # Collect the predictions\n",
    "    preds_dict[i] = preds_list\n",
    "    \n",
    "    # Compute error metrics\n",
    "    rmse.append(get_rmse(df[i:i+H]['adj_close'], preds_list))\n",
    "    mape.append(get_mape(df[i:i+H]['adj_close'], preds_list))\n",
    "    mae.append(get_mae(df[i:i+H]['adj_close'], preds_list))\n",
    "    alpha_opt_list.append(alpha_opt)\n",
    "    day.append(df.iloc[i]['date'])\n",
    "\n",
    "print(\"Altogether we made %d forecasts, each of length %d days\" % (len(rmse), H))"
   ]
  },
  {
   "cell_type": "code",
   "execution_count": 20,
   "metadata": {},
   "outputs": [
    {
     "name": "stdout",
     "output_type": "stream",
     "text": [
      "For forecast horizon 21, the mean RMSE is 2.522620\n",
      "For forecast horizon 21, the mean MAPE is 1.685203\n",
      "For forecast horizon 21, the mean MAE is 2.254788\n"
     ]
    }
   ],
   "source": [
    "print(\"For forecast horizon %d, the mean RMSE is %f\" % (H, np.mean(rmse)))\n",
    "print(\"For forecast horizon %d, the mean MAPE is %f\" % (H, np.mean(mape)))\n",
    "print(\"For forecast horizon %d, the mean MAE is %f\" % (H, np.mean(mae)))"
   ]
  },
  {
   "cell_type": "code",
   "execution_count": 21,
   "metadata": {},
   "outputs": [
    {
     "data": {
      "text/html": [
       "<div>\n",
       "<style scoped>\n",
       "    .dataframe tbody tr th:only-of-type {\n",
       "        vertical-align: middle;\n",
       "    }\n",
       "\n",
       "    .dataframe tbody tr th {\n",
       "        vertical-align: top;\n",
       "    }\n",
       "\n",
       "    .dataframe thead th {\n",
       "        text-align: right;\n",
       "    }\n",
       "</style>\n",
       "<table border=\"1\" class=\"dataframe\">\n",
       "  <thead>\n",
       "    <tr style=\"text-align: right;\">\n",
       "      <th></th>\n",
       "      <th>day</th>\n",
       "      <th>alpha_opt</th>\n",
       "      <th>rmse</th>\n",
       "      <th>mape</th>\n",
       "      <th>mae</th>\n",
       "    </tr>\n",
       "  </thead>\n",
       "  <tbody>\n",
       "    <tr>\n",
       "      <td>0</td>\n",
       "      <td>2017-01-03</td>\n",
       "      <td>0.93</td>\n",
       "      <td>1.881245</td>\n",
       "      <td>1.589204</td>\n",
       "      <td>1.797025</td>\n",
       "    </tr>\n",
       "    <tr>\n",
       "      <td>1</td>\n",
       "      <td>2017-03-06</td>\n",
       "      <td>0.71</td>\n",
       "      <td>1.222661</td>\n",
       "      <td>0.887712</td>\n",
       "      <td>1.037065</td>\n",
       "    </tr>\n",
       "    <tr>\n",
       "      <td>2</td>\n",
       "      <td>2017-05-04</td>\n",
       "      <td>0.92</td>\n",
       "      <td>1.129448</td>\n",
       "      <td>0.767405</td>\n",
       "      <td>0.918713</td>\n",
       "    </tr>\n",
       "    <tr>\n",
       "      <td>3</td>\n",
       "      <td>2017-07-05</td>\n",
       "      <td>0.99</td>\n",
       "      <td>1.742936</td>\n",
       "      <td>1.244853</td>\n",
       "      <td>1.533591</td>\n",
       "    </tr>\n",
       "    <tr>\n",
       "      <td>4</td>\n",
       "      <td>2017-09-01</td>\n",
       "      <td>0.59</td>\n",
       "      <td>1.817346</td>\n",
       "      <td>1.270940</td>\n",
       "      <td>1.594696</td>\n",
       "    </tr>\n",
       "    <tr>\n",
       "      <td>5</td>\n",
       "      <td>2017-11-01</td>\n",
       "      <td>0.85</td>\n",
       "      <td>1.464432</td>\n",
       "      <td>0.781007</td>\n",
       "      <td>1.025162</td>\n",
       "    </tr>\n",
       "    <tr>\n",
       "      <td>6</td>\n",
       "      <td>2018-01-03</td>\n",
       "      <td>0.82</td>\n",
       "      <td>5.280246</td>\n",
       "      <td>3.412198</td>\n",
       "      <td>4.824378</td>\n",
       "    </tr>\n",
       "    <tr>\n",
       "      <td>7</td>\n",
       "      <td>2018-03-06</td>\n",
       "      <td>0.95</td>\n",
       "      <td>3.354004</td>\n",
       "      <td>2.040003</td>\n",
       "      <td>2.741561</td>\n",
       "    </tr>\n",
       "    <tr>\n",
       "      <td>8</td>\n",
       "      <td>2018-05-04</td>\n",
       "      <td>0.99</td>\n",
       "      <td>4.837921</td>\n",
       "      <td>3.379432</td>\n",
       "      <td>4.676532</td>\n",
       "    </tr>\n",
       "    <tr>\n",
       "      <td>9</td>\n",
       "      <td>2018-07-05</td>\n",
       "      <td>0.68</td>\n",
       "      <td>4.412728</td>\n",
       "      <td>2.978847</td>\n",
       "      <td>4.274031</td>\n",
       "    </tr>\n",
       "    <tr>\n",
       "      <td>10</td>\n",
       "      <td>2018-09-04</td>\n",
       "      <td>0.22</td>\n",
       "      <td>0.611503</td>\n",
       "      <td>0.341991</td>\n",
       "      <td>0.507449</td>\n",
       "    </tr>\n",
       "    <tr>\n",
       "      <td>11</td>\n",
       "      <td>2018-11-01</td>\n",
       "      <td>0.99</td>\n",
       "      <td>2.516965</td>\n",
       "      <td>1.528843</td>\n",
       "      <td>2.127258</td>\n",
       "    </tr>\n",
       "  </tbody>\n",
       "</table>\n",
       "</div>"
      ],
      "text/plain": [
       "          day  alpha_opt      rmse      mape       mae\n",
       "0  2017-01-03       0.93  1.881245  1.589204  1.797025\n",
       "1  2017-03-06       0.71  1.222661  0.887712  1.037065\n",
       "2  2017-05-04       0.92  1.129448  0.767405  0.918713\n",
       "3  2017-07-05       0.99  1.742936  1.244853  1.533591\n",
       "4  2017-09-01       0.59  1.817346  1.270940  1.594696\n",
       "5  2017-11-01       0.85  1.464432  0.781007  1.025162\n",
       "6  2018-01-03       0.82  5.280246  3.412198  4.824378\n",
       "7  2018-03-06       0.95  3.354004  2.040003  2.741561\n",
       "8  2018-05-04       0.99  4.837921  3.379432  4.676532\n",
       "9  2018-07-05       0.68  4.412728  2.978847  4.274031\n",
       "10 2018-09-04       0.22  0.611503  0.341991  0.507449\n",
       "11 2018-11-01       0.99  2.516965  1.528843  2.127258"
      ]
     },
     "execution_count": 21,
     "metadata": {},
     "output_type": "execute_result"
    }
   ],
   "source": [
    "# results\n",
    "results_final_no_tune = pd.DataFrame({'day': day,\n",
    "                                      'alpha_opt': alpha_opt_list,\n",
    "                                      'rmse': rmse,\n",
    "                                      'mape': mape,\n",
    "                                      'mae': mae})\n",
    "results_final_no_tune"
   ]
  },
  {
   "cell_type": "code",
   "execution_count": 22,
   "metadata": {
    "scrolled": false
   },
   "outputs": [
    {
     "data": {
      "text/plain": [
       "(736330.0, 737059.0)"
      ]
     },
     "execution_count": 22,
     "metadata": {},
     "output_type": "execute_result"
    },
    {
     "data": {
      "image/png": "[encoded data removed]",
      "text/plain": [
       "<Figure size 720x576 with 1 Axes>"
      ]
     },
     "metadata": {
      "needs_background": "light"
     },
     "output_type": "display_data"
    }
   ],
   "source": [
    "# Plot the predictions, and zoom in\n",
    "rcParams['figure.figsize'] = 10, 8 # width 10, height 8\n",
    "\n",
    "ax = df.plot(x='date', y='adj_close', style='b-', grid=True)\n",
    "\n",
    "# Plot the predictions\n",
    "for key in preds_dict:\n",
    "    ax.plot(df['date'][key:key+H], preds_dict[key])\n",
    "    \n",
    "ax.set_xlabel(\"date\")\n",
    "ax.set_ylabel(\"USD\")\n",
    "ax.legend(['adj_close', 'forecasts'])\n",
    "ax.set_ylim([105, 150])\n",
    "ax.set_xlim([date(2017, 1, 1), date(2018, 12, 31)])"
   ]
  },
  {
   "cell_type": "code",
   "execution_count": 23,
   "metadata": {},
   "outputs": [
    {
     "data": {
      "image/png": "[encoded data removed]",
      "text/plain": [
       "<Figure size 720x576 with 1 Axes>"
      ]
     },
     "metadata": {
      "needs_background": "light"
     },
     "output_type": "display_data"
    }
   ],
   "source": [
    "# Plot scatter plot of actual values vs. predictions\n",
    "for key in preds_dict:\n",
    "    plt.plot(df['adj_close'][key:key+H], preds_dict[key], 'x')\n",
    "    \n",
    "plt.plot(range(int(min(min(preds_dict.values()))), int(max(max(preds_dict.values())))+2, 1), \n",
    "         range(int(min(min(preds_dict.values()))), int(max(max(preds_dict.values())))+2, 1), 'b-')\n",
    "    \n",
    "plt.xlabel('adj_close')\n",
    "plt.ylabel('forecasts')\n",
    "plt.grid()"
   ]
  },
  {
   "cell_type": "markdown",
   "metadata": {},
   "source": [
    "# Findings"
   ]
  },
  {
   "cell_type": "markdown",
   "metadata": {},
   "source": [
    "With hyperparameter tuning, RMSE reduced from 2.530562 to 2.522652."
   ]
  },
  {
   "cell_type": "code",
   "execution_count": null,
   "metadata": {},
   "outputs": [],
   "source": []
  }
 ],
 "metadata": {
  "kernelspec": {
   "display_name": "Python 3",
   "language": "python",
   "name": "python3"
  },
  "language_info": {
   "codemirror_mode": {
    "name": "ipython",
    "version": 3
   },
   "file_extension": ".py",
   "mimetype": "text/x-python",
   "name": "python",
   "nbconvert_exporter": "python",
   "pygments_lexer": "ipython3",
   "version": "3.7.3"
  }
 },
 "nbformat": 4,
 "nbformat_minor": 4
}
